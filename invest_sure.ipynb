{
 "cells": [
  {
   "cell_type": "code",
   "execution_count": 62,
   "metadata": {
    "collapsed": true,
    "pycharm": {
     "name": "#%%\n"
    }
   },
   "outputs": [],
   "source": [
    "import pandas as pd\n",
    "import numpy as np\n",
    "import matplotlib.pyplot as plt\n",
    "import seaborn as sns\n",
    "from sklearn.metrics import accuracy_score, f1_score\n",
    "\n",
    "%matplotlib inline\n",
    "\n",
    "# suppress warnings from final output\n",
    "import warnings\n",
    "warnings.simplefilter(\"ignore\")\n",
    "\n",
    "# To suppress numeric values from being returned in exponential format\n",
    "pd.options.display.float_format = '{:20,.2f}'.format\n",
    "\n",
    "# To display all charts against a white background\n",
    "plt.style.use('seaborn-whitegrid')"
   ]
  },
  {
   "cell_type": "markdown",
   "source": [
    "### Step 1: A description of the data used in the project\n",
    "\n",
    "InvestSure is a fictional investment company that manages the retirement accounts of its customers. It gets a dump of many data elements in CSV and JSON formats from transactional and external systems. The data that I have picked up for this project is a subset of all the data that is available. The company wants me to use this data and build a recommendation engine to suggest funds to its customers.\n",
    "\n",
    "---\n",
    "\n",
    "There are three main datasets in this project:\n",
    "* **_Customers_**: This dataset contains details of the customers of InvestSure. There are approximately 21,000 customers in this dataset. The schema is described below:\n",
    "    * _customer_id_: A monotonically increasing unique identifier for a customer\n",
    "    * _first_name_: Customer's first name\n",
    "    * _last_name_: Customer's last name\n",
    "    * _city_: The city that the Customer lives in\n",
    "    * _state_code_: The two character code of the state that the Customer lives in\n",
    "    * _zip_: The zipcode of the Customer's address\n",
    "    * _latitude_ and _longitude_: The geo-coordinates of the customer\n",
    "    * _opportunity_: A numerical value that gives the total amount that the customer is willing to invest. This is recalculated daily based on the customer's total purchases over the entire history of the customer's interactions with the company.\n",
    "* **_Mutual Funds_**: This dataset contains details of the Mutual Funds that the company offers to its customers for investing. There are approximately 24,000 mutual funds that the company carries on its investment platform. The details that are included are listed below:\n",
    "    * _symbol_: The ticker symbol of the mutual fund\n",
    "    * _name_: The name of the mutual fund\n",
    "    * _init_inv_: The initial investment that the mutual fund requires when a customer first purchases it\n",
    "    * _tna_: The Total Net Asset value of the fund. This is computed by the closing price of the mutual fund multiplied by the number of units of the fund that the fund company has sold.\n",
    "    * _ytd_return_: An important metric, the Year-to-date Return indicates how much the mutual fund has returned to its investors in percentage terms. Negative values are possible and indicate a loss of capital.\n",
    "    * _ms_rating_: Another crucial metric, this is the overall rating given to the fund by Morningstar,  a company that rates mutual funds on a scale of 1 to 5 with 5 being the highest. More details can be found here https://www.morningstar.com/company/morningstar-ratings-faq.\n",
    "    * _inv_type_: This takes three possible values: Growth, Value and Blend. It indicates whether the primary purpose of the fund is capital appreciation, value increase or both. It plays an important role in the fund's evaluation.\n",
    "    * _size_type_: This categorizes the fund into small, medium and large and indicates the size of the companies that the fund invests in based on their capitalization. This is another important metric that is used in evaluating funds.\n",
    "    * _exp_ratio_: This is a numeric value that specifies how much the fund company charges investors for managing the fund. This is a crucial metric that helps investors decide whether to buy the fund or not. High expense ratios are generally avoided unless they are backed by above normal returns.\n",
    "* _Transactions_: This dataset contains details of the customer's transactions. These are sales and redemptions of the fund (those two terms are used as viewed from InvestSure). There are approximately a million transactions in this dataset. The details that are captured are:\n",
    "    * _txn_id_: A monotonically increasing integer value that uniquely identifies each transaction\n",
    "    * _txn_date_: The date that the transaction took place. Useful for calculating trend analysis\n",
    "    * _customer_id_: The Id of the Customer that created the transaction. Maps to a row in the Customer dataset above.\n",
    "    * _symbol_: The ticker symbol of the fund against which the transaction is made. Maps to a row in the Mutual Funds dataset above.\n",
    "    * _sales_: The sale value of the transaction if it is a fund sale\n",
    "    * _redemptions_: The redemption value of the transaction if it is a liquidation of the whole or a part of the customer's holdings in a fund"
   ],
   "metadata": {
    "collapsed": false,
    "pycharm": {
     "name": "#%% md\n"
    }
   }
  },
  {
   "cell_type": "markdown",
   "source": [
    "### Step 2: Loading Data\n",
    "\n",
    "In the following cells, this data is loaded into Pandas dataframes and some preliminary analyses is done on those datasets to look at their schema, sample data, size and some basic statistics."
   ],
   "metadata": {
    "collapsed": false,
    "pycharm": {
     "name": "#%% md\n"
    }
   }
  },
  {
   "cell_type": "code",
   "execution_count": 63,
   "outputs": [],
   "source": [
    "df_customer = pd.read_csv('./data/customer.csv')"
   ],
   "metadata": {
    "collapsed": false,
    "pycharm": {
     "name": "#%%\n"
    }
   }
  },
  {
   "cell_type": "code",
   "execution_count": 64,
   "outputs": [
    {
     "name": "stdout",
     "output_type": "stream",
     "text": [
      "<class 'pandas.core.frame.DataFrame'>\n",
      "RangeIndex: 20951 entries, 0 to 20950\n",
      "Data columns (total 10 columns):\n",
      " #   Column       Non-Null Count  Dtype  \n",
      "---  ------       --------------  -----  \n",
      " 0   customer_id  20951 non-null  int64  \n",
      " 1   first_name   20951 non-null  object \n",
      " 2   last_name    20951 non-null  object \n",
      " 3   city         20951 non-null  object \n",
      " 4   state_code   15238 non-null  object \n",
      " 5   zip          20951 non-null  int64  \n",
      " 6   country      20951 non-null  object \n",
      " 7   latitude     20951 non-null  float64\n",
      " 8   longitude    20951 non-null  float64\n",
      " 9   opportunity  20951 non-null  int64  \n",
      "dtypes: float64(2), int64(3), object(5)\n",
      "memory usage: 1.6+ MB\n"
     ]
    }
   ],
   "source": [
    "df_customer.info(verbose=True)"
   ],
   "metadata": {
    "collapsed": false,
    "pycharm": {
     "name": "#%%\n"
    }
   }
  },
  {
   "cell_type": "code",
   "execution_count": 65,
   "outputs": [
    {
     "data": {
      "text/plain": "   customer_id first_name last_name      city state_code  zip country  \\\n0        50037  Franklinc    Spango  San Juan         PR  917     USA   \n1        50038     Derrel   Cazzell  San Juan         PR  918     USA   \n2        50039    Mayrely    Deitel  San Juan         PR  918     USA   \n3        50040      Beena    Karpay  San Juan         PR  918     USA   \n4        50041    Malachi     Winik  San Juan         PR  918     USA   \n\n              latitude            longitude  opportunity  \n0                39.56              -119.49        30000  \n1                18.47               -66.11       105000  \n2                39.56              -119.49        10000  \n3                39.56              -119.49       105000  \n4                18.47               -66.11       105000  ",
      "text/html": "<div>\n<style scoped>\n    .dataframe tbody tr th:only-of-type {\n        vertical-align: middle;\n    }\n\n    .dataframe tbody tr th {\n        vertical-align: top;\n    }\n\n    .dataframe thead th {\n        text-align: right;\n    }\n</style>\n<table border=\"1\" class=\"dataframe\">\n  <thead>\n    <tr style=\"text-align: right;\">\n      <th></th>\n      <th>customer_id</th>\n      <th>first_name</th>\n      <th>last_name</th>\n      <th>city</th>\n      <th>state_code</th>\n      <th>zip</th>\n      <th>country</th>\n      <th>latitude</th>\n      <th>longitude</th>\n      <th>opportunity</th>\n    </tr>\n  </thead>\n  <tbody>\n    <tr>\n      <th>0</th>\n      <td>50037</td>\n      <td>Franklinc</td>\n      <td>Spango</td>\n      <td>San Juan</td>\n      <td>PR</td>\n      <td>917</td>\n      <td>USA</td>\n      <td>39.56</td>\n      <td>-119.49</td>\n      <td>30000</td>\n    </tr>\n    <tr>\n      <th>1</th>\n      <td>50038</td>\n      <td>Derrel</td>\n      <td>Cazzell</td>\n      <td>San Juan</td>\n      <td>PR</td>\n      <td>918</td>\n      <td>USA</td>\n      <td>18.47</td>\n      <td>-66.11</td>\n      <td>105000</td>\n    </tr>\n    <tr>\n      <th>2</th>\n      <td>50039</td>\n      <td>Mayrely</td>\n      <td>Deitel</td>\n      <td>San Juan</td>\n      <td>PR</td>\n      <td>918</td>\n      <td>USA</td>\n      <td>39.56</td>\n      <td>-119.49</td>\n      <td>10000</td>\n    </tr>\n    <tr>\n      <th>3</th>\n      <td>50040</td>\n      <td>Beena</td>\n      <td>Karpay</td>\n      <td>San Juan</td>\n      <td>PR</td>\n      <td>918</td>\n      <td>USA</td>\n      <td>39.56</td>\n      <td>-119.49</td>\n      <td>105000</td>\n    </tr>\n    <tr>\n      <th>4</th>\n      <td>50041</td>\n      <td>Malachi</td>\n      <td>Winik</td>\n      <td>San Juan</td>\n      <td>PR</td>\n      <td>918</td>\n      <td>USA</td>\n      <td>18.47</td>\n      <td>-66.11</td>\n      <td>105000</td>\n    </tr>\n  </tbody>\n</table>\n</div>"
     },
     "execution_count": 65,
     "metadata": {},
     "output_type": "execute_result"
    }
   ],
   "source": [
    "df_customer.head()"
   ],
   "metadata": {
    "collapsed": false,
    "pycharm": {
     "name": "#%%\n"
    }
   }
  },
  {
   "cell_type": "code",
   "execution_count": 66,
   "outputs": [
    {
     "data": {
      "text/plain": "(20951, 10)"
     },
     "execution_count": 66,
     "metadata": {},
     "output_type": "execute_result"
    }
   ],
   "source": [
    "df_customer.shape"
   ],
   "metadata": {
    "collapsed": false,
    "pycharm": {
     "name": "#%%\n"
    }
   }
  },
  {
   "cell_type": "code",
   "execution_count": 67,
   "outputs": [
    {
     "data": {
      "text/plain": "               customer_id                  zip             latitude  \\\ncount            20,951.00            20,951.00            20,951.00   \nmean             60,512.00            47,072.54                38.23   \nstd               6,048.18            30,158.87                 5.14   \nmin              50,037.00               917.00                18.42   \n25%              55,274.50            19,428.00                34.15   \n50%              60,512.00            45,202.00                39.83   \n75%              65,749.50            75,240.00                41.68   \nmax              70,987.00            99,901.00                64.85   \n\n                 longitude          opportunity  \ncount            20,951.00            20,951.00  \nmean                -90.02            97,642.59  \nstd                  16.19           176,565.13  \nmin                -157.94            10,000.00  \n25%                 -96.79            20,000.00  \n50%                 -85.14            42,000.00  \n75%                 -77.18            90,000.00  \nmax                 -66.06         3,049,000.00  ",
      "text/html": "<div>\n<style scoped>\n    .dataframe tbody tr th:only-of-type {\n        vertical-align: middle;\n    }\n\n    .dataframe tbody tr th {\n        vertical-align: top;\n    }\n\n    .dataframe thead th {\n        text-align: right;\n    }\n</style>\n<table border=\"1\" class=\"dataframe\">\n  <thead>\n    <tr style=\"text-align: right;\">\n      <th></th>\n      <th>customer_id</th>\n      <th>zip</th>\n      <th>latitude</th>\n      <th>longitude</th>\n      <th>opportunity</th>\n    </tr>\n  </thead>\n  <tbody>\n    <tr>\n      <th>count</th>\n      <td>20,951.00</td>\n      <td>20,951.00</td>\n      <td>20,951.00</td>\n      <td>20,951.00</td>\n      <td>20,951.00</td>\n    </tr>\n    <tr>\n      <th>mean</th>\n      <td>60,512.00</td>\n      <td>47,072.54</td>\n      <td>38.23</td>\n      <td>-90.02</td>\n      <td>97,642.59</td>\n    </tr>\n    <tr>\n      <th>std</th>\n      <td>6,048.18</td>\n      <td>30,158.87</td>\n      <td>5.14</td>\n      <td>16.19</td>\n      <td>176,565.13</td>\n    </tr>\n    <tr>\n      <th>min</th>\n      <td>50,037.00</td>\n      <td>917.00</td>\n      <td>18.42</td>\n      <td>-157.94</td>\n      <td>10,000.00</td>\n    </tr>\n    <tr>\n      <th>25%</th>\n      <td>55,274.50</td>\n      <td>19,428.00</td>\n      <td>34.15</td>\n      <td>-96.79</td>\n      <td>20,000.00</td>\n    </tr>\n    <tr>\n      <th>50%</th>\n      <td>60,512.00</td>\n      <td>45,202.00</td>\n      <td>39.83</td>\n      <td>-85.14</td>\n      <td>42,000.00</td>\n    </tr>\n    <tr>\n      <th>75%</th>\n      <td>65,749.50</td>\n      <td>75,240.00</td>\n      <td>41.68</td>\n      <td>-77.18</td>\n      <td>90,000.00</td>\n    </tr>\n    <tr>\n      <th>max</th>\n      <td>70,987.00</td>\n      <td>99,901.00</td>\n      <td>64.85</td>\n      <td>-66.06</td>\n      <td>3,049,000.00</td>\n    </tr>\n  </tbody>\n</table>\n</div>"
     },
     "execution_count": 67,
     "metadata": {},
     "output_type": "execute_result"
    }
   ],
   "source": [
    "df_customer.describe()"
   ],
   "metadata": {
    "collapsed": false,
    "pycharm": {
     "name": "#%%\n"
    }
   }
  },
  {
   "cell_type": "code",
   "execution_count": 68,
   "outputs": [],
   "source": [
    "df_txn = pd.read_csv('data/txn.csv')"
   ],
   "metadata": {
    "collapsed": false,
    "pycharm": {
     "name": "#%%\n"
    }
   }
  },
  {
   "cell_type": "code",
   "execution_count": 69,
   "outputs": [
    {
     "name": "stdout",
     "output_type": "stream",
     "text": [
      "<class 'pandas.core.frame.DataFrame'>\n",
      "RangeIndex: 1048575 entries, 0 to 1048574\n",
      "Data columns (total 6 columns):\n",
      " #   Column       Non-Null Count    Dtype  \n",
      "---  ------       --------------    -----  \n",
      " 0   txn_id       1048575 non-null  int64  \n",
      " 1   txn_date     1048575 non-null  object \n",
      " 2   customer_id  1048575 non-null  int64  \n",
      " 3   symbol       1048575 non-null  object \n",
      " 4   sales        1048575 non-null  float64\n",
      " 5   redemptions  1048575 non-null  float64\n",
      "dtypes: float64(2), int64(2), object(2)\n",
      "memory usage: 48.0+ MB\n"
     ]
    }
   ],
   "source": [
    "df_txn.info(verbose=True)"
   ],
   "metadata": {
    "collapsed": false,
    "pycharm": {
     "name": "#%%\n"
    }
   }
  },
  {
   "cell_type": "code",
   "execution_count": 70,
   "outputs": [
    {
     "data": {
      "text/plain": "      txn_id  txn_date  customer_id symbol                sales  \\\n0  422909780  5/2/2016        59532  MLUYX            13,687.83   \n1  422909781  5/2/2016        60660  PFJAX                 0.00   \n2  422909782  5/2/2016        52939  SBTAX             4,153.98   \n3  422909783  5/2/2016        52990  MNMCX            27,452.30   \n4  422909784  5/2/2016        60343  IDAEX             6,433.14   \n\n           redemptions  \n0                 0.00  \n1            -4,286.23  \n2                 0.00  \n3                 0.00  \n4                 0.00  ",
      "text/html": "<div>\n<style scoped>\n    .dataframe tbody tr th:only-of-type {\n        vertical-align: middle;\n    }\n\n    .dataframe tbody tr th {\n        vertical-align: top;\n    }\n\n    .dataframe thead th {\n        text-align: right;\n    }\n</style>\n<table border=\"1\" class=\"dataframe\">\n  <thead>\n    <tr style=\"text-align: right;\">\n      <th></th>\n      <th>txn_id</th>\n      <th>txn_date</th>\n      <th>customer_id</th>\n      <th>symbol</th>\n      <th>sales</th>\n      <th>redemptions</th>\n    </tr>\n  </thead>\n  <tbody>\n    <tr>\n      <th>0</th>\n      <td>422909780</td>\n      <td>5/2/2016</td>\n      <td>59532</td>\n      <td>MLUYX</td>\n      <td>13,687.83</td>\n      <td>0.00</td>\n    </tr>\n    <tr>\n      <th>1</th>\n      <td>422909781</td>\n      <td>5/2/2016</td>\n      <td>60660</td>\n      <td>PFJAX</td>\n      <td>0.00</td>\n      <td>-4,286.23</td>\n    </tr>\n    <tr>\n      <th>2</th>\n      <td>422909782</td>\n      <td>5/2/2016</td>\n      <td>52939</td>\n      <td>SBTAX</td>\n      <td>4,153.98</td>\n      <td>0.00</td>\n    </tr>\n    <tr>\n      <th>3</th>\n      <td>422909783</td>\n      <td>5/2/2016</td>\n      <td>52990</td>\n      <td>MNMCX</td>\n      <td>27,452.30</td>\n      <td>0.00</td>\n    </tr>\n    <tr>\n      <th>4</th>\n      <td>422909784</td>\n      <td>5/2/2016</td>\n      <td>60343</td>\n      <td>IDAEX</td>\n      <td>6,433.14</td>\n      <td>0.00</td>\n    </tr>\n  </tbody>\n</table>\n</div>"
     },
     "execution_count": 70,
     "metadata": {},
     "output_type": "execute_result"
    }
   ],
   "source": [
    "df_txn.head()"
   ],
   "metadata": {
    "collapsed": false,
    "pycharm": {
     "name": "#%%\n"
    }
   }
  },
  {
   "cell_type": "code",
   "execution_count": 71,
   "outputs": [
    {
     "data": {
      "text/plain": "(1048575, 6)"
     },
     "execution_count": 71,
     "metadata": {},
     "output_type": "execute_result"
    }
   ],
   "source": [
    "df_txn.shape"
   ],
   "metadata": {
    "collapsed": false,
    "pycharm": {
     "name": "#%%\n"
    }
   }
  },
  {
   "cell_type": "code",
   "execution_count": 72,
   "outputs": [
    {
     "data": {
      "text/plain": "                    txn_id          customer_id                sales  \\\ncount         1,048,575.00         1,048,575.00         1,048,575.00   \nmean        423,434,067.00            60,509.66             5,476.56   \nstd             302,697.67             6,045.63             7,183.11   \nmin         422,909,780.00            50,037.00                 0.00   \n25%         423,171,923.50            55,274.00                 0.00   \n50%         423,434,067.00            60,512.00                 0.00   \n75%         423,696,210.50            65,744.00            10,088.88   \nmax         423,958,354.00            70,987.00            29,186.85   \n\n               redemptions  \ncount         1,048,575.00  \nmean             -2,413.16  \nstd               3,153.61  \nmin             -12,821.61  \n25%              -4,439.99  \n50%                -138.19  \n75%                   0.00  \nmax                   0.00  ",
      "text/html": "<div>\n<style scoped>\n    .dataframe tbody tr th:only-of-type {\n        vertical-align: middle;\n    }\n\n    .dataframe tbody tr th {\n        vertical-align: top;\n    }\n\n    .dataframe thead th {\n        text-align: right;\n    }\n</style>\n<table border=\"1\" class=\"dataframe\">\n  <thead>\n    <tr style=\"text-align: right;\">\n      <th></th>\n      <th>txn_id</th>\n      <th>customer_id</th>\n      <th>sales</th>\n      <th>redemptions</th>\n    </tr>\n  </thead>\n  <tbody>\n    <tr>\n      <th>count</th>\n      <td>1,048,575.00</td>\n      <td>1,048,575.00</td>\n      <td>1,048,575.00</td>\n      <td>1,048,575.00</td>\n    </tr>\n    <tr>\n      <th>mean</th>\n      <td>423,434,067.00</td>\n      <td>60,509.66</td>\n      <td>5,476.56</td>\n      <td>-2,413.16</td>\n    </tr>\n    <tr>\n      <th>std</th>\n      <td>302,697.67</td>\n      <td>6,045.63</td>\n      <td>7,183.11</td>\n      <td>3,153.61</td>\n    </tr>\n    <tr>\n      <th>min</th>\n      <td>422,909,780.00</td>\n      <td>50,037.00</td>\n      <td>0.00</td>\n      <td>-12,821.61</td>\n    </tr>\n    <tr>\n      <th>25%</th>\n      <td>423,171,923.50</td>\n      <td>55,274.00</td>\n      <td>0.00</td>\n      <td>-4,439.99</td>\n    </tr>\n    <tr>\n      <th>50%</th>\n      <td>423,434,067.00</td>\n      <td>60,512.00</td>\n      <td>0.00</td>\n      <td>-138.19</td>\n    </tr>\n    <tr>\n      <th>75%</th>\n      <td>423,696,210.50</td>\n      <td>65,744.00</td>\n      <td>10,088.88</td>\n      <td>0.00</td>\n    </tr>\n    <tr>\n      <th>max</th>\n      <td>423,958,354.00</td>\n      <td>70,987.00</td>\n      <td>29,186.85</td>\n      <td>0.00</td>\n    </tr>\n  </tbody>\n</table>\n</div>"
     },
     "execution_count": 72,
     "metadata": {},
     "output_type": "execute_result"
    }
   ],
   "source": [
    "df_txn.describe()"
   ],
   "metadata": {
    "collapsed": false,
    "pycharm": {
     "name": "#%%\n"
    }
   }
  },
  {
   "cell_type": "code",
   "execution_count": 73,
   "outputs": [],
   "source": [
    "df_mutual_fund = pd.read_json('data/mutual_fund.json')"
   ],
   "metadata": {
    "collapsed": false,
    "pycharm": {
     "name": "#%%\n"
    }
   }
  },
  {
   "cell_type": "code",
   "execution_count": 74,
   "outputs": [
    {
     "name": "stdout",
     "output_type": "stream",
     "text": [
      "<class 'pandas.core.frame.DataFrame'>\n",
      "RangeIndex: 23783 entries, 0 to 23782\n",
      "Data columns (total 9 columns):\n",
      " #   Column      Non-Null Count  Dtype  \n",
      "---  ------      --------------  -----  \n",
      " 0   symbol      23783 non-null  object \n",
      " 1   name        23783 non-null  object \n",
      " 2   init_inv    16485 non-null  float64\n",
      " 3   tna         23749 non-null  float64\n",
      " 4   ytd_return  23382 non-null  float64\n",
      " 5   ms_rating   21976 non-null  float64\n",
      " 6   inv_type    23783 non-null  object \n",
      " 7   size_type   23783 non-null  object \n",
      " 8   exp_ratio   23573 non-null  float64\n",
      "dtypes: float64(5), object(4)\n",
      "memory usage: 1.6+ MB\n"
     ]
    }
   ],
   "source": [
    "df_mutual_fund.info(verbose=True)"
   ],
   "metadata": {
    "collapsed": false,
    "pycharm": {
     "name": "#%%\n"
    }
   }
  },
  {
   "cell_type": "code",
   "execution_count": 75,
   "outputs": [
    {
     "data": {
      "text/plain": "  symbol                                               name  \\\n0  AAAAX               DWS RREEF Real Assets Fund - Class A   \n1  AAAEX      Virtus AllianzGI Health Sciences Fund Class P   \n2  AAAFX  American Century One Choice Blend+ 2015 Portfo...   \n3  AAAGX             Thrivent Large Cap Growth Fund Class A   \n4  AAAHX  American Century One Choice Blend+ 2015 Portfo...   \n\n              init_inv                  tna           ytd_return  \\\n0             1,000.00     2,979,347,456.00                 0.21   \n1         1,000,000.00       195,348,944.00                 0.19   \n2             2,500.00            25,946.00                  NaN   \n3             2,000.00     2,078,606,848.00                 0.25   \n4         5,000,000.00            25,946.00                  NaN   \n\n             ms_rating inv_type size_type            exp_ratio  \n0                 3.00    Value     Large                 0.01  \n1                 3.00    Blend     Large                 0.01  \n2                  NaN    Blend     Large                 0.01  \n3                 4.00   Growth     Large                 0.01  \n4                  NaN    Blend     Large                 0.00  ",
      "text/html": "<div>\n<style scoped>\n    .dataframe tbody tr th:only-of-type {\n        vertical-align: middle;\n    }\n\n    .dataframe tbody tr th {\n        vertical-align: top;\n    }\n\n    .dataframe thead th {\n        text-align: right;\n    }\n</style>\n<table border=\"1\" class=\"dataframe\">\n  <thead>\n    <tr style=\"text-align: right;\">\n      <th></th>\n      <th>symbol</th>\n      <th>name</th>\n      <th>init_inv</th>\n      <th>tna</th>\n      <th>ytd_return</th>\n      <th>ms_rating</th>\n      <th>inv_type</th>\n      <th>size_type</th>\n      <th>exp_ratio</th>\n    </tr>\n  </thead>\n  <tbody>\n    <tr>\n      <th>0</th>\n      <td>AAAAX</td>\n      <td>DWS RREEF Real Assets Fund - Class A</td>\n      <td>1,000.00</td>\n      <td>2,979,347,456.00</td>\n      <td>0.21</td>\n      <td>3.00</td>\n      <td>Value</td>\n      <td>Large</td>\n      <td>0.01</td>\n    </tr>\n    <tr>\n      <th>1</th>\n      <td>AAAEX</td>\n      <td>Virtus AllianzGI Health Sciences Fund Class P</td>\n      <td>1,000,000.00</td>\n      <td>195,348,944.00</td>\n      <td>0.19</td>\n      <td>3.00</td>\n      <td>Blend</td>\n      <td>Large</td>\n      <td>0.01</td>\n    </tr>\n    <tr>\n      <th>2</th>\n      <td>AAAFX</td>\n      <td>American Century One Choice Blend+ 2015 Portfo...</td>\n      <td>2,500.00</td>\n      <td>25,946.00</td>\n      <td>NaN</td>\n      <td>NaN</td>\n      <td>Blend</td>\n      <td>Large</td>\n      <td>0.01</td>\n    </tr>\n    <tr>\n      <th>3</th>\n      <td>AAAGX</td>\n      <td>Thrivent Large Cap Growth Fund Class A</td>\n      <td>2,000.00</td>\n      <td>2,078,606,848.00</td>\n      <td>0.25</td>\n      <td>4.00</td>\n      <td>Growth</td>\n      <td>Large</td>\n      <td>0.01</td>\n    </tr>\n    <tr>\n      <th>4</th>\n      <td>AAAHX</td>\n      <td>American Century One Choice Blend+ 2015 Portfo...</td>\n      <td>5,000,000.00</td>\n      <td>25,946.00</td>\n      <td>NaN</td>\n      <td>NaN</td>\n      <td>Blend</td>\n      <td>Large</td>\n      <td>0.00</td>\n    </tr>\n  </tbody>\n</table>\n</div>"
     },
     "execution_count": 75,
     "metadata": {},
     "output_type": "execute_result"
    }
   ],
   "source": [
    "df_mutual_fund.head()"
   ],
   "metadata": {
    "collapsed": false,
    "pycharm": {
     "name": "#%%\n"
    }
   }
  },
  {
   "cell_type": "code",
   "execution_count": 76,
   "outputs": [
    {
     "data": {
      "text/plain": "(23783, 9)"
     },
     "execution_count": 76,
     "metadata": {},
     "output_type": "execute_result"
    }
   ],
   "source": [
    "df_mutual_fund.shape"
   ],
   "metadata": {
    "collapsed": false,
    "pycharm": {
     "name": "#%%\n"
    }
   }
  },
  {
   "cell_type": "code",
   "execution_count": 77,
   "outputs": [
    {
     "data": {
      "text/plain": "                  init_inv                  tna           ytd_return  \\\ncount            16,485.00            23,749.00            23,382.00   \nmean          5,179,181.07     4,924,192,119.06                 0.09   \nstd          92,535,840.22    21,097,646,505.29                 0.08   \nmin                  10.00                10.00                -0.52   \n25%               1,000.00       144,583,360.00                 0.03   \n50%               2,500.00       644,328,320.00                 0.09   \n75%             500,000.00     2,453,408,768.00                 0.15   \nmax       5,000,000,000.00   753,410,000,000.00                 0.58   \n\n                 ms_rating            exp_ratio  \ncount            21,976.00            23,573.00  \nmean                  3.10                 0.01  \nstd                   1.08                 0.01  \nmin                   1.00                 0.00  \n25%                   2.00                 0.01  \n50%                   3.00                 0.01  \n75%                   4.00                 0.01  \nmax                   5.00                 0.12  ",
      "text/html": "<div>\n<style scoped>\n    .dataframe tbody tr th:only-of-type {\n        vertical-align: middle;\n    }\n\n    .dataframe tbody tr th {\n        vertical-align: top;\n    }\n\n    .dataframe thead th {\n        text-align: right;\n    }\n</style>\n<table border=\"1\" class=\"dataframe\">\n  <thead>\n    <tr style=\"text-align: right;\">\n      <th></th>\n      <th>init_inv</th>\n      <th>tna</th>\n      <th>ytd_return</th>\n      <th>ms_rating</th>\n      <th>exp_ratio</th>\n    </tr>\n  </thead>\n  <tbody>\n    <tr>\n      <th>count</th>\n      <td>16,485.00</td>\n      <td>23,749.00</td>\n      <td>23,382.00</td>\n      <td>21,976.00</td>\n      <td>23,573.00</td>\n    </tr>\n    <tr>\n      <th>mean</th>\n      <td>5,179,181.07</td>\n      <td>4,924,192,119.06</td>\n      <td>0.09</td>\n      <td>3.10</td>\n      <td>0.01</td>\n    </tr>\n    <tr>\n      <th>std</th>\n      <td>92,535,840.22</td>\n      <td>21,097,646,505.29</td>\n      <td>0.08</td>\n      <td>1.08</td>\n      <td>0.01</td>\n    </tr>\n    <tr>\n      <th>min</th>\n      <td>10.00</td>\n      <td>10.00</td>\n      <td>-0.52</td>\n      <td>1.00</td>\n      <td>0.00</td>\n    </tr>\n    <tr>\n      <th>25%</th>\n      <td>1,000.00</td>\n      <td>144,583,360.00</td>\n      <td>0.03</td>\n      <td>2.00</td>\n      <td>0.01</td>\n    </tr>\n    <tr>\n      <th>50%</th>\n      <td>2,500.00</td>\n      <td>644,328,320.00</td>\n      <td>0.09</td>\n      <td>3.00</td>\n      <td>0.01</td>\n    </tr>\n    <tr>\n      <th>75%</th>\n      <td>500,000.00</td>\n      <td>2,453,408,768.00</td>\n      <td>0.15</td>\n      <td>4.00</td>\n      <td>0.01</td>\n    </tr>\n    <tr>\n      <th>max</th>\n      <td>5,000,000,000.00</td>\n      <td>753,410,000,000.00</td>\n      <td>0.58</td>\n      <td>5.00</td>\n      <td>0.12</td>\n    </tr>\n  </tbody>\n</table>\n</div>"
     },
     "execution_count": 77,
     "metadata": {},
     "output_type": "execute_result"
    }
   ],
   "source": [
    "df_mutual_fund.describe()"
   ],
   "metadata": {
    "collapsed": false,
    "pycharm": {
     "name": "#%%\n"
    }
   }
  },
  {
   "cell_type": "markdown",
   "source": [
    "### Step 3: Exploratory Data Analysis (EDA)\n",
    "\n",
    "In the following cells, I will do some explorator data analysis of this data to get a better understanding of it. This also include some visualizations to bring out the relationships in the data."
   ],
   "metadata": {
    "collapsed": false,
    "pycharm": {
     "name": "#%% md\n"
    }
   }
  },
  {
   "cell_type": "markdown",
   "source": [
    "##### 3.1. Sales and redemptions by customer\n"
   ],
   "metadata": {
    "collapsed": false,
    "pycharm": {
     "name": "#%% md\n"
    }
   }
  },
  {
   "cell_type": "code",
   "execution_count": 78,
   "outputs": [
    {
     "name": "stdout",
     "output_type": "stream",
     "text": [
      "                           sales          redemptions\n",
      "customer_id                                          \n",
      "66141                 576,984.37          -120,904.71\n",
      "70941                 549,850.76          -147,380.24\n",
      "58060                 540,494.96           -62,220.53\n",
      "56531                 531,871.82           -59,766.72\n",
      "52754                 527,923.92          -148,068.06\n",
      "\n",
      "10\n"
     ]
    }
   ],
   "source": [
    "# Sales and redemptions by Customer - restricted to Top 10 by Sales\n",
    "df_sales_by_cust = df_txn.groupby(['customer_id']).sum()[['sales', 'redemptions']].sort_values(by='sales', ascending=False).head(10)\n",
    "print(df_sales_by_cust.head())\n",
    "print()\n",
    "print(df_sales_by_cust.shape[0])"
   ],
   "metadata": {
    "collapsed": false,
    "pycharm": {
     "name": "#%%\n"
    }
   }
  },
  {
   "cell_type": "code",
   "execution_count": 79,
   "outputs": [
    {
     "data": {
      "text/plain": "<Figure size 864x288 with 1 Axes>",
      "image/png": "[encoded data removed]"
     },
     "metadata": {},
     "output_type": "display_data"
    }
   ],
   "source": [
    "df_sales_by_cust.plot(kind='barh', stacked=True, figsize=(12, 4)).legend(loc='upper right')\n",
    "plt.title='Sales and Redemptions by Customer'\n",
    "plt.xlabel('Sales/Redemptions')\n",
    "plt.ylabel('Customer Id');"
   ],
   "metadata": {
    "collapsed": false,
    "pycharm": {
     "name": "#%%\n"
    }
   }
  },
  {
   "cell_type": "markdown",
   "source": [
    "##### 3.2. Sales and redemptions by mutual fund"
   ],
   "metadata": {
    "collapsed": false,
    "pycharm": {
     "name": "#%% md\n"
    }
   }
  },
  {
   "cell_type": "code",
   "execution_count": 80,
   "outputs": [
    {
     "name": "stdout",
     "output_type": "stream",
     "text": [
      "                      sales          redemptions\n",
      "symbol                                          \n",
      "FLTNX          6,248,339.41        -2,341,594.79\n",
      "PCIEX          6,191,035.99        -2,189,045.14\n",
      "QDVAX          6,178,711.28        -2,172,017.89\n",
      "BHTAX          6,161,544.85        -2,392,624.24\n",
      "MWHIX          6,140,072.28        -2,517,185.55\n",
      "\n",
      "10\n"
     ]
    }
   ],
   "source": [
    "# Sales and Redemptions by Top 10 Mutual Funds\n",
    "df_sales_by_fund = df_txn.groupby(['symbol']).sum()[['sales', 'redemptions']].sort_values(by='sales', ascending=False).head(10)\n",
    "print(df_sales_by_fund.head())\n",
    "print()\n",
    "print(df_sales_by_fund.shape[0])"
   ],
   "metadata": {
    "collapsed": false,
    "pycharm": {
     "name": "#%%\n"
    }
   }
  },
  {
   "cell_type": "code",
   "execution_count": 81,
   "outputs": [
    {
     "data": {
      "text/plain": "<Figure size 1080x360 with 1 Axes>",
      "image/png": "[encoded data removed]"
     },
     "metadata": {},
     "output_type": "display_data"
    }
   ],
   "source": [
    "df_sales_by_fund.plot(kind='barh', stacked=True, figsize=(15, 5)).legend(loc='upper left')\n",
    "plt.title='Sales and Redemptions by Customer'\n",
    "plt.xlabel('Sales/Redemptions')\n",
    "plt.ylabel('Fund Symbol');\n"
   ],
   "metadata": {
    "collapsed": false,
    "pycharm": {
     "name": "#%%\n"
    }
   }
  },
  {
   "cell_type": "markdown",
   "source": [
    "##### 3.3. Sales and redemptions by customer and mutual fund"
   ],
   "metadata": {
    "collapsed": false,
    "pycharm": {
     "name": "#%% md\n"
    }
   }
  },
  {
   "cell_type": "code",
   "execution_count": 82,
   "outputs": [
    {
     "name": "stdout",
     "output_type": "stream",
     "text": [
      "                                  sales          redemptions\n",
      "customer_id symbol                                          \n",
      "70987       WMGYX                  0.00            -3,087.45\n",
      "            WIPDX                  0.00            -3,073.60\n",
      "            WEBCX                  0.00            -5,021.45\n",
      "            VAFIX                  0.00            -3,508.27\n",
      "            TIRTX                  0.00            -5,417.76\n",
      "            TFICX              3,478.04                 0.00\n",
      "            STIIX                  0.00            -8,109.27\n",
      "            SMVIX                  0.00            -5,351.73\n",
      "            SCACX                  0.00            -7,923.22\n",
      "            RRRCX              7,093.25                 0.00\n",
      "\n",
      "1024379\n"
     ]
    }
   ],
   "source": [
    "df_sales_by_cust_fund = df_txn.groupby(['customer_id', 'symbol']).sum()[['sales', 'redemptions']].sort_values(by=['customer_id', 'symbol', 'sales'], ascending=False)\n",
    "print(df_sales_by_cust_fund.head(10))\n",
    "print()\n",
    "print(df_sales_by_cust_fund.shape[0])"
   ],
   "metadata": {
    "collapsed": false,
    "pycharm": {
     "name": "#%%\n"
    }
   }
  },
  {
   "cell_type": "markdown",
   "source": [
    "##### 3.4. A deeper look at fund attribute-based aggregations"
   ],
   "metadata": {
    "collapsed": false,
    "pycharm": {
     "name": "#%% md\n"
    }
   }
  },
  {
   "cell_type": "code",
   "execution_count": 83,
   "outputs": [
    {
     "data": {
      "text/plain": "                         sales          redemptions\nms_rating                                          \n1.00            416,731,076.75      -182,380,291.36\n2.00          1,115,395,346.56      -488,298,069.38\n3.00          1,925,941,821.92      -852,113,551.55\n4.00          1,244,727,914.45      -551,192,333.21\n5.00            645,653,867.87      -282,338,630.75",
      "text/html": "<div>\n<style scoped>\n    .dataframe tbody tr th:only-of-type {\n        vertical-align: middle;\n    }\n\n    .dataframe tbody tr th {\n        vertical-align: top;\n    }\n\n    .dataframe thead th {\n        text-align: right;\n    }\n</style>\n<table border=\"1\" class=\"dataframe\">\n  <thead>\n    <tr style=\"text-align: right;\">\n      <th></th>\n      <th>sales</th>\n      <th>redemptions</th>\n    </tr>\n    <tr>\n      <th>ms_rating</th>\n      <th></th>\n      <th></th>\n    </tr>\n  </thead>\n  <tbody>\n    <tr>\n      <th>1.00</th>\n      <td>416,731,076.75</td>\n      <td>-182,380,291.36</td>\n    </tr>\n    <tr>\n      <th>2.00</th>\n      <td>1,115,395,346.56</td>\n      <td>-488,298,069.38</td>\n    </tr>\n    <tr>\n      <th>3.00</th>\n      <td>1,925,941,821.92</td>\n      <td>-852,113,551.55</td>\n    </tr>\n    <tr>\n      <th>4.00</th>\n      <td>1,244,727,914.45</td>\n      <td>-551,192,333.21</td>\n    </tr>\n    <tr>\n      <th>5.00</th>\n      <td>645,653,867.87</td>\n      <td>-282,338,630.75</td>\n    </tr>\n  </tbody>\n</table>\n</div>"
     },
     "execution_count": 83,
     "metadata": {},
     "output_type": "execute_result"
    }
   ],
   "source": [
    "# Sales and redemptions by MS Rating\n",
    "df_sales_by_ms_rating = pd.merge(left=df_txn, right=df_mutual_fund, on='symbol')[['ms_rating', 'sales', 'redemptions']].groupby(['ms_rating']).sum([['sales', 'redemptions']])\n",
    "df_sales_by_ms_rating.head()"
   ],
   "metadata": {
    "collapsed": false,
    "pycharm": {
     "name": "#%%\n"
    }
   }
  },
  {
   "cell_type": "code",
   "execution_count": 84,
   "outputs": [
    {
     "data": {
      "text/plain": "<Figure size 720x360 with 1 Axes>",
      "image/png": "[encoded data removed]"
     },
     "metadata": {},
     "output_type": "display_data"
    }
   ],
   "source": [
    "df_sales_by_ms_rating.plot(kind='bar', stacked=True, figsize=(10, 5)).legend(loc='upper left')\n",
    "plt.title='Sales and Redemptions by Morning Star Rating'\n",
    "plt.xlabel('Sales/Redemptions')\n",
    "plt.ylabel('MS Rating');"
   ],
   "metadata": {
    "collapsed": false,
    "pycharm": {
     "name": "#%%\n"
    }
   }
  },
  {
   "cell_type": "code",
   "execution_count": 85,
   "outputs": [
    {
     "data": {
      "text/plain": "                         sales          redemptions\nsize_type                                          \n                231,448,620.94      -103,682,807.62\nLarge         3,238,479,565.16    -1,428,503,590.47\nMedium        1,277,880,470.13      -562,240,701.15\nSmall           994,775,352.21      -435,948,285.12",
      "text/html": "<div>\n<style scoped>\n    .dataframe tbody tr th:only-of-type {\n        vertical-align: middle;\n    }\n\n    .dataframe tbody tr th {\n        vertical-align: top;\n    }\n\n    .dataframe thead th {\n        text-align: right;\n    }\n</style>\n<table border=\"1\" class=\"dataframe\">\n  <thead>\n    <tr style=\"text-align: right;\">\n      <th></th>\n      <th>sales</th>\n      <th>redemptions</th>\n    </tr>\n    <tr>\n      <th>size_type</th>\n      <th></th>\n      <th></th>\n    </tr>\n  </thead>\n  <tbody>\n    <tr>\n      <th></th>\n      <td>231,448,620.94</td>\n      <td>-103,682,807.62</td>\n    </tr>\n    <tr>\n      <th>Large</th>\n      <td>3,238,479,565.16</td>\n      <td>-1,428,503,590.47</td>\n    </tr>\n    <tr>\n      <th>Medium</th>\n      <td>1,277,880,470.13</td>\n      <td>-562,240,701.15</td>\n    </tr>\n    <tr>\n      <th>Small</th>\n      <td>994,775,352.21</td>\n      <td>-435,948,285.12</td>\n    </tr>\n  </tbody>\n</table>\n</div>"
     },
     "execution_count": 85,
     "metadata": {},
     "output_type": "execute_result"
    }
   ],
   "source": [
    "# Sales and redemptions by Size\n",
    "df_sales_by_size = pd.merge(left=df_txn, right=df_mutual_fund, on='symbol')[['size_type', 'sales', 'redemptions']].groupby(['size_type']).sum([['sales', 'redemptions']])\n",
    "df_sales_by_size.head()"
   ],
   "metadata": {
    "collapsed": false,
    "pycharm": {
     "name": "#%%\n"
    }
   }
  },
  {
   "cell_type": "code",
   "execution_count": 86,
   "outputs": [
    {
     "data": {
      "text/plain": "<Figure size 720x360 with 1 Axes>",
      "image/png": "[encoded data removed]"
     },
     "metadata": {},
     "output_type": "display_data"
    }
   ],
   "source": [
    "df_sales_by_size.plot(kind='bar', stacked=True, figsize=(10, 5)).legend(loc='upper left')\n",
    "plt.title='Sales and Redemptions by Size'\n",
    "plt.xlabel('Sales/Redemptions')\n",
    "plt.ylabel('Size');"
   ],
   "metadata": {
    "collapsed": false,
    "pycharm": {
     "name": "#%%\n"
    }
   }
  },
  {
   "cell_type": "markdown",
   "source": [
    "##### 3.5. A deeper look at customer attribute-based aggregations"
   ],
   "metadata": {
    "collapsed": false,
    "pycharm": {
     "name": "#%% md\n"
    }
   }
  },
  {
   "cell_type": "code",
   "execution_count": 87,
   "outputs": [
    {
     "data": {
      "text/plain": "                                       sales          redemptions\ncustomer_id opportunity                                          \n50037       30000                 306,751.44          -155,164.77\n50038       105000                361,158.77           -96,853.36\n50039       10000                 426,594.74          -139,711.70\n50040       105000                244,707.71           -74,396.43\n50041       105000                293,969.41          -106,756.21",
      "text/html": "<div>\n<style scoped>\n    .dataframe tbody tr th:only-of-type {\n        vertical-align: middle;\n    }\n\n    .dataframe tbody tr th {\n        vertical-align: top;\n    }\n\n    .dataframe thead th {\n        text-align: right;\n    }\n</style>\n<table border=\"1\" class=\"dataframe\">\n  <thead>\n    <tr style=\"text-align: right;\">\n      <th></th>\n      <th></th>\n      <th>sales</th>\n      <th>redemptions</th>\n    </tr>\n    <tr>\n      <th>customer_id</th>\n      <th>opportunity</th>\n      <th></th>\n      <th></th>\n    </tr>\n  </thead>\n  <tbody>\n    <tr>\n      <th>50037</th>\n      <th>30000</th>\n      <td>306,751.44</td>\n      <td>-155,164.77</td>\n    </tr>\n    <tr>\n      <th>50038</th>\n      <th>105000</th>\n      <td>361,158.77</td>\n      <td>-96,853.36</td>\n    </tr>\n    <tr>\n      <th>50039</th>\n      <th>10000</th>\n      <td>426,594.74</td>\n      <td>-139,711.70</td>\n    </tr>\n    <tr>\n      <th>50040</th>\n      <th>105000</th>\n      <td>244,707.71</td>\n      <td>-74,396.43</td>\n    </tr>\n    <tr>\n      <th>50041</th>\n      <th>105000</th>\n      <td>293,969.41</td>\n      <td>-106,756.21</td>\n    </tr>\n  </tbody>\n</table>\n</div>"
     },
     "execution_count": 87,
     "metadata": {},
     "output_type": "execute_result"
    }
   ],
   "source": [
    "# Sales and redemptions by Customer\n",
    "df_sales_by_cust_opp = pd.merge(left=df_txn, right=df_customer, on='customer_id')[['customer_id', 'opportunity', 'sales', 'redemptions']].groupby(['customer_id', 'opportunity']).sum([['sales', 'redemptions']])\n",
    "df_sales_by_cust_opp.head()"
   ],
   "metadata": {
    "collapsed": false,
    "pycharm": {
     "name": "#%%\n"
    }
   }
  },
  {
   "cell_type": "code",
   "execution_count": 88,
   "outputs": [
    {
     "data": {
      "text/plain": "                          sales          redemptions\nstate_code                                          \nNY               567,524,392.44      -246,541,075.36\nFL               375,786,466.08      -168,560,917.47\nPA               276,170,949.21      -123,118,853.75\nIL               265,259,071.56      -116,787,205.17\nNJ               246,652,189.70      -106,748,488.73",
      "text/html": "<div>\n<style scoped>\n    .dataframe tbody tr th:only-of-type {\n        vertical-align: middle;\n    }\n\n    .dataframe tbody tr th {\n        vertical-align: top;\n    }\n\n    .dataframe thead th {\n        text-align: right;\n    }\n</style>\n<table border=\"1\" class=\"dataframe\">\n  <thead>\n    <tr style=\"text-align: right;\">\n      <th></th>\n      <th>sales</th>\n      <th>redemptions</th>\n    </tr>\n    <tr>\n      <th>state_code</th>\n      <th></th>\n      <th></th>\n    </tr>\n  </thead>\n  <tbody>\n    <tr>\n      <th>NY</th>\n      <td>567,524,392.44</td>\n      <td>-246,541,075.36</td>\n    </tr>\n    <tr>\n      <th>FL</th>\n      <td>375,786,466.08</td>\n      <td>-168,560,917.47</td>\n    </tr>\n    <tr>\n      <th>PA</th>\n      <td>276,170,949.21</td>\n      <td>-123,118,853.75</td>\n    </tr>\n    <tr>\n      <th>IL</th>\n      <td>265,259,071.56</td>\n      <td>-116,787,205.17</td>\n    </tr>\n    <tr>\n      <th>NJ</th>\n      <td>246,652,189.70</td>\n      <td>-106,748,488.73</td>\n    </tr>\n  </tbody>\n</table>\n</div>"
     },
     "execution_count": 88,
     "metadata": {},
     "output_type": "execute_result"
    }
   ],
   "source": [
    "# Sales and redemptions by geographic location\n",
    "df_sales_by_state = pd.merge(left=df_txn, right=df_customer, on='customer_id')[['state_code', 'sales', 'redemptions']].groupby(['state_code']).sum([['sales', 'redemptions']]).sort_values(by='sales', ascending=False)\n",
    "df_sales_by_state.head()"
   ],
   "metadata": {
    "collapsed": false,
    "pycharm": {
     "name": "#%%\n"
    }
   }
  },
  {
   "cell_type": "code",
   "execution_count": 89,
   "outputs": [
    {
     "data": {
      "text/plain": "<Figure size 720x360 with 1 Axes>",
      "image/png": "[encoded data removed]"
     },
     "metadata": {},
     "output_type": "display_data"
    }
   ],
   "source": [
    "df_sales_by_state.head(10).plot(kind='barh', stacked=True, figsize=(10, 5)).legend(loc='upper right')\n",
    "plt.title='Sales and Redemptions by State'\n",
    "plt.xlabel('Sales/Redemptions')\n",
    "plt.ylabel('State');"
   ],
   "metadata": {
    "collapsed": false,
    "pycharm": {
     "name": "#%%\n"
    }
   }
  },
  {
   "cell_type": "markdown",
   "source": [
    "### Step 4: Feature Engineering\n",
    "\n",
    "In this section, I would like to identify the various features that we can pull out of this data to help us build recommendations. I will classify these features based on the dataset below:\n",
    "\n",
    "###### Mutual Funds\n",
    "1. **Morningstar Rating**: This is ranking given to publicly traded mutual funds and exchange traded funds by the investment research firm Morningstar. Risk is assessed at five levels designed to help investors quickly identify funds to consider for their portfolios. More information can be found at https://www.investopedia.com/terms/m/morningstarriskrating.asp. In general, funds with a rating of 4 and 5 are highly sought after. They may be considered as Strong Buys. Funds with a rating of 1 or 2 may be considered Strong Sells while those with a rating of 3 may be considered as Hold.\n",
    "2. **Size Type**: Broadly classified into three categories (Small, Medium and Large), this indicates the sizes of the companies in which the Mutual Fund invests.\n",
    "3. **Expense Ratio**: This is a continuous numeric value and is not much useful to us as it is. However, we can broadly classify these into three categories - Low: less than 0.5%, Reasonable: between 0.5% and 1% and High: above 1%.\n",
    "4. **Initial Investment**: This is a continuous numeric value; however, we can classify these values as Low (<= 1,000), Medium (> 1000 and <= 100,000) and High (> 100,000)\n",
    "5. **Year-to-date Return**: The Year-to-date Return is a critical metric to assessing whether to pick a Mutual Fund or not. This is also a continuous numeric value; however, we can classify these values as Negative (< 0), Low (> 0 and <= 5), Moderate (> 5 and <= 10) and High (> 10)\n",
    "6. **Investment Type**: This is a categorical value and is one of Growth, Value or Blend. It indicates whether the main purpose of the fund is to provide growth, value or both.\n",
    "\n",
    "##### Customers\n",
    "7. **Opportunity**: This is also a continuous numeric value and indicates the amount upto which a customer may be willing to invest. This is assessed daily and set to the maximum value of sales for a given customer over the entire history of the customer's relationship with the investment company. While the amount is not very useful in itself for our purpose, we can engineer it as a metric to indicate whether a sale is possible. To make that assessment, we could say that a sale is possible if the total sales of a given customer is less than 75% of the opportunity marked against that customer. When recommending funds to a customer, we can take this metric into account as well.\n",
    "\n",
    "#### Transactions\n",
    "8. **Net Sales**: This is the total sales of a given customer of a given fund after deducting redemptions from the same. We could impute that a positive number (preferably subject to a minimum threshold) indicates that the customer recommends that product. Otherwise, not.\n",
    "\n",
    "In the following cells, I will turn these features into 1 and 0 value matrices that we can later use to build out our recommendations."
   ],
   "metadata": {
    "collapsed": false,
    "pycharm": {
     "name": "#%% md\n"
    }
   }
  },
  {
   "cell_type": "markdown",
   "source": [
    "##### 4.1: Add necessary columns to the datasets as per discussion above containing 0 and 1 values\n",
    "\n",
    "###### 4.1.1: Adding features to Mutual Funds"
   ],
   "metadata": {
    "collapsed": false,
    "pycharm": {
     "name": "#%% md\n"
    }
   }
  },
  {
   "cell_type": "code",
   "execution_count": 90,
   "outputs": [
    {
     "data": {
      "text/plain": "  symbol                                               name  \\\n0  AAAAX               DWS RREEF Real Assets Fund - Class A   \n1  AAAEX      Virtus AllianzGI Health Sciences Fund Class P   \n2  AAAFX  American Century One Choice Blend+ 2015 Portfo...   \n3  AAAGX             Thrivent Large Cap Growth Fund Class A   \n4  AAAHX  American Century One Choice Blend+ 2015 Portfo...   \n\n              init_inv                  tna           ytd_return  \\\n0             1,000.00     2,979,347,456.00                 0.21   \n1         1,000,000.00       195,348,944.00                 0.19   \n2             2,500.00            25,946.00                  NaN   \n3             2,000.00     2,078,606,848.00                 0.25   \n4         5,000,000.00            25,946.00                  NaN   \n\n             ms_rating inv_type size_type            exp_ratio  buy  \n0                 3.00    Value     Large                 0.01    0  \n1                 3.00    Blend     Large                 0.01    0  \n2                 0.00    Blend     Large                 0.01    0  \n3                 4.00   Growth     Large                 0.01    1  \n4                 0.00    Blend     Large                 0.00    0  ",
      "text/html": "<div>\n<style scoped>\n    .dataframe tbody tr th:only-of-type {\n        vertical-align: middle;\n    }\n\n    .dataframe tbody tr th {\n        vertical-align: top;\n    }\n\n    .dataframe thead th {\n        text-align: right;\n    }\n</style>\n<table border=\"1\" class=\"dataframe\">\n  <thead>\n    <tr style=\"text-align: right;\">\n      <th></th>\n      <th>symbol</th>\n      <th>name</th>\n      <th>init_inv</th>\n      <th>tna</th>\n      <th>ytd_return</th>\n      <th>ms_rating</th>\n      <th>inv_type</th>\n      <th>size_type</th>\n      <th>exp_ratio</th>\n      <th>buy</th>\n    </tr>\n  </thead>\n  <tbody>\n    <tr>\n      <th>0</th>\n      <td>AAAAX</td>\n      <td>DWS RREEF Real Assets Fund - Class A</td>\n      <td>1,000.00</td>\n      <td>2,979,347,456.00</td>\n      <td>0.21</td>\n      <td>3.00</td>\n      <td>Value</td>\n      <td>Large</td>\n      <td>0.01</td>\n      <td>0</td>\n    </tr>\n    <tr>\n      <th>1</th>\n      <td>AAAEX</td>\n      <td>Virtus AllianzGI Health Sciences Fund Class P</td>\n      <td>1,000,000.00</td>\n      <td>195,348,944.00</td>\n      <td>0.19</td>\n      <td>3.00</td>\n      <td>Blend</td>\n      <td>Large</td>\n      <td>0.01</td>\n      <td>0</td>\n    </tr>\n    <tr>\n      <th>2</th>\n      <td>AAAFX</td>\n      <td>American Century One Choice Blend+ 2015 Portfo...</td>\n      <td>2,500.00</td>\n      <td>25,946.00</td>\n      <td>NaN</td>\n      <td>0.00</td>\n      <td>Blend</td>\n      <td>Large</td>\n      <td>0.01</td>\n      <td>0</td>\n    </tr>\n    <tr>\n      <th>3</th>\n      <td>AAAGX</td>\n      <td>Thrivent Large Cap Growth Fund Class A</td>\n      <td>2,000.00</td>\n      <td>2,078,606,848.00</td>\n      <td>0.25</td>\n      <td>4.00</td>\n      <td>Growth</td>\n      <td>Large</td>\n      <td>0.01</td>\n      <td>1</td>\n    </tr>\n    <tr>\n      <th>4</th>\n      <td>AAAHX</td>\n      <td>American Century One Choice Blend+ 2015 Portfo...</td>\n      <td>5,000,000.00</td>\n      <td>25,946.00</td>\n      <td>NaN</td>\n      <td>0.00</td>\n      <td>Blend</td>\n      <td>Large</td>\n      <td>0.00</td>\n      <td>0</td>\n    </tr>\n  </tbody>\n</table>\n</div>"
     },
     "execution_count": 90,
     "metadata": {},
     "output_type": "execute_result"
    }
   ],
   "source": [
    "# Extracting features for Mutual Funds\n",
    "# Using MS Ratings higher than 3 to set a new column named 'buy' to 1 and 0 otherwise\n",
    "# First, let us sat NaN values to 0 to indicate that they are not rated\n",
    "df_mutual_fund['ms_rating'].fillna(value=0, inplace=True)\n",
    "\n",
    "# Add a new column to the Mutual Fund dataset named 'buy' and set it to 0 or 1 values\n",
    "df_mutual_fund['buy'] = (df_mutual_fund['ms_rating'] > 3).astype(int)\n",
    "df_mutual_fund.head()"
   ],
   "metadata": {
    "collapsed": false,
    "pycharm": {
     "name": "#%%\n"
    }
   }
  },
  {
   "cell_type": "code",
   "execution_count": 91,
   "outputs": [
    {
     "data": {
      "text/plain": "  symbol                                               name  \\\n0  AAAAX               DWS RREEF Real Assets Fund - Class A   \n1  AAAEX      Virtus AllianzGI Health Sciences Fund Class P   \n2  AAAFX  American Century One Choice Blend+ 2015 Portfo...   \n3  AAAGX             Thrivent Large Cap Growth Fund Class A   \n4  AAAHX  American Century One Choice Blend+ 2015 Portfo...   \n\n              init_inv                  tna           ytd_return  \\\n0             1,000.00     2,979,347,456.00                 0.21   \n1         1,000,000.00       195,348,944.00                 0.19   \n2             2,500.00            25,946.00                  NaN   \n3             2,000.00     2,078,606,848.00                 0.25   \n4         5,000,000.00            25,946.00                  NaN   \n\n             ms_rating inv_type size_type            exp_ratio  buy  small  \\\n0                 3.00    Value     Large                 0.01    0      0   \n1                 3.00    Blend     Large                 0.01    0      0   \n2                 0.00    Blend     Large                 0.01    0      0   \n3                 4.00   Growth     Large                 0.01    1      0   \n4                 0.00    Blend     Large                 0.00    0      0   \n\n   medium  large  \n0       0      1  \n1       0      1  \n2       0      1  \n3       0      1  \n4       0      1  ",
      "text/html": "<div>\n<style scoped>\n    .dataframe tbody tr th:only-of-type {\n        vertical-align: middle;\n    }\n\n    .dataframe tbody tr th {\n        vertical-align: top;\n    }\n\n    .dataframe thead th {\n        text-align: right;\n    }\n</style>\n<table border=\"1\" class=\"dataframe\">\n  <thead>\n    <tr style=\"text-align: right;\">\n      <th></th>\n      <th>symbol</th>\n      <th>name</th>\n      <th>init_inv</th>\n      <th>tna</th>\n      <th>ytd_return</th>\n      <th>ms_rating</th>\n      <th>inv_type</th>\n      <th>size_type</th>\n      <th>exp_ratio</th>\n      <th>buy</th>\n      <th>small</th>\n      <th>medium</th>\n      <th>large</th>\n    </tr>\n  </thead>\n  <tbody>\n    <tr>\n      <th>0</th>\n      <td>AAAAX</td>\n      <td>DWS RREEF Real Assets Fund - Class A</td>\n      <td>1,000.00</td>\n      <td>2,979,347,456.00</td>\n      <td>0.21</td>\n      <td>3.00</td>\n      <td>Value</td>\n      <td>Large</td>\n      <td>0.01</td>\n      <td>0</td>\n      <td>0</td>\n      <td>0</td>\n      <td>1</td>\n    </tr>\n    <tr>\n      <th>1</th>\n      <td>AAAEX</td>\n      <td>Virtus AllianzGI Health Sciences Fund Class P</td>\n      <td>1,000,000.00</td>\n      <td>195,348,944.00</td>\n      <td>0.19</td>\n      <td>3.00</td>\n      <td>Blend</td>\n      <td>Large</td>\n      <td>0.01</td>\n      <td>0</td>\n      <td>0</td>\n      <td>0</td>\n      <td>1</td>\n    </tr>\n    <tr>\n      <th>2</th>\n      <td>AAAFX</td>\n      <td>American Century One Choice Blend+ 2015 Portfo...</td>\n      <td>2,500.00</td>\n      <td>25,946.00</td>\n      <td>NaN</td>\n      <td>0.00</td>\n      <td>Blend</td>\n      <td>Large</td>\n      <td>0.01</td>\n      <td>0</td>\n      <td>0</td>\n      <td>0</td>\n      <td>1</td>\n    </tr>\n    <tr>\n      <th>3</th>\n      <td>AAAGX</td>\n      <td>Thrivent Large Cap Growth Fund Class A</td>\n      <td>2,000.00</td>\n      <td>2,078,606,848.00</td>\n      <td>0.25</td>\n      <td>4.00</td>\n      <td>Growth</td>\n      <td>Large</td>\n      <td>0.01</td>\n      <td>1</td>\n      <td>0</td>\n      <td>0</td>\n      <td>1</td>\n    </tr>\n    <tr>\n      <th>4</th>\n      <td>AAAHX</td>\n      <td>American Century One Choice Blend+ 2015 Portfo...</td>\n      <td>5,000,000.00</td>\n      <td>25,946.00</td>\n      <td>NaN</td>\n      <td>0.00</td>\n      <td>Blend</td>\n      <td>Large</td>\n      <td>0.00</td>\n      <td>0</td>\n      <td>0</td>\n      <td>0</td>\n      <td>1</td>\n    </tr>\n  </tbody>\n</table>\n</div>"
     },
     "execution_count": 91,
     "metadata": {},
     "output_type": "execute_result"
    }
   ],
   "source": [
    "# Using the values in Size column to set new columns named Small, Medium and Large to 0 and 1 values\n",
    "df_mutual_fund['small'] = (df_mutual_fund['size_type'] == 'Small').astype(int)\n",
    "df_mutual_fund['medium'] = (df_mutual_fund['size_type'] == 'Medium').astype(int)\n",
    "df_mutual_fund['large'] = (df_mutual_fund['size_type'] == 'Large').astype(int)\n",
    "df_mutual_fund.head()"
   ],
   "metadata": {
    "collapsed": false,
    "pycharm": {
     "name": "#%%\n"
    }
   }
  },
  {
   "cell_type": "code",
   "execution_count": 92,
   "outputs": [
    {
     "data": {
      "text/plain": "  symbol                                               name  \\\n0  AAAAX               DWS RREEF Real Assets Fund - Class A   \n1  AAAEX      Virtus AllianzGI Health Sciences Fund Class P   \n2  AAAFX  American Century One Choice Blend+ 2015 Portfo...   \n3  AAAGX             Thrivent Large Cap Growth Fund Class A   \n4  AAAHX  American Century One Choice Blend+ 2015 Portfo...   \n\n              init_inv                  tna           ytd_return  \\\n0             1,000.00     2,979,347,456.00                 0.21   \n1         1,000,000.00       195,348,944.00                 0.19   \n2             2,500.00            25,946.00                  NaN   \n3             2,000.00     2,078,606,848.00                 0.25   \n4         5,000,000.00            25,946.00                  NaN   \n\n             ms_rating inv_type size_type            exp_ratio  buy  small  \\\n0                 3.00    Value     Large                 0.01    0      0   \n1                 3.00    Blend     Large                 0.01    0      0   \n2                 0.00    Blend     Large                 0.01    0      0   \n3                 4.00   Growth     Large                 0.01    1      0   \n4                 0.00    Blend     Large                 0.00    0      0   \n\n   medium  large  er_low  er_medium  er_high  \n0       0      1       0          0        1  \n1       0      1       0          0        1  \n2       0      1       0          1        0  \n3       0      1       0          0        1  \n4       0      1       1          0        0  ",
      "text/html": "<div>\n<style scoped>\n    .dataframe tbody tr th:only-of-type {\n        vertical-align: middle;\n    }\n\n    .dataframe tbody tr th {\n        vertical-align: top;\n    }\n\n    .dataframe thead th {\n        text-align: right;\n    }\n</style>\n<table border=\"1\" class=\"dataframe\">\n  <thead>\n    <tr style=\"text-align: right;\">\n      <th></th>\n      <th>symbol</th>\n      <th>name</th>\n      <th>init_inv</th>\n      <th>tna</th>\n      <th>ytd_return</th>\n      <th>ms_rating</th>\n      <th>inv_type</th>\n      <th>size_type</th>\n      <th>exp_ratio</th>\n      <th>buy</th>\n      <th>small</th>\n      <th>medium</th>\n      <th>large</th>\n      <th>er_low</th>\n      <th>er_medium</th>\n      <th>er_high</th>\n    </tr>\n  </thead>\n  <tbody>\n    <tr>\n      <th>0</th>\n      <td>AAAAX</td>\n      <td>DWS RREEF Real Assets Fund - Class A</td>\n      <td>1,000.00</td>\n      <td>2,979,347,456.00</td>\n      <td>0.21</td>\n      <td>3.00</td>\n      <td>Value</td>\n      <td>Large</td>\n      <td>0.01</td>\n      <td>0</td>\n      <td>0</td>\n      <td>0</td>\n      <td>1</td>\n      <td>0</td>\n      <td>0</td>\n      <td>1</td>\n    </tr>\n    <tr>\n      <th>1</th>\n      <td>AAAEX</td>\n      <td>Virtus AllianzGI Health Sciences Fund Class P</td>\n      <td>1,000,000.00</td>\n      <td>195,348,944.00</td>\n      <td>0.19</td>\n      <td>3.00</td>\n      <td>Blend</td>\n      <td>Large</td>\n      <td>0.01</td>\n      <td>0</td>\n      <td>0</td>\n      <td>0</td>\n      <td>1</td>\n      <td>0</td>\n      <td>0</td>\n      <td>1</td>\n    </tr>\n    <tr>\n      <th>2</th>\n      <td>AAAFX</td>\n      <td>American Century One Choice Blend+ 2015 Portfo...</td>\n      <td>2,500.00</td>\n      <td>25,946.00</td>\n      <td>NaN</td>\n      <td>0.00</td>\n      <td>Blend</td>\n      <td>Large</td>\n      <td>0.01</td>\n      <td>0</td>\n      <td>0</td>\n      <td>0</td>\n      <td>1</td>\n      <td>0</td>\n      <td>1</td>\n      <td>0</td>\n    </tr>\n    <tr>\n      <th>3</th>\n      <td>AAAGX</td>\n      <td>Thrivent Large Cap Growth Fund Class A</td>\n      <td>2,000.00</td>\n      <td>2,078,606,848.00</td>\n      <td>0.25</td>\n      <td>4.00</td>\n      <td>Growth</td>\n      <td>Large</td>\n      <td>0.01</td>\n      <td>1</td>\n      <td>0</td>\n      <td>0</td>\n      <td>1</td>\n      <td>0</td>\n      <td>0</td>\n      <td>1</td>\n    </tr>\n    <tr>\n      <th>4</th>\n      <td>AAAHX</td>\n      <td>American Century One Choice Blend+ 2015 Portfo...</td>\n      <td>5,000,000.00</td>\n      <td>25,946.00</td>\n      <td>NaN</td>\n      <td>0.00</td>\n      <td>Blend</td>\n      <td>Large</td>\n      <td>0.00</td>\n      <td>0</td>\n      <td>0</td>\n      <td>0</td>\n      <td>1</td>\n      <td>1</td>\n      <td>0</td>\n      <td>0</td>\n    </tr>\n  </tbody>\n</table>\n</div>"
     },
     "execution_count": 92,
     "metadata": {},
     "output_type": "execute_result"
    }
   ],
   "source": [
    "# Using Expense Ratio values to add new columns named \"er_low', 'er_medium' and 'er_high'\n",
    "# First let us set all NaN values to zero which is a reasonable replacement; if an expense ration is not available, we can consider it to be 0\n",
    "df_mutual_fund['exp_ratio'].fillna(value=0, inplace=True)\n",
    "\n",
    "# Add the new columns\n",
    "df_mutual_fund['er_low'] = (df_mutual_fund['exp_ratio'] * 100 < 0.5).astype(int)\n",
    "df_mutual_fund['er_medium'] = (np.logical_and(df_mutual_fund['exp_ratio'] * 100 >= 0.5, df_mutual_fund['exp_ratio'] * 100 <= 1.0)).astype(int)\n",
    "df_mutual_fund['er_high'] = (df_mutual_fund['exp_ratio'] * 100 > 1.0).astype(int)\n",
    "df_mutual_fund.head()"
   ],
   "metadata": {
    "collapsed": false,
    "pycharm": {
     "name": "#%%\n"
    }
   }
  },
  {
   "cell_type": "code",
   "execution_count": 93,
   "outputs": [
    {
     "data": {
      "text/plain": "  symbol                                               name  \\\n0  AAAAX               DWS RREEF Real Assets Fund - Class A   \n1  AAAEX      Virtus AllianzGI Health Sciences Fund Class P   \n2  AAAFX  American Century One Choice Blend+ 2015 Portfo...   \n3  AAAGX             Thrivent Large Cap Growth Fund Class A   \n4  AAAHX  American Century One Choice Blend+ 2015 Portfo...   \n\n              init_inv                  tna           ytd_return  \\\n0             1,000.00     2,979,347,456.00                 0.21   \n1         1,000,000.00       195,348,944.00                 0.19   \n2             2,500.00            25,946.00                  NaN   \n3             2,000.00     2,078,606,848.00                 0.25   \n4         5,000,000.00            25,946.00                  NaN   \n\n             ms_rating inv_type size_type            exp_ratio  buy  small  \\\n0                 3.00    Value     Large                 0.01    0      0   \n1                 3.00    Blend     Large                 0.01    0      0   \n2                 0.00    Blend     Large                 0.01    0      0   \n3                 4.00   Growth     Large                 0.01    1      0   \n4                 0.00    Blend     Large                 0.00    0      0   \n\n   medium  large  er_low  er_medium  er_high  init_inv_low  init_inv_medium  \\\n0       0      1       0          0        1             1                0   \n1       0      1       0          0        1             0                0   \n2       0      1       0          1        0             0                1   \n3       0      1       0          0        1             0                1   \n4       0      1       1          0        0             0                0   \n\n   init_inv_high  \n0              0  \n1              1  \n2              0  \n3              0  \n4              1  ",
      "text/html": "<div>\n<style scoped>\n    .dataframe tbody tr th:only-of-type {\n        vertical-align: middle;\n    }\n\n    .dataframe tbody tr th {\n        vertical-align: top;\n    }\n\n    .dataframe thead th {\n        text-align: right;\n    }\n</style>\n<table border=\"1\" class=\"dataframe\">\n  <thead>\n    <tr style=\"text-align: right;\">\n      <th></th>\n      <th>symbol</th>\n      <th>name</th>\n      <th>init_inv</th>\n      <th>tna</th>\n      <th>ytd_return</th>\n      <th>ms_rating</th>\n      <th>inv_type</th>\n      <th>size_type</th>\n      <th>exp_ratio</th>\n      <th>buy</th>\n      <th>small</th>\n      <th>medium</th>\n      <th>large</th>\n      <th>er_low</th>\n      <th>er_medium</th>\n      <th>er_high</th>\n      <th>init_inv_low</th>\n      <th>init_inv_medium</th>\n      <th>init_inv_high</th>\n    </tr>\n  </thead>\n  <tbody>\n    <tr>\n      <th>0</th>\n      <td>AAAAX</td>\n      <td>DWS RREEF Real Assets Fund - Class A</td>\n      <td>1,000.00</td>\n      <td>2,979,347,456.00</td>\n      <td>0.21</td>\n      <td>3.00</td>\n      <td>Value</td>\n      <td>Large</td>\n      <td>0.01</td>\n      <td>0</td>\n      <td>0</td>\n      <td>0</td>\n      <td>1</td>\n      <td>0</td>\n      <td>0</td>\n      <td>1</td>\n      <td>1</td>\n      <td>0</td>\n      <td>0</td>\n    </tr>\n    <tr>\n      <th>1</th>\n      <td>AAAEX</td>\n      <td>Virtus AllianzGI Health Sciences Fund Class P</td>\n      <td>1,000,000.00</td>\n      <td>195,348,944.00</td>\n      <td>0.19</td>\n      <td>3.00</td>\n      <td>Blend</td>\n      <td>Large</td>\n      <td>0.01</td>\n      <td>0</td>\n      <td>0</td>\n      <td>0</td>\n      <td>1</td>\n      <td>0</td>\n      <td>0</td>\n      <td>1</td>\n      <td>0</td>\n      <td>0</td>\n      <td>1</td>\n    </tr>\n    <tr>\n      <th>2</th>\n      <td>AAAFX</td>\n      <td>American Century One Choice Blend+ 2015 Portfo...</td>\n      <td>2,500.00</td>\n      <td>25,946.00</td>\n      <td>NaN</td>\n      <td>0.00</td>\n      <td>Blend</td>\n      <td>Large</td>\n      <td>0.01</td>\n      <td>0</td>\n      <td>0</td>\n      <td>0</td>\n      <td>1</td>\n      <td>0</td>\n      <td>1</td>\n      <td>0</td>\n      <td>0</td>\n      <td>1</td>\n      <td>0</td>\n    </tr>\n    <tr>\n      <th>3</th>\n      <td>AAAGX</td>\n      <td>Thrivent Large Cap Growth Fund Class A</td>\n      <td>2,000.00</td>\n      <td>2,078,606,848.00</td>\n      <td>0.25</td>\n      <td>4.00</td>\n      <td>Growth</td>\n      <td>Large</td>\n      <td>0.01</td>\n      <td>1</td>\n      <td>0</td>\n      <td>0</td>\n      <td>1</td>\n      <td>0</td>\n      <td>0</td>\n      <td>1</td>\n      <td>0</td>\n      <td>1</td>\n      <td>0</td>\n    </tr>\n    <tr>\n      <th>4</th>\n      <td>AAAHX</td>\n      <td>American Century One Choice Blend+ 2015 Portfo...</td>\n      <td>5,000,000.00</td>\n      <td>25,946.00</td>\n      <td>NaN</td>\n      <td>0.00</td>\n      <td>Blend</td>\n      <td>Large</td>\n      <td>0.00</td>\n      <td>0</td>\n      <td>0</td>\n      <td>0</td>\n      <td>1</td>\n      <td>1</td>\n      <td>0</td>\n      <td>0</td>\n      <td>0</td>\n      <td>0</td>\n      <td>1</td>\n    </tr>\n  </tbody>\n</table>\n</div>"
     },
     "execution_count": 93,
     "metadata": {},
     "output_type": "execute_result"
    }
   ],
   "source": [
    "# Using Initial Investment values to add new columns named \"init_inv_low\", \"init_inv_med\", \"init_inv_high\"\n",
    "# First, let us set all NaN values to zero which is an acceptable replacement. If no initial investment requirement is specified, it means that it is left to the discretion of the investor\n",
    "df_mutual_fund['init_inv'].fillna(value=0, inplace=True)\n",
    "\n",
    "# Add the new columns\n",
    "df_mutual_fund['init_inv_low'] = (df_mutual_fund['init_inv'] <= 1000).astype(int)\n",
    "df_mutual_fund['init_inv_medium'] = (np.logical_and(df_mutual_fund['init_inv'] > 1000, df_mutual_fund['init_inv'] <= 100000)).astype(int)\n",
    "df_mutual_fund['init_inv_high'] = (df_mutual_fund['init_inv'] > 100000).astype(int)\n",
    "df_mutual_fund.head()"
   ],
   "metadata": {
    "collapsed": false,
    "pycharm": {
     "name": "#%%\n"
    }
   }
  },
  {
   "cell_type": "code",
   "execution_count": 94,
   "outputs": [
    {
     "data": {
      "text/plain": "  symbol                                               name  \\\n0  AAAAX               DWS RREEF Real Assets Fund - Class A   \n1  AAAEX      Virtus AllianzGI Health Sciences Fund Class P   \n2  AAAFX  American Century One Choice Blend+ 2015 Portfo...   \n3  AAAGX             Thrivent Large Cap Growth Fund Class A   \n4  AAAHX  American Century One Choice Blend+ 2015 Portfo...   \n\n              init_inv                  tna           ytd_return  \\\n0             1,000.00     2,979,347,456.00                 0.21   \n1         1,000,000.00       195,348,944.00                 0.19   \n2             2,500.00            25,946.00                 0.00   \n3             2,000.00     2,078,606,848.00                 0.25   \n4         5,000,000.00            25,946.00                 0.00   \n\n             ms_rating inv_type size_type            exp_ratio  buy  ...  \\\n0                 3.00    Value     Large                 0.01    0  ...   \n1                 3.00    Blend     Large                 0.01    0  ...   \n2                 0.00    Blend     Large                 0.01    0  ...   \n3                 4.00   Growth     Large                 0.01    1  ...   \n4                 0.00    Blend     Large                 0.00    0  ...   \n\n   large  er_low  er_medium  er_high  init_inv_low  init_inv_medium  \\\n0      1       0          0        1             1                0   \n1      1       0          0        1             0                0   \n2      1       0          1        0             0                1   \n3      1       0          0        1             0                1   \n4      1       1          0        0             0                0   \n\n   init_inv_high  ytd_low  ytd_moderate  ytd_high  \n0              0        0             0         1  \n1              1        0             0         1  \n2              0        0             0         0  \n3              0        0             0         1  \n4              1        0             0         0  \n\n[5 rows x 22 columns]",
      "text/html": "<div>\n<style scoped>\n    .dataframe tbody tr th:only-of-type {\n        vertical-align: middle;\n    }\n\n    .dataframe tbody tr th {\n        vertical-align: top;\n    }\n\n    .dataframe thead th {\n        text-align: right;\n    }\n</style>\n<table border=\"1\" class=\"dataframe\">\n  <thead>\n    <tr style=\"text-align: right;\">\n      <th></th>\n      <th>symbol</th>\n      <th>name</th>\n      <th>init_inv</th>\n      <th>tna</th>\n      <th>ytd_return</th>\n      <th>ms_rating</th>\n      <th>inv_type</th>\n      <th>size_type</th>\n      <th>exp_ratio</th>\n      <th>buy</th>\n      <th>...</th>\n      <th>large</th>\n      <th>er_low</th>\n      <th>er_medium</th>\n      <th>er_high</th>\n      <th>init_inv_low</th>\n      <th>init_inv_medium</th>\n      <th>init_inv_high</th>\n      <th>ytd_low</th>\n      <th>ytd_moderate</th>\n      <th>ytd_high</th>\n    </tr>\n  </thead>\n  <tbody>\n    <tr>\n      <th>0</th>\n      <td>AAAAX</td>\n      <td>DWS RREEF Real Assets Fund - Class A</td>\n      <td>1,000.00</td>\n      <td>2,979,347,456.00</td>\n      <td>0.21</td>\n      <td>3.00</td>\n      <td>Value</td>\n      <td>Large</td>\n      <td>0.01</td>\n      <td>0</td>\n      <td>...</td>\n      <td>1</td>\n      <td>0</td>\n      <td>0</td>\n      <td>1</td>\n      <td>1</td>\n      <td>0</td>\n      <td>0</td>\n      <td>0</td>\n      <td>0</td>\n      <td>1</td>\n    </tr>\n    <tr>\n      <th>1</th>\n      <td>AAAEX</td>\n      <td>Virtus AllianzGI Health Sciences Fund Class P</td>\n      <td>1,000,000.00</td>\n      <td>195,348,944.00</td>\n      <td>0.19</td>\n      <td>3.00</td>\n      <td>Blend</td>\n      <td>Large</td>\n      <td>0.01</td>\n      <td>0</td>\n      <td>...</td>\n      <td>1</td>\n      <td>0</td>\n      <td>0</td>\n      <td>1</td>\n      <td>0</td>\n      <td>0</td>\n      <td>1</td>\n      <td>0</td>\n      <td>0</td>\n      <td>1</td>\n    </tr>\n    <tr>\n      <th>2</th>\n      <td>AAAFX</td>\n      <td>American Century One Choice Blend+ 2015 Portfo...</td>\n      <td>2,500.00</td>\n      <td>25,946.00</td>\n      <td>0.00</td>\n      <td>0.00</td>\n      <td>Blend</td>\n      <td>Large</td>\n      <td>0.01</td>\n      <td>0</td>\n      <td>...</td>\n      <td>1</td>\n      <td>0</td>\n      <td>1</td>\n      <td>0</td>\n      <td>0</td>\n      <td>1</td>\n      <td>0</td>\n      <td>0</td>\n      <td>0</td>\n      <td>0</td>\n    </tr>\n    <tr>\n      <th>3</th>\n      <td>AAAGX</td>\n      <td>Thrivent Large Cap Growth Fund Class A</td>\n      <td>2,000.00</td>\n      <td>2,078,606,848.00</td>\n      <td>0.25</td>\n      <td>4.00</td>\n      <td>Growth</td>\n      <td>Large</td>\n      <td>0.01</td>\n      <td>1</td>\n      <td>...</td>\n      <td>1</td>\n      <td>0</td>\n      <td>0</td>\n      <td>1</td>\n      <td>0</td>\n      <td>1</td>\n      <td>0</td>\n      <td>0</td>\n      <td>0</td>\n      <td>1</td>\n    </tr>\n    <tr>\n      <th>4</th>\n      <td>AAAHX</td>\n      <td>American Century One Choice Blend+ 2015 Portfo...</td>\n      <td>5,000,000.00</td>\n      <td>25,946.00</td>\n      <td>0.00</td>\n      <td>0.00</td>\n      <td>Blend</td>\n      <td>Large</td>\n      <td>0.00</td>\n      <td>0</td>\n      <td>...</td>\n      <td>1</td>\n      <td>1</td>\n      <td>0</td>\n      <td>0</td>\n      <td>0</td>\n      <td>0</td>\n      <td>1</td>\n      <td>0</td>\n      <td>0</td>\n      <td>0</td>\n    </tr>\n  </tbody>\n</table>\n<p>5 rows × 22 columns</p>\n</div>"
     },
     "execution_count": 94,
     "metadata": {},
     "output_type": "execute_result"
    }
   ],
   "source": [
    "# Using Year-to-date Return values to add new columns named \"low\", \"moderate\" and \"high\"\n",
    "# First, let us set all NaN values to zero which is a generally acceptable replacement. No YTD Return value may be available for the fund\n",
    "df_mutual_fund['ytd_return'].fillna(value=0, inplace=True)\n",
    "\n",
    "# Add the new columns\n",
    "df_mutual_fund['ytd_low'] = (np.logical_and(df_mutual_fund['ytd_return'] > 0, df_mutual_fund['ytd_return'] <= 0.05)).astype(int)\n",
    "df_mutual_fund['ytd_moderate'] = (np.logical_and(df_mutual_fund['ytd_return'] > 0.05, df_mutual_fund['ytd_return'] <= 0.1)).astype(int)\n",
    "df_mutual_fund['ytd_high'] = (df_mutual_fund['ytd_return'] > 0.1).astype(int)\n",
    "df_mutual_fund.head()"
   ],
   "metadata": {
    "collapsed": false,
    "pycharm": {
     "name": "#%%\n"
    }
   }
  },
  {
   "cell_type": "code",
   "execution_count": 95,
   "outputs": [
    {
     "data": {
      "text/plain": "  symbol                                               name  \\\n0  AAAAX               DWS RREEF Real Assets Fund - Class A   \n1  AAAEX      Virtus AllianzGI Health Sciences Fund Class P   \n2  AAAFX  American Century One Choice Blend+ 2015 Portfo...   \n3  AAAGX             Thrivent Large Cap Growth Fund Class A   \n4  AAAHX  American Century One Choice Blend+ 2015 Portfo...   \n\n              init_inv                  tna           ytd_return  \\\n0             1,000.00     2,979,347,456.00                 0.21   \n1         1,000,000.00       195,348,944.00                 0.19   \n2             2,500.00            25,946.00                 0.00   \n3             2,000.00     2,078,606,848.00                 0.25   \n4         5,000,000.00            25,946.00                 0.00   \n\n             ms_rating inv_type size_type            exp_ratio  buy  ...  \\\n0                 3.00    Value     Large                 0.01    0  ...   \n1                 3.00    Blend     Large                 0.01    0  ...   \n2                 0.00    Blend     Large                 0.01    0  ...   \n3                 4.00   Growth     Large                 0.01    1  ...   \n4                 0.00    Blend     Large                 0.00    0  ...   \n\n   er_high  init_inv_low  init_inv_medium  init_inv_high  ytd_low  \\\n0        1             1                0              0        0   \n1        1             0                0              1        0   \n2        0             0                1              0        0   \n3        1             0                1              0        0   \n4        0             0                0              1        0   \n\n   ytd_moderate  ytd_high  growth  value  blend  \n0             0         1       0      1      0  \n1             0         1       0      0      1  \n2             0         0       0      0      1  \n3             0         1       1      0      0  \n4             0         0       0      0      1  \n\n[5 rows x 25 columns]",
      "text/html": "<div>\n<style scoped>\n    .dataframe tbody tr th:only-of-type {\n        vertical-align: middle;\n    }\n\n    .dataframe tbody tr th {\n        vertical-align: top;\n    }\n\n    .dataframe thead th {\n        text-align: right;\n    }\n</style>\n<table border=\"1\" class=\"dataframe\">\n  <thead>\n    <tr style=\"text-align: right;\">\n      <th></th>\n      <th>symbol</th>\n      <th>name</th>\n      <th>init_inv</th>\n      <th>tna</th>\n      <th>ytd_return</th>\n      <th>ms_rating</th>\n      <th>inv_type</th>\n      <th>size_type</th>\n      <th>exp_ratio</th>\n      <th>buy</th>\n      <th>...</th>\n      <th>er_high</th>\n      <th>init_inv_low</th>\n      <th>init_inv_medium</th>\n      <th>init_inv_high</th>\n      <th>ytd_low</th>\n      <th>ytd_moderate</th>\n      <th>ytd_high</th>\n      <th>growth</th>\n      <th>value</th>\n      <th>blend</th>\n    </tr>\n  </thead>\n  <tbody>\n    <tr>\n      <th>0</th>\n      <td>AAAAX</td>\n      <td>DWS RREEF Real Assets Fund - Class A</td>\n      <td>1,000.00</td>\n      <td>2,979,347,456.00</td>\n      <td>0.21</td>\n      <td>3.00</td>\n      <td>Value</td>\n      <td>Large</td>\n      <td>0.01</td>\n      <td>0</td>\n      <td>...</td>\n      <td>1</td>\n      <td>1</td>\n      <td>0</td>\n      <td>0</td>\n      <td>0</td>\n      <td>0</td>\n      <td>1</td>\n      <td>0</td>\n      <td>1</td>\n      <td>0</td>\n    </tr>\n    <tr>\n      <th>1</th>\n      <td>AAAEX</td>\n      <td>Virtus AllianzGI Health Sciences Fund Class P</td>\n      <td>1,000,000.00</td>\n      <td>195,348,944.00</td>\n      <td>0.19</td>\n      <td>3.00</td>\n      <td>Blend</td>\n      <td>Large</td>\n      <td>0.01</td>\n      <td>0</td>\n      <td>...</td>\n      <td>1</td>\n      <td>0</td>\n      <td>0</td>\n      <td>1</td>\n      <td>0</td>\n      <td>0</td>\n      <td>1</td>\n      <td>0</td>\n      <td>0</td>\n      <td>1</td>\n    </tr>\n    <tr>\n      <th>2</th>\n      <td>AAAFX</td>\n      <td>American Century One Choice Blend+ 2015 Portfo...</td>\n      <td>2,500.00</td>\n      <td>25,946.00</td>\n      <td>0.00</td>\n      <td>0.00</td>\n      <td>Blend</td>\n      <td>Large</td>\n      <td>0.01</td>\n      <td>0</td>\n      <td>...</td>\n      <td>0</td>\n      <td>0</td>\n      <td>1</td>\n      <td>0</td>\n      <td>0</td>\n      <td>0</td>\n      <td>0</td>\n      <td>0</td>\n      <td>0</td>\n      <td>1</td>\n    </tr>\n    <tr>\n      <th>3</th>\n      <td>AAAGX</td>\n      <td>Thrivent Large Cap Growth Fund Class A</td>\n      <td>2,000.00</td>\n      <td>2,078,606,848.00</td>\n      <td>0.25</td>\n      <td>4.00</td>\n      <td>Growth</td>\n      <td>Large</td>\n      <td>0.01</td>\n      <td>1</td>\n      <td>...</td>\n      <td>1</td>\n      <td>0</td>\n      <td>1</td>\n      <td>0</td>\n      <td>0</td>\n      <td>0</td>\n      <td>1</td>\n      <td>1</td>\n      <td>0</td>\n      <td>0</td>\n    </tr>\n    <tr>\n      <th>4</th>\n      <td>AAAHX</td>\n      <td>American Century One Choice Blend+ 2015 Portfo...</td>\n      <td>5,000,000.00</td>\n      <td>25,946.00</td>\n      <td>0.00</td>\n      <td>0.00</td>\n      <td>Blend</td>\n      <td>Large</td>\n      <td>0.00</td>\n      <td>0</td>\n      <td>...</td>\n      <td>0</td>\n      <td>0</td>\n      <td>0</td>\n      <td>1</td>\n      <td>0</td>\n      <td>0</td>\n      <td>0</td>\n      <td>0</td>\n      <td>0</td>\n      <td>1</td>\n    </tr>\n  </tbody>\n</table>\n<p>5 rows × 25 columns</p>\n</div>"
     },
     "execution_count": 95,
     "metadata": {},
     "output_type": "execute_result"
    }
   ],
   "source": [
    "# Using Investment Type values to add new columns named \"growth\", \"value\" and \"blend\"\n",
    "df_mutual_fund['growth'] = (df_mutual_fund['inv_type'] == 'Growth').astype(int)\n",
    "df_mutual_fund['value'] = (df_mutual_fund['inv_type'] == 'Value').astype(int)\n",
    "df_mutual_fund['blend'] = (df_mutual_fund['inv_type'] == 'Blend').astype(int)\n",
    "df_mutual_fund.head()"
   ],
   "metadata": {
    "collapsed": false,
    "pycharm": {
     "name": "#%%\n"
    }
   }
  },
  {
   "cell_type": "markdown",
   "source": [
    "###### 4.1.2: Adding features to Customer"
   ],
   "metadata": {
    "collapsed": false,
    "pycharm": {
     "name": "#%% md\n"
    }
   }
  },
  {
   "cell_type": "code",
   "execution_count": 96,
   "outputs": [],
   "source": [
    "# Extracting features for Customer\n",
    "# Use the 'opportunity' data and set a new column with 1 if the total sales of a customer is less than 75% of the opportunity value for that customer\n",
    "# Otherwise, set it to 0\n",
    "\n",
    "df_cust_tmp = pd.merge(df_txn.groupby('customer_id').sum()['sales'].reset_index(), df_customer, on='customer_id')[['customer_id', 'sales', 'opportunity']]\n",
    "df_customer['sale_opportunity'] = (df_cust_tmp['sales'] * .75 < df_cust_tmp['opportunity']).astype(int)"
   ],
   "metadata": {
    "collapsed": false,
    "pycharm": {
     "name": "#%%\n"
    }
   }
  },
  {
   "cell_type": "code",
   "execution_count": 97,
   "outputs": [
    {
     "data": {
      "text/plain": "   customer_id first_name last_name      city state_code  zip country  \\\n0        50037  Franklinc    Spango  San Juan         PR  917     USA   \n1        50038     Derrel   Cazzell  San Juan         PR  918     USA   \n2        50039    Mayrely    Deitel  San Juan         PR  918     USA   \n3        50040      Beena    Karpay  San Juan         PR  918     USA   \n4        50041    Malachi     Winik  San Juan         PR  918     USA   \n\n              latitude            longitude  opportunity  sale_opportunity  \n0                39.56              -119.49        30000                 0  \n1                18.47               -66.11       105000                 0  \n2                39.56              -119.49        10000                 0  \n3                39.56              -119.49       105000                 0  \n4                18.47               -66.11       105000                 0  ",
      "text/html": "<div>\n<style scoped>\n    .dataframe tbody tr th:only-of-type {\n        vertical-align: middle;\n    }\n\n    .dataframe tbody tr th {\n        vertical-align: top;\n    }\n\n    .dataframe thead th {\n        text-align: right;\n    }\n</style>\n<table border=\"1\" class=\"dataframe\">\n  <thead>\n    <tr style=\"text-align: right;\">\n      <th></th>\n      <th>customer_id</th>\n      <th>first_name</th>\n      <th>last_name</th>\n      <th>city</th>\n      <th>state_code</th>\n      <th>zip</th>\n      <th>country</th>\n      <th>latitude</th>\n      <th>longitude</th>\n      <th>opportunity</th>\n      <th>sale_opportunity</th>\n    </tr>\n  </thead>\n  <tbody>\n    <tr>\n      <th>0</th>\n      <td>50037</td>\n      <td>Franklinc</td>\n      <td>Spango</td>\n      <td>San Juan</td>\n      <td>PR</td>\n      <td>917</td>\n      <td>USA</td>\n      <td>39.56</td>\n      <td>-119.49</td>\n      <td>30000</td>\n      <td>0</td>\n    </tr>\n    <tr>\n      <th>1</th>\n      <td>50038</td>\n      <td>Derrel</td>\n      <td>Cazzell</td>\n      <td>San Juan</td>\n      <td>PR</td>\n      <td>918</td>\n      <td>USA</td>\n      <td>18.47</td>\n      <td>-66.11</td>\n      <td>105000</td>\n      <td>0</td>\n    </tr>\n    <tr>\n      <th>2</th>\n      <td>50039</td>\n      <td>Mayrely</td>\n      <td>Deitel</td>\n      <td>San Juan</td>\n      <td>PR</td>\n      <td>918</td>\n      <td>USA</td>\n      <td>39.56</td>\n      <td>-119.49</td>\n      <td>10000</td>\n      <td>0</td>\n    </tr>\n    <tr>\n      <th>3</th>\n      <td>50040</td>\n      <td>Beena</td>\n      <td>Karpay</td>\n      <td>San Juan</td>\n      <td>PR</td>\n      <td>918</td>\n      <td>USA</td>\n      <td>39.56</td>\n      <td>-119.49</td>\n      <td>105000</td>\n      <td>0</td>\n    </tr>\n    <tr>\n      <th>4</th>\n      <td>50041</td>\n      <td>Malachi</td>\n      <td>Winik</td>\n      <td>San Juan</td>\n      <td>PR</td>\n      <td>918</td>\n      <td>USA</td>\n      <td>18.47</td>\n      <td>-66.11</td>\n      <td>105000</td>\n      <td>0</td>\n    </tr>\n  </tbody>\n</table>\n</div>"
     },
     "execution_count": 97,
     "metadata": {},
     "output_type": "execute_result"
    }
   ],
   "source": [
    "df_customer.head()"
   ],
   "metadata": {
    "collapsed": false,
    "pycharm": {
     "name": "#%%\n"
    }
   }
  },
  {
   "cell_type": "markdown",
   "source": [
    "###### 4.1.3: Adding features to Transactions"
   ],
   "metadata": {
    "collapsed": false,
    "pycharm": {
     "name": "#%% md\n"
    }
   }
  },
  {
   "cell_type": "code",
   "execution_count": 98,
   "outputs": [
    {
     "data": {
      "text/plain": "      txn_id  txn_date  customer_id symbol                sales  \\\n0  422909780  5/2/2016        59532  MLUYX            13,687.83   \n1  422909781  5/2/2016        60660  PFJAX                 0.00   \n2  422909782  5/2/2016        52939  SBTAX             4,153.98   \n3  422909783  5/2/2016        52990  MNMCX            27,452.30   \n4  422909784  5/2/2016        60343  IDAEX             6,433.14   \n5  422909785  5/2/2016        66341  CEUCX             1,124.98   \n6  422909786  5/2/2016        65708  QMLFX                 0.00   \n7  422909787  5/2/2016        52204  FAVTX                 0.00   \n8  422909788  5/2/2016        54242  JDVRX            11,588.50   \n9  422909789  5/2/2016        57716  MSFAX             9,011.30   \n\n           redemptions  fund_recommended  \n0                 0.00                 1  \n1            -4,286.23                 1  \n2                 0.00                 1  \n3                 0.00                 1  \n4                 0.00                 1  \n5                 0.00                 1  \n6            -6,891.62                 1  \n7            -4,252.69                 1  \n8                 0.00                 1  \n9                 0.00                 1  ",
      "text/html": "<div>\n<style scoped>\n    .dataframe tbody tr th:only-of-type {\n        vertical-align: middle;\n    }\n\n    .dataframe tbody tr th {\n        vertical-align: top;\n    }\n\n    .dataframe thead th {\n        text-align: right;\n    }\n</style>\n<table border=\"1\" class=\"dataframe\">\n  <thead>\n    <tr style=\"text-align: right;\">\n      <th></th>\n      <th>txn_id</th>\n      <th>txn_date</th>\n      <th>customer_id</th>\n      <th>symbol</th>\n      <th>sales</th>\n      <th>redemptions</th>\n      <th>fund_recommended</th>\n    </tr>\n  </thead>\n  <tbody>\n    <tr>\n      <th>0</th>\n      <td>422909780</td>\n      <td>5/2/2016</td>\n      <td>59532</td>\n      <td>MLUYX</td>\n      <td>13,687.83</td>\n      <td>0.00</td>\n      <td>1</td>\n    </tr>\n    <tr>\n      <th>1</th>\n      <td>422909781</td>\n      <td>5/2/2016</td>\n      <td>60660</td>\n      <td>PFJAX</td>\n      <td>0.00</td>\n      <td>-4,286.23</td>\n      <td>1</td>\n    </tr>\n    <tr>\n      <th>2</th>\n      <td>422909782</td>\n      <td>5/2/2016</td>\n      <td>52939</td>\n      <td>SBTAX</td>\n      <td>4,153.98</td>\n      <td>0.00</td>\n      <td>1</td>\n    </tr>\n    <tr>\n      <th>3</th>\n      <td>422909783</td>\n      <td>5/2/2016</td>\n      <td>52990</td>\n      <td>MNMCX</td>\n      <td>27,452.30</td>\n      <td>0.00</td>\n      <td>1</td>\n    </tr>\n    <tr>\n      <th>4</th>\n      <td>422909784</td>\n      <td>5/2/2016</td>\n      <td>60343</td>\n      <td>IDAEX</td>\n      <td>6,433.14</td>\n      <td>0.00</td>\n      <td>1</td>\n    </tr>\n    <tr>\n      <th>5</th>\n      <td>422909785</td>\n      <td>5/2/2016</td>\n      <td>66341</td>\n      <td>CEUCX</td>\n      <td>1,124.98</td>\n      <td>0.00</td>\n      <td>1</td>\n    </tr>\n    <tr>\n      <th>6</th>\n      <td>422909786</td>\n      <td>5/2/2016</td>\n      <td>65708</td>\n      <td>QMLFX</td>\n      <td>0.00</td>\n      <td>-6,891.62</td>\n      <td>1</td>\n    </tr>\n    <tr>\n      <th>7</th>\n      <td>422909787</td>\n      <td>5/2/2016</td>\n      <td>52204</td>\n      <td>FAVTX</td>\n      <td>0.00</td>\n      <td>-4,252.69</td>\n      <td>1</td>\n    </tr>\n    <tr>\n      <th>8</th>\n      <td>422909788</td>\n      <td>5/2/2016</td>\n      <td>54242</td>\n      <td>JDVRX</td>\n      <td>11,588.50</td>\n      <td>0.00</td>\n      <td>1</td>\n    </tr>\n    <tr>\n      <th>9</th>\n      <td>422909789</td>\n      <td>5/2/2016</td>\n      <td>57716</td>\n      <td>MSFAX</td>\n      <td>9,011.30</td>\n      <td>0.00</td>\n      <td>1</td>\n    </tr>\n  </tbody>\n</table>\n</div>"
     },
     "execution_count": 98,
     "metadata": {},
     "output_type": "execute_result"
    }
   ],
   "source": [
    "# Extracting features for Transactions\n",
    "# Use the net sales value (Sales - Redemptions) grouped by fund to set a new column titled 'fund_recommended' to 1 if net sales > 250,000; 0 otherwise\n",
    "df_txn_tmp = (df_txn.groupby('symbol').sum()['sales'] + df_txn.groupby('symbol').sum()['redemptions']).to_frame().reset_index()\n",
    "df_txn_tmp.columns = ['symbol', 'net_sales']\n",
    "df_txn['fund_recommended'] = (df_txn_tmp['net_sales'] > 250000).astype(int)\n",
    "df_txn['fund_recommended'] = df_txn['fund_recommended'].fillna(value=0).astype(int)\n",
    "df_txn.head(10)"
   ],
   "metadata": {
    "collapsed": false,
    "pycharm": {
     "name": "#%%\n"
    }
   }
  },
  {
   "cell_type": "markdown",
   "source": [
    "###### 4.1.4: Create a Customer-Mutual Fund Interactions dataset from the Transactions dataset"
   ],
   "metadata": {
    "collapsed": false,
    "pycharm": {
     "name": "#%% md\n"
    }
   }
  },
  {
   "cell_type": "code",
   "execution_count": 99,
   "outputs": [],
   "source": [
    "# Create a Customer-Mutual Fund interaction dataset from df_txn\n",
    "df_cust_fund_interactions = df_txn[['customer_id', 'symbol', 'fund_recommended']].drop_duplicates()"
   ],
   "metadata": {
    "collapsed": false,
    "pycharm": {
     "name": "#%%\n"
    }
   }
  },
  {
   "cell_type": "code",
   "execution_count": 100,
   "outputs": [
    {
     "data": {
      "text/plain": "   customer_id symbol  fund_recommended\n0        59532  MLUYX                 1\n1        60660  PFJAX                 1\n2        52939  SBTAX                 1\n3        52990  MNMCX                 1\n4        60343  IDAEX                 1",
      "text/html": "<div>\n<style scoped>\n    .dataframe tbody tr th:only-of-type {\n        vertical-align: middle;\n    }\n\n    .dataframe tbody tr th {\n        vertical-align: top;\n    }\n\n    .dataframe thead th {\n        text-align: right;\n    }\n</style>\n<table border=\"1\" class=\"dataframe\">\n  <thead>\n    <tr style=\"text-align: right;\">\n      <th></th>\n      <th>customer_id</th>\n      <th>symbol</th>\n      <th>fund_recommended</th>\n    </tr>\n  </thead>\n  <tbody>\n    <tr>\n      <th>0</th>\n      <td>59532</td>\n      <td>MLUYX</td>\n      <td>1</td>\n    </tr>\n    <tr>\n      <th>1</th>\n      <td>60660</td>\n      <td>PFJAX</td>\n      <td>1</td>\n    </tr>\n    <tr>\n      <th>2</th>\n      <td>52939</td>\n      <td>SBTAX</td>\n      <td>1</td>\n    </tr>\n    <tr>\n      <th>3</th>\n      <td>52990</td>\n      <td>MNMCX</td>\n      <td>1</td>\n    </tr>\n    <tr>\n      <th>4</th>\n      <td>60343</td>\n      <td>IDAEX</td>\n      <td>1</td>\n    </tr>\n  </tbody>\n</table>\n</div>"
     },
     "execution_count": 100,
     "metadata": {},
     "output_type": "execute_result"
    }
   ],
   "source": [
    "df_cust_fund_interactions.head()"
   ],
   "metadata": {
    "collapsed": false,
    "pycharm": {
     "name": "#%%\n"
    }
   }
  },
  {
   "cell_type": "markdown",
   "source": [
    "##### 4.2: Create the necessary matrices with the above data"
   ],
   "metadata": {
    "collapsed": false,
    "pycharm": {
     "name": "#%% md\n"
    }
   }
  },
  {
   "cell_type": "markdown",
   "source": [
    "###### 4.2.1: Defining a function to create a generic feature matrix"
   ],
   "metadata": {
    "collapsed": false,
    "pycharm": {
     "name": "#%% md\n"
    }
   }
  },
  {
   "cell_type": "code",
   "execution_count": 101,
   "outputs": [],
   "source": [
    "def create_feature_matrix(df, index, column, value, fill_na_val=0):\n",
    "    \"\"\"\n",
    "    A function that accepts a source dataframe and creates a 1/0 value feature matrix out of it based on inputs\n",
    "    It fills NaN values with the fill_na_val parameter passed in\n",
    "    :param df: (pandas.core.frame.DataFrame) source dataframe that contains the data\n",
    "    :param index: (str) the column that should be used as row header in the matrix\n",
    "    :param column: (str) the column that should be pivoted as multiple columns\n",
    "    :param value: (str) the column that contains the values for the pivoted columns\n",
    "    :param fill_na_val: (int) defaults to 0\n",
    "    :return: (pandas.core.frame.DataFrame) the dataframe containing the matrix\n",
    "    \"\"\"\n",
    "\n",
    "    try:\n",
    "        matrix = df.pivot(index=index, columns=column, values=value).fillna(value=fill_na_val)\n",
    "    except ValueError:\n",
    "        # In case the pivot method throws an exception, try the pivot_table method\n",
    "        matrix = df.pivot_table(index=index, columns=column, values=value, aggfunc='sum').fillna(value=fill_na_val)\n",
    "\n",
    "    # Downcast all numeric values to int so that the features can have the values 0 or 1\n",
    "    matrix = matrix.apply(pd.to_numeric, errors='ignore', downcast='integer')\n",
    "\n",
    "    return matrix"
   ],
   "metadata": {
    "collapsed": false,
    "pycharm": {
     "name": "#%%\n"
    }
   }
  },
  {
   "cell_type": "markdown",
   "source": [
    "###### 4.2.2: Create a matrix to hold Customer-Fund Buy values"
   ],
   "metadata": {
    "collapsed": false,
    "pycharm": {
     "name": "#%% md\n"
    }
   }
  },
  {
   "cell_type": "code",
   "execution_count": 102,
   "outputs": [],
   "source": [
    "input_df = pd.merge(df_cust_fund_interactions, df_mutual_fund, on='symbol')[['customer_id', 'symbol', 'buy']].drop_duplicates()\n",
    "df_cust_fund_buy_matrix = create_feature_matrix(input_df, 'customer_id', 'symbol', 'buy')"
   ],
   "metadata": {
    "collapsed": false,
    "pycharm": {
     "name": "#%%\n"
    }
   }
  },
  {
   "cell_type": "code",
   "execution_count": 103,
   "outputs": [
    {
     "data": {
      "text/plain": "symbol       AABYX  AAMBX  AAUTX  ABNDX  ABQUX  ABTZX  ABYAX  ACCWX  ACEIX  \\\ncustomer_id                                                                  \n50037            0      0      0      0      0      0      0      0      0   \n50038            0      0      0      0      0      0      0      0      0   \n50039            0      0      0      0      0      0      0      0      0   \n50040            0      0      0      0      0      0      0      0      0   \n50041            0      0      0      0      0      0      0      0      0   \n\nsymbol       ACEVX  ...  WMMAX  WPRSX  WRGCX  WSHFX  WSIDX  WSMAX  WTABX  \\\ncustomer_id         ...                                                    \n50037            0  ...      0      0      0      0      0      0      0   \n50038            0  ...      0      0      0      0      0      0      0   \n50039            0  ...      0      0      0      0      0      0      0   \n50040            0  ...      0      0      0      0      0      0      0   \n50041            0  ...      0      0      0      0      0      0      0   \n\nsymbol       WUSNX  WWIDX  YASLX  \ncustomer_id                       \n50037            0      0      0  \n50038            0      0      0  \n50039            0      0      0  \n50040            0      0      0  \n50041            0      0      0  \n\n[5 rows x 1078 columns]",
      "text/html": "<div>\n<style scoped>\n    .dataframe tbody tr th:only-of-type {\n        vertical-align: middle;\n    }\n\n    .dataframe tbody tr th {\n        vertical-align: top;\n    }\n\n    .dataframe thead th {\n        text-align: right;\n    }\n</style>\n<table border=\"1\" class=\"dataframe\">\n  <thead>\n    <tr style=\"text-align: right;\">\n      <th>symbol</th>\n      <th>AABYX</th>\n      <th>AAMBX</th>\n      <th>AAUTX</th>\n      <th>ABNDX</th>\n      <th>ABQUX</th>\n      <th>ABTZX</th>\n      <th>ABYAX</th>\n      <th>ACCWX</th>\n      <th>ACEIX</th>\n      <th>ACEVX</th>\n      <th>...</th>\n      <th>WMMAX</th>\n      <th>WPRSX</th>\n      <th>WRGCX</th>\n      <th>WSHFX</th>\n      <th>WSIDX</th>\n      <th>WSMAX</th>\n      <th>WTABX</th>\n      <th>WUSNX</th>\n      <th>WWIDX</th>\n      <th>YASLX</th>\n    </tr>\n    <tr>\n      <th>customer_id</th>\n      <th></th>\n      <th></th>\n      <th></th>\n      <th></th>\n      <th></th>\n      <th></th>\n      <th></th>\n      <th></th>\n      <th></th>\n      <th></th>\n      <th></th>\n      <th></th>\n      <th></th>\n      <th></th>\n      <th></th>\n      <th></th>\n      <th></th>\n      <th></th>\n      <th></th>\n      <th></th>\n      <th></th>\n    </tr>\n  </thead>\n  <tbody>\n    <tr>\n      <th>50037</th>\n      <td>0</td>\n      <td>0</td>\n      <td>0</td>\n      <td>0</td>\n      <td>0</td>\n      <td>0</td>\n      <td>0</td>\n      <td>0</td>\n      <td>0</td>\n      <td>0</td>\n      <td>...</td>\n      <td>0</td>\n      <td>0</td>\n      <td>0</td>\n      <td>0</td>\n      <td>0</td>\n      <td>0</td>\n      <td>0</td>\n      <td>0</td>\n      <td>0</td>\n      <td>0</td>\n    </tr>\n    <tr>\n      <th>50038</th>\n      <td>0</td>\n      <td>0</td>\n      <td>0</td>\n      <td>0</td>\n      <td>0</td>\n      <td>0</td>\n      <td>0</td>\n      <td>0</td>\n      <td>0</td>\n      <td>0</td>\n      <td>...</td>\n      <td>0</td>\n      <td>0</td>\n      <td>0</td>\n      <td>0</td>\n      <td>0</td>\n      <td>0</td>\n      <td>0</td>\n      <td>0</td>\n      <td>0</td>\n      <td>0</td>\n    </tr>\n    <tr>\n      <th>50039</th>\n      <td>0</td>\n      <td>0</td>\n      <td>0</td>\n      <td>0</td>\n      <td>0</td>\n      <td>0</td>\n      <td>0</td>\n      <td>0</td>\n      <td>0</td>\n      <td>0</td>\n      <td>...</td>\n      <td>0</td>\n      <td>0</td>\n      <td>0</td>\n      <td>0</td>\n      <td>0</td>\n      <td>0</td>\n      <td>0</td>\n      <td>0</td>\n      <td>0</td>\n      <td>0</td>\n    </tr>\n    <tr>\n      <th>50040</th>\n      <td>0</td>\n      <td>0</td>\n      <td>0</td>\n      <td>0</td>\n      <td>0</td>\n      <td>0</td>\n      <td>0</td>\n      <td>0</td>\n      <td>0</td>\n      <td>0</td>\n      <td>...</td>\n      <td>0</td>\n      <td>0</td>\n      <td>0</td>\n      <td>0</td>\n      <td>0</td>\n      <td>0</td>\n      <td>0</td>\n      <td>0</td>\n      <td>0</td>\n      <td>0</td>\n    </tr>\n    <tr>\n      <th>50041</th>\n      <td>0</td>\n      <td>0</td>\n      <td>0</td>\n      <td>0</td>\n      <td>0</td>\n      <td>0</td>\n      <td>0</td>\n      <td>0</td>\n      <td>0</td>\n      <td>0</td>\n      <td>...</td>\n      <td>0</td>\n      <td>0</td>\n      <td>0</td>\n      <td>0</td>\n      <td>0</td>\n      <td>0</td>\n      <td>0</td>\n      <td>0</td>\n      <td>0</td>\n      <td>0</td>\n    </tr>\n  </tbody>\n</table>\n<p>5 rows × 1078 columns</p>\n</div>"
     },
     "execution_count": 103,
     "metadata": {},
     "output_type": "execute_result"
    }
   ],
   "source": [
    "df_cust_fund_buy_matrix.head()"
   ],
   "metadata": {
    "collapsed": false,
    "pycharm": {
     "name": "#%%\n"
    }
   }
  },
  {
   "cell_type": "markdown",
   "source": [
    "###### 4.2.3: Crate matrices to hold Customer-Fund Size values - one each for small, medium and large"
   ],
   "metadata": {
    "collapsed": false,
    "pycharm": {
     "name": "#%% md\n"
    }
   }
  },
  {
   "cell_type": "code",
   "execution_count": 104,
   "outputs": [],
   "source": [
    "df_cust_fund_size = pd.merge(df_cust_fund_interactions, df_mutual_fund, on='symbol')[['customer_id', 'symbol', 'small', 'medium', 'large']].drop_duplicates()"
   ],
   "metadata": {
    "collapsed": false,
    "pycharm": {
     "name": "#%%\n"
    }
   }
  },
  {
   "cell_type": "code",
   "execution_count": 105,
   "outputs": [
    {
     "data": {
      "text/plain": "   customer_id symbol  small  medium  large\n0        59532  MLUYX      0       1      0\n1        64981  MLUYX      0       1      0\n2        59521  MLUYX      0       1      0\n3        61570  MLUYX      0       1      0\n4        59414  MLUYX      0       1      0",
      "text/html": "<div>\n<style scoped>\n    .dataframe tbody tr th:only-of-type {\n        vertical-align: middle;\n    }\n\n    .dataframe tbody tr th {\n        vertical-align: top;\n    }\n\n    .dataframe thead th {\n        text-align: right;\n    }\n</style>\n<table border=\"1\" class=\"dataframe\">\n  <thead>\n    <tr style=\"text-align: right;\">\n      <th></th>\n      <th>customer_id</th>\n      <th>symbol</th>\n      <th>small</th>\n      <th>medium</th>\n      <th>large</th>\n    </tr>\n  </thead>\n  <tbody>\n    <tr>\n      <th>0</th>\n      <td>59532</td>\n      <td>MLUYX</td>\n      <td>0</td>\n      <td>1</td>\n      <td>0</td>\n    </tr>\n    <tr>\n      <th>1</th>\n      <td>64981</td>\n      <td>MLUYX</td>\n      <td>0</td>\n      <td>1</td>\n      <td>0</td>\n    </tr>\n    <tr>\n      <th>2</th>\n      <td>59521</td>\n      <td>MLUYX</td>\n      <td>0</td>\n      <td>1</td>\n      <td>0</td>\n    </tr>\n    <tr>\n      <th>3</th>\n      <td>61570</td>\n      <td>MLUYX</td>\n      <td>0</td>\n      <td>1</td>\n      <td>0</td>\n    </tr>\n    <tr>\n      <th>4</th>\n      <td>59414</td>\n      <td>MLUYX</td>\n      <td>0</td>\n      <td>1</td>\n      <td>0</td>\n    </tr>\n  </tbody>\n</table>\n</div>"
     },
     "execution_count": 105,
     "metadata": {},
     "output_type": "execute_result"
    }
   ],
   "source": [
    "df_cust_fund_size.head()"
   ],
   "metadata": {
    "collapsed": false,
    "pycharm": {
     "name": "#%%\n"
    }
   }
  },
  {
   "cell_type": "code",
   "execution_count": 106,
   "outputs": [],
   "source": [
    "df_cust_fund_small_matrix = create_feature_matrix(df_cust_fund_size, 'customer_id', 'symbol', 'small')\n",
    "df_cust_fund_medium_matrix = create_feature_matrix(df_cust_fund_size, 'customer_id', 'symbol', 'medium')\n",
    "df_cust_fund_large_matrix = create_feature_matrix(df_cust_fund_size, 'customer_id', 'symbol', 'large')"
   ],
   "metadata": {
    "collapsed": false,
    "pycharm": {
     "name": "#%%\n"
    }
   }
  },
  {
   "cell_type": "code",
   "execution_count": 107,
   "outputs": [
    {
     "name": "stdout",
     "output_type": "stream",
     "text": [
      "symbol       AABYX  AAMBX  AAUTX  ABNDX  ABQUX  ABTZX  ABYAX  ACCWX  ACEIX  \\\n",
      "customer_id                                                                  \n",
      "50037            0      0      0      0      0      0      0      0      0   \n",
      "50038            0      0      0      0      0      0      0      0      0   \n",
      "50039            0      0      0      0      0      0      0      0      0   \n",
      "50040            0      0      0      0      0      0      0      0      0   \n",
      "50041            0      0      0      0      0      0      0      0      0   \n",
      "\n",
      "symbol       ACEVX  ...  WMMAX  WPRSX  WRGCX  WSHFX  WSIDX  WSMAX  WTABX  \\\n",
      "customer_id         ...                                                    \n",
      "50037            0  ...      0      0      0      0      0      0      0   \n",
      "50038            0  ...      1      0      0      0      0      0      0   \n",
      "50039            0  ...      0      0      0      0      0      0      0   \n",
      "50040            0  ...      0      0      0      0      0      0      0   \n",
      "50041            0  ...      0      0      0      0      0      0      0   \n",
      "\n",
      "symbol       WUSNX  WWIDX  YASLX  \n",
      "customer_id                       \n",
      "50037            0      0      0  \n",
      "50038            0      0      0  \n",
      "50039            0      0      0  \n",
      "50040            0      0      0  \n",
      "50041            0      0      0  \n",
      "\n",
      "[5 rows x 1078 columns]\n",
      "symbol       AABYX  AAMBX  AAUTX  ABNDX  ABQUX  ABTZX  ABYAX  ACCWX  ACEIX  \\\n",
      "customer_id                                                                  \n",
      "50037            0      0      0      0      0      0      0      0      0   \n",
      "50038            0      0      0      0      0      0      0      0      0   \n",
      "50039            0      0      0      0      0      0      0      0      0   \n",
      "50040            0      0      0      0      0      0      0      0      0   \n",
      "50041            0      0      0      0      0      0      0      0      0   \n",
      "\n",
      "symbol       ACEVX  ...  WMMAX  WPRSX  WRGCX  WSHFX  WSIDX  WSMAX  WTABX  \\\n",
      "customer_id         ...                                                    \n",
      "50037            0  ...      0      0      0      0      0      0      0   \n",
      "50038            0  ...      0      0      0      0      0      1      0   \n",
      "50039            0  ...      0      0      0      0      0      0      0   \n",
      "50040            0  ...      0      0      0      0      0      0      0   \n",
      "50041            0  ...      0      0      0      0      0      1      0   \n",
      "\n",
      "symbol       WUSNX  WWIDX  YASLX  \n",
      "customer_id                       \n",
      "50037            0      0      0  \n",
      "50038            0      0      0  \n",
      "50039            0      0      0  \n",
      "50040            0      0      0  \n",
      "50041            0      0      0  \n",
      "\n",
      "[5 rows x 1078 columns]\n",
      "symbol       AABYX  AAMBX  AAUTX  ABNDX  ABQUX  ABTZX  ABYAX  ACCWX  ACEIX  \\\n",
      "customer_id                                                                  \n",
      "50037            0      0      1      0      0      0      0      0      0   \n",
      "50038            0      0      0      0      0      0      0      0      0   \n",
      "50039            0      0      0      0      0      0      0      0      1   \n",
      "50040            0      0      0      0      0      0      0      0      0   \n",
      "50041            0      0      0      0      0      0      0      0      0   \n",
      "\n",
      "symbol       ACEVX  ...  WMMAX  WPRSX  WRGCX  WSHFX  WSIDX  WSMAX  WTABX  \\\n",
      "customer_id         ...                                                    \n",
      "50037            1  ...      0      0      0      0      0      0      0   \n",
      "50038            0  ...      0      0      0      0      0      0      0   \n",
      "50039            0  ...      0      1      0      0      0      0      0   \n",
      "50040            0  ...      0      0      0      0      0      0      0   \n",
      "50041            0  ...      0      0      0      0      0      0      0   \n",
      "\n",
      "symbol       WUSNX  WWIDX  YASLX  \n",
      "customer_id                       \n",
      "50037            0      0      0  \n",
      "50038            0      0      0  \n",
      "50039            0      0      0  \n",
      "50040            0      0      0  \n",
      "50041            0      0      0  \n",
      "\n",
      "[5 rows x 1078 columns]\n"
     ]
    }
   ],
   "source": [
    "print(df_cust_fund_small_matrix.head())\n",
    "print(df_cust_fund_medium_matrix.head())\n",
    "print(df_cust_fund_large_matrix.head())"
   ],
   "metadata": {
    "collapsed": false,
    "pycharm": {
     "name": "#%%\n"
    }
   }
  },
  {
   "cell_type": "markdown",
   "source": [
    "###### 4.2.4: Crate a matrix to hold Customer-Fund Expense Ratio values - one each for low, medium and high"
   ],
   "metadata": {
    "collapsed": false,
    "pycharm": {
     "name": "#%% md\n"
    }
   }
  },
  {
   "cell_type": "code",
   "execution_count": 108,
   "outputs": [],
   "source": [
    "df_cust_fund_er = pd.merge(df_cust_fund_interactions, df_mutual_fund, on='symbol')[['customer_id', 'symbol', 'er_low', 'er_medium', 'er_high']].drop_duplicates()"
   ],
   "metadata": {
    "collapsed": false,
    "pycharm": {
     "name": "#%%\n"
    }
   }
  },
  {
   "cell_type": "code",
   "execution_count": 109,
   "outputs": [
    {
     "data": {
      "text/plain": "   customer_id symbol  er_low  er_medium  er_high\n0        59532  MLUYX       0          1        0\n1        64981  MLUYX       0          1        0\n2        59521  MLUYX       0          1        0\n3        61570  MLUYX       0          1        0\n4        59414  MLUYX       0          1        0",
      "text/html": "<div>\n<style scoped>\n    .dataframe tbody tr th:only-of-type {\n        vertical-align: middle;\n    }\n\n    .dataframe tbody tr th {\n        vertical-align: top;\n    }\n\n    .dataframe thead th {\n        text-align: right;\n    }\n</style>\n<table border=\"1\" class=\"dataframe\">\n  <thead>\n    <tr style=\"text-align: right;\">\n      <th></th>\n      <th>customer_id</th>\n      <th>symbol</th>\n      <th>er_low</th>\n      <th>er_medium</th>\n      <th>er_high</th>\n    </tr>\n  </thead>\n  <tbody>\n    <tr>\n      <th>0</th>\n      <td>59532</td>\n      <td>MLUYX</td>\n      <td>0</td>\n      <td>1</td>\n      <td>0</td>\n    </tr>\n    <tr>\n      <th>1</th>\n      <td>64981</td>\n      <td>MLUYX</td>\n      <td>0</td>\n      <td>1</td>\n      <td>0</td>\n    </tr>\n    <tr>\n      <th>2</th>\n      <td>59521</td>\n      <td>MLUYX</td>\n      <td>0</td>\n      <td>1</td>\n      <td>0</td>\n    </tr>\n    <tr>\n      <th>3</th>\n      <td>61570</td>\n      <td>MLUYX</td>\n      <td>0</td>\n      <td>1</td>\n      <td>0</td>\n    </tr>\n    <tr>\n      <th>4</th>\n      <td>59414</td>\n      <td>MLUYX</td>\n      <td>0</td>\n      <td>1</td>\n      <td>0</td>\n    </tr>\n  </tbody>\n</table>\n</div>"
     },
     "execution_count": 109,
     "metadata": {},
     "output_type": "execute_result"
    }
   ],
   "source": [
    "df_cust_fund_er.head()"
   ],
   "metadata": {
    "collapsed": false,
    "pycharm": {
     "name": "#%%\n"
    }
   }
  },
  {
   "cell_type": "code",
   "execution_count": 110,
   "outputs": [],
   "source": [
    "df_cust_fund_er_low_matrix = create_feature_matrix(df_cust_fund_er, 'customer_id', 'symbol', 'er_low')\n",
    "df_cust_fund_er_medium_matrix = create_feature_matrix(df_cust_fund_er, 'customer_id', 'symbol', 'er_medium')\n",
    "df_cust_fund_er_high_matrix = create_feature_matrix(df_cust_fund_er, 'customer_id', 'symbol', 'er_high')"
   ],
   "metadata": {
    "collapsed": false,
    "pycharm": {
     "name": "#%%\n"
    }
   }
  },
  {
   "cell_type": "code",
   "execution_count": 111,
   "outputs": [
    {
     "name": "stdout",
     "output_type": "stream",
     "text": [
      "symbol       AABYX  AAMBX  AAUTX  ABNDX  ABQUX  ABTZX  ABYAX  ACCWX  ACEIX  \\\n",
      "customer_id                                                                  \n",
      "50037            0      0      0      0      0      0      0      0      0   \n",
      "50038            0      0      0      0      0      0      0      0      0   \n",
      "50039            0      0      0      0      0      0      0      0      0   \n",
      "50040            0      0      0      0      0      0      0      0      0   \n",
      "50041            0      0      0      0      0      0      0      0      0   \n",
      "\n",
      "symbol       ACEVX  ...  WMMAX  WPRSX  WRGCX  WSHFX  WSIDX  WSMAX  WTABX  \\\n",
      "customer_id         ...                                                    \n",
      "50037            0  ...      0      0      0      0      0      0      0   \n",
      "50038            0  ...      0      0      0      0      0      0      0   \n",
      "50039            0  ...      0      0      0      0      0      0      0   \n",
      "50040            0  ...      0      0      0      0      0      0      0   \n",
      "50041            0  ...      0      0      0      0      0      0      0   \n",
      "\n",
      "symbol       WUSNX  WWIDX  YASLX  \n",
      "customer_id                       \n",
      "50037            0      0      0  \n",
      "50038            0      0      0  \n",
      "50039            0      0      0  \n",
      "50040            0      0      0  \n",
      "50041            0      0      0  \n",
      "\n",
      "[5 rows x 1078 columns]\n",
      "symbol       AABYX  AAMBX  AAUTX  ABNDX  ABQUX  ABTZX  ABYAX  ACCWX  ACEIX  \\\n",
      "customer_id                                                                  \n",
      "50037            0      0      1      0      0      0      0      0      0   \n",
      "50038            0      0      0      0      0      0      0      0      0   \n",
      "50039            0      0      0      0      0      0      0      0      1   \n",
      "50040            0      0      0      0      0      0      0      0      0   \n",
      "50041            0      0      0      0      0      0      0      0      0   \n",
      "\n",
      "symbol       ACEVX  ...  WMMAX  WPRSX  WRGCX  WSHFX  WSIDX  WSMAX  WTABX  \\\n",
      "customer_id         ...                                                    \n",
      "50037            0  ...      0      0      0      0      0      0      0   \n",
      "50038            0  ...      0      0      0      0      0      1      0   \n",
      "50039            0  ...      0      0      0      0      0      0      0   \n",
      "50040            0  ...      0      0      0      0      0      0      0   \n",
      "50041            0  ...      0      0      0      0      0      1      0   \n",
      "\n",
      "symbol       WUSNX  WWIDX  YASLX  \n",
      "customer_id                       \n",
      "50037            0      0      0  \n",
      "50038            0      0      0  \n",
      "50039            0      0      0  \n",
      "50040            0      0      0  \n",
      "50041            0      0      0  \n",
      "\n",
      "[5 rows x 1078 columns]\n",
      "symbol       AABYX  AAMBX  AAUTX  ABNDX  ABQUX  ABTZX  ABYAX  ACCWX  ACEIX  \\\n",
      "customer_id                                                                  \n",
      "50037            0      0      0      0      0      0      0      0      0   \n",
      "50038            0      0      0      0      0      0      0      0      0   \n",
      "50039            0      0      0      0      0      0      0      0      0   \n",
      "50040            0      0      0      0      0      0      0      0      0   \n",
      "50041            0      0      0      0      0      0      0      0      0   \n",
      "\n",
      "symbol       ACEVX  ...  WMMAX  WPRSX  WRGCX  WSHFX  WSIDX  WSMAX  WTABX  \\\n",
      "customer_id         ...                                                    \n",
      "50037            1  ...      0      0      0      0      0      0      0   \n",
      "50038            0  ...      1      0      0      0      0      0      0   \n",
      "50039            0  ...      0      1      0      0      0      0      0   \n",
      "50040            0  ...      0      0      0      0      0      0      0   \n",
      "50041            0  ...      0      0      0      0      0      0      0   \n",
      "\n",
      "symbol       WUSNX  WWIDX  YASLX  \n",
      "customer_id                       \n",
      "50037            0      0      0  \n",
      "50038            0      0      0  \n",
      "50039            0      0      0  \n",
      "50040            0      0      0  \n",
      "50041            0      0      0  \n",
      "\n",
      "[5 rows x 1078 columns]\n"
     ]
    }
   ],
   "source": [
    "print(df_cust_fund_er_low_matrix.head())\n",
    "print(df_cust_fund_er_medium_matrix.head())\n",
    "print(df_cust_fund_er_high_matrix.head())"
   ],
   "metadata": {
    "collapsed": false,
    "pycharm": {
     "name": "#%%\n"
    }
   }
  },
  {
   "cell_type": "markdown",
   "source": [
    "###### 4.2.5: Crate a matrix to hold Customer-Fund Sale Opportunity"
   ],
   "metadata": {
    "collapsed": false,
    "pycharm": {
     "name": "#%% md\n"
    }
   }
  },
  {
   "cell_type": "code",
   "execution_count": 112,
   "outputs": [],
   "source": [
    "input_df = pd.merge(df_cust_fund_interactions, df_customer, on='customer_id')[['customer_id', 'symbol', 'sale_opportunity']].drop_duplicates()\n",
    "df_cust_fund_sale_matrix = create_feature_matrix(input_df, 'customer_id', 'symbol', 'sale_opportunity')"
   ],
   "metadata": {
    "collapsed": false,
    "pycharm": {
     "name": "#%%\n"
    }
   }
  },
  {
   "cell_type": "code",
   "execution_count": 113,
   "outputs": [
    {
     "data": {
      "text/plain": "symbol       AABYX  AAMBX  AAUTX  ABNDX  ABQUX  ABTZX  ABYAX  ACCWX  ACEIX  \\\ncustomer_id                                                                  \n50037            0      0      0      0      0      0      0      0      0   \n50038            0      0      0      0      0      0      0      0      0   \n50039            0      0      0      0      0      0      0      0      0   \n50040            0      0      0      0      0      0      0      0      0   \n50041            0      0      0      0      0      0      0      0      0   \n\nsymbol       ACEVX  ...  WMMAX  WPRSX  WRGCX  WSHFX  WSIDX  WSMAX  WTABX  \\\ncustomer_id         ...                                                    \n50037            0  ...      0      0      0      0      0      0      0   \n50038            0  ...      0      0      0      0      0      0      0   \n50039            0  ...      0      0      0      0      0      0      0   \n50040            0  ...      0      0      0      0      0      0      0   \n50041            0  ...      0      0      0      0      0      0      0   \n\nsymbol       WUSNX  WWIDX  YASLX  \ncustomer_id                       \n50037            0      0      0  \n50038            0      0      0  \n50039            0      0      0  \n50040            0      0      0  \n50041            0      0      0  \n\n[5 rows x 1078 columns]",
      "text/html": "<div>\n<style scoped>\n    .dataframe tbody tr th:only-of-type {\n        vertical-align: middle;\n    }\n\n    .dataframe tbody tr th {\n        vertical-align: top;\n    }\n\n    .dataframe thead th {\n        text-align: right;\n    }\n</style>\n<table border=\"1\" class=\"dataframe\">\n  <thead>\n    <tr style=\"text-align: right;\">\n      <th>symbol</th>\n      <th>AABYX</th>\n      <th>AAMBX</th>\n      <th>AAUTX</th>\n      <th>ABNDX</th>\n      <th>ABQUX</th>\n      <th>ABTZX</th>\n      <th>ABYAX</th>\n      <th>ACCWX</th>\n      <th>ACEIX</th>\n      <th>ACEVX</th>\n      <th>...</th>\n      <th>WMMAX</th>\n      <th>WPRSX</th>\n      <th>WRGCX</th>\n      <th>WSHFX</th>\n      <th>WSIDX</th>\n      <th>WSMAX</th>\n      <th>WTABX</th>\n      <th>WUSNX</th>\n      <th>WWIDX</th>\n      <th>YASLX</th>\n    </tr>\n    <tr>\n      <th>customer_id</th>\n      <th></th>\n      <th></th>\n      <th></th>\n      <th></th>\n      <th></th>\n      <th></th>\n      <th></th>\n      <th></th>\n      <th></th>\n      <th></th>\n      <th></th>\n      <th></th>\n      <th></th>\n      <th></th>\n      <th></th>\n      <th></th>\n      <th></th>\n      <th></th>\n      <th></th>\n      <th></th>\n      <th></th>\n    </tr>\n  </thead>\n  <tbody>\n    <tr>\n      <th>50037</th>\n      <td>0</td>\n      <td>0</td>\n      <td>0</td>\n      <td>0</td>\n      <td>0</td>\n      <td>0</td>\n      <td>0</td>\n      <td>0</td>\n      <td>0</td>\n      <td>0</td>\n      <td>...</td>\n      <td>0</td>\n      <td>0</td>\n      <td>0</td>\n      <td>0</td>\n      <td>0</td>\n      <td>0</td>\n      <td>0</td>\n      <td>0</td>\n      <td>0</td>\n      <td>0</td>\n    </tr>\n    <tr>\n      <th>50038</th>\n      <td>0</td>\n      <td>0</td>\n      <td>0</td>\n      <td>0</td>\n      <td>0</td>\n      <td>0</td>\n      <td>0</td>\n      <td>0</td>\n      <td>0</td>\n      <td>0</td>\n      <td>...</td>\n      <td>0</td>\n      <td>0</td>\n      <td>0</td>\n      <td>0</td>\n      <td>0</td>\n      <td>0</td>\n      <td>0</td>\n      <td>0</td>\n      <td>0</td>\n      <td>0</td>\n    </tr>\n    <tr>\n      <th>50039</th>\n      <td>0</td>\n      <td>0</td>\n      <td>0</td>\n      <td>0</td>\n      <td>0</td>\n      <td>0</td>\n      <td>0</td>\n      <td>0</td>\n      <td>0</td>\n      <td>0</td>\n      <td>...</td>\n      <td>0</td>\n      <td>0</td>\n      <td>0</td>\n      <td>0</td>\n      <td>0</td>\n      <td>0</td>\n      <td>0</td>\n      <td>0</td>\n      <td>0</td>\n      <td>0</td>\n    </tr>\n    <tr>\n      <th>50040</th>\n      <td>0</td>\n      <td>0</td>\n      <td>0</td>\n      <td>0</td>\n      <td>0</td>\n      <td>0</td>\n      <td>0</td>\n      <td>0</td>\n      <td>0</td>\n      <td>0</td>\n      <td>...</td>\n      <td>0</td>\n      <td>0</td>\n      <td>0</td>\n      <td>0</td>\n      <td>0</td>\n      <td>0</td>\n      <td>0</td>\n      <td>0</td>\n      <td>0</td>\n      <td>0</td>\n    </tr>\n    <tr>\n      <th>50041</th>\n      <td>0</td>\n      <td>0</td>\n      <td>0</td>\n      <td>0</td>\n      <td>0</td>\n      <td>0</td>\n      <td>0</td>\n      <td>0</td>\n      <td>0</td>\n      <td>0</td>\n      <td>...</td>\n      <td>0</td>\n      <td>0</td>\n      <td>0</td>\n      <td>0</td>\n      <td>0</td>\n      <td>0</td>\n      <td>0</td>\n      <td>0</td>\n      <td>0</td>\n      <td>0</td>\n    </tr>\n  </tbody>\n</table>\n<p>5 rows × 1078 columns</p>\n</div>"
     },
     "execution_count": 113,
     "metadata": {},
     "output_type": "execute_result"
    }
   ],
   "source": [
    "df_cust_fund_sale_matrix.head()"
   ],
   "metadata": {
    "collapsed": false,
    "pycharm": {
     "name": "#%%\n"
    }
   }
  },
  {
   "cell_type": "markdown",
   "source": [
    "###### 4.2.6: Crate a matrix to hold Customer-Fund Recommendation based on high net sales"
   ],
   "metadata": {
    "collapsed": false,
    "pycharm": {
     "name": "#%% md\n"
    }
   }
  },
  {
   "cell_type": "code",
   "execution_count": 114,
   "outputs": [],
   "source": [
    "# input_df = df_cust_fund_interactions.pivot_table(index='customer_id', columns='symbol', values='fund_recommended', aggfunc='sum').fillna(value=0)\n",
    "df_cust_fund_rec_matrix = create_feature_matrix(df_cust_fund_interactions, 'customer_id', 'symbol', 'fund_recommended')"
   ],
   "metadata": {
    "collapsed": false,
    "pycharm": {
     "name": "#%%\n"
    }
   }
  },
  {
   "cell_type": "code",
   "execution_count": 115,
   "outputs": [
    {
     "name": "stdout",
     "output_type": "stream",
     "text": [
      "<class 'pandas.core.frame.DataFrame'>\n"
     ]
    },
    {
     "data": {
      "text/plain": "symbol       AABYX  AAMBX  AAUTX  ABNDX  ABQUX  ABTZX  ABYAX  ACCWX  ACEIX  \\\ncustomer_id                                                                  \n50037            0      0      0      0      0      0      0      0      0   \n50038            0      0      0      0      0      0      0      0      0   \n50039            0      0      0      0      0      0      0      0      0   \n50040            0      0      0      0      0      0      0      0      0   \n50041            0      0      0      0      0      0      0      0      0   \n\nsymbol       ACEVX  ...  WMMAX  WPRSX  WRGCX  WSHFX  WSIDX  WSMAX  WTABX  \\\ncustomer_id         ...                                                    \n50037            0  ...      0      0      0      0      0      0      0   \n50038            0  ...      0      0      0      0      0      0      0   \n50039            0  ...      0      0      0      0      0      0      0   \n50040            0  ...      0      0      0      0      0      0      0   \n50041            0  ...      0      0      0      0      0      0      0   \n\nsymbol       WUSNX  WWIDX  YASLX  \ncustomer_id                       \n50037            0      0      0  \n50038            0      0      0  \n50039            0      0      0  \n50040            0      0      0  \n50041            0      0      0  \n\n[5 rows x 1078 columns]",
      "text/html": "<div>\n<style scoped>\n    .dataframe tbody tr th:only-of-type {\n        vertical-align: middle;\n    }\n\n    .dataframe tbody tr th {\n        vertical-align: top;\n    }\n\n    .dataframe thead th {\n        text-align: right;\n    }\n</style>\n<table border=\"1\" class=\"dataframe\">\n  <thead>\n    <tr style=\"text-align: right;\">\n      <th>symbol</th>\n      <th>AABYX</th>\n      <th>AAMBX</th>\n      <th>AAUTX</th>\n      <th>ABNDX</th>\n      <th>ABQUX</th>\n      <th>ABTZX</th>\n      <th>ABYAX</th>\n      <th>ACCWX</th>\n      <th>ACEIX</th>\n      <th>ACEVX</th>\n      <th>...</th>\n      <th>WMMAX</th>\n      <th>WPRSX</th>\n      <th>WRGCX</th>\n      <th>WSHFX</th>\n      <th>WSIDX</th>\n      <th>WSMAX</th>\n      <th>WTABX</th>\n      <th>WUSNX</th>\n      <th>WWIDX</th>\n      <th>YASLX</th>\n    </tr>\n    <tr>\n      <th>customer_id</th>\n      <th></th>\n      <th></th>\n      <th></th>\n      <th></th>\n      <th></th>\n      <th></th>\n      <th></th>\n      <th></th>\n      <th></th>\n      <th></th>\n      <th></th>\n      <th></th>\n      <th></th>\n      <th></th>\n      <th></th>\n      <th></th>\n      <th></th>\n      <th></th>\n      <th></th>\n      <th></th>\n      <th></th>\n    </tr>\n  </thead>\n  <tbody>\n    <tr>\n      <th>50037</th>\n      <td>0</td>\n      <td>0</td>\n      <td>0</td>\n      <td>0</td>\n      <td>0</td>\n      <td>0</td>\n      <td>0</td>\n      <td>0</td>\n      <td>0</td>\n      <td>0</td>\n      <td>...</td>\n      <td>0</td>\n      <td>0</td>\n      <td>0</td>\n      <td>0</td>\n      <td>0</td>\n      <td>0</td>\n      <td>0</td>\n      <td>0</td>\n      <td>0</td>\n      <td>0</td>\n    </tr>\n    <tr>\n      <th>50038</th>\n      <td>0</td>\n      <td>0</td>\n      <td>0</td>\n      <td>0</td>\n      <td>0</td>\n      <td>0</td>\n      <td>0</td>\n      <td>0</td>\n      <td>0</td>\n      <td>0</td>\n      <td>...</td>\n      <td>0</td>\n      <td>0</td>\n      <td>0</td>\n      <td>0</td>\n      <td>0</td>\n      <td>0</td>\n      <td>0</td>\n      <td>0</td>\n      <td>0</td>\n      <td>0</td>\n    </tr>\n    <tr>\n      <th>50039</th>\n      <td>0</td>\n      <td>0</td>\n      <td>0</td>\n      <td>0</td>\n      <td>0</td>\n      <td>0</td>\n      <td>0</td>\n      <td>0</td>\n      <td>0</td>\n      <td>0</td>\n      <td>...</td>\n      <td>0</td>\n      <td>0</td>\n      <td>0</td>\n      <td>0</td>\n      <td>0</td>\n      <td>0</td>\n      <td>0</td>\n      <td>0</td>\n      <td>0</td>\n      <td>0</td>\n    </tr>\n    <tr>\n      <th>50040</th>\n      <td>0</td>\n      <td>0</td>\n      <td>0</td>\n      <td>0</td>\n      <td>0</td>\n      <td>0</td>\n      <td>0</td>\n      <td>0</td>\n      <td>0</td>\n      <td>0</td>\n      <td>...</td>\n      <td>0</td>\n      <td>0</td>\n      <td>0</td>\n      <td>0</td>\n      <td>0</td>\n      <td>0</td>\n      <td>0</td>\n      <td>0</td>\n      <td>0</td>\n      <td>0</td>\n    </tr>\n    <tr>\n      <th>50041</th>\n      <td>0</td>\n      <td>0</td>\n      <td>0</td>\n      <td>0</td>\n      <td>0</td>\n      <td>0</td>\n      <td>0</td>\n      <td>0</td>\n      <td>0</td>\n      <td>0</td>\n      <td>...</td>\n      <td>0</td>\n      <td>0</td>\n      <td>0</td>\n      <td>0</td>\n      <td>0</td>\n      <td>0</td>\n      <td>0</td>\n      <td>0</td>\n      <td>0</td>\n      <td>0</td>\n    </tr>\n  </tbody>\n</table>\n<p>5 rows × 1078 columns</p>\n</div>"
     },
     "execution_count": 115,
     "metadata": {},
     "output_type": "execute_result"
    }
   ],
   "source": [
    "print(type(df_cust_fund_rec_matrix))\n",
    "df_cust_fund_rec_matrix.head()"
   ],
   "metadata": {
    "collapsed": false,
    "pycharm": {
     "name": "#%%\n"
    }
   }
  },
  {
   "cell_type": "markdown",
   "source": [
    "###### 4.2.7: Create a matrix of customer and fund features - a single place to collect all the features together"
   ],
   "metadata": {
    "collapsed": false,
    "pycharm": {
     "name": "#%% md\n"
    }
   }
  },
  {
   "cell_type": "code",
   "execution_count": 116,
   "outputs": [],
   "source": [
    "feature_list = ['small', 'medium', 'large', 'er_low', 'er_medium', 'er_high', 'init_inv_low', 'init_inv_medium', 'init_inv_high', 'ytd_low', 'ytd_moderate', 'ytd_high', 'growth', 'value', 'blend']"
   ],
   "metadata": {
    "collapsed": false,
    "pycharm": {
     "name": "#%%\n"
    }
   }
  },
  {
   "cell_type": "code",
   "execution_count": 117,
   "outputs": [],
   "source": [
    "cols = ['customer_id', 'symbol', 'fund_recommended'] + feature_list\n",
    "df_cust_fund_features = pd.merge(pd.merge(df_cust_fund_interactions, df_mutual_fund, on='symbol'), df_customer, on='customer_id')[cols].fillna(value=0)"
   ],
   "metadata": {
    "collapsed": false,
    "pycharm": {
     "name": "#%%\n"
    }
   }
  },
  {
   "cell_type": "code",
   "execution_count": 118,
   "outputs": [
    {
     "data": {
      "text/plain": "   customer_id symbol  fund_recommended  small  medium  large  er_low  \\\n0        59532  MLUYX                 1      0       1      0       0   \n1        59532  FKALX                 0      1       0      0       0   \n2        59532  TRCVX                 0      0       0      1       1   \n3        59532  JGQSX                 0      0       0      1       0   \n4        59532  HRMGX                 0      0       1      0       0   \n\n   er_medium  er_high  init_inv_low  init_inv_medium  init_inv_high  ytd_low  \\\n0          1        0             1                0              0        0   \n1          1        0             1                0              0        0   \n2          0        0             1                0              0        0   \n3          0        1             0                1              0        0   \n4          0        1             0                1              0        0   \n\n   ytd_moderate  ytd_high  growth  value  blend  \n0             0         1       0      1      0  \n1             1         0       1      0      0  \n2             0         1       0      1      0  \n3             0         1       1      0      0  \n4             1         0       1      0      0  ",
      "text/html": "<div>\n<style scoped>\n    .dataframe tbody tr th:only-of-type {\n        vertical-align: middle;\n    }\n\n    .dataframe tbody tr th {\n        vertical-align: top;\n    }\n\n    .dataframe thead th {\n        text-align: right;\n    }\n</style>\n<table border=\"1\" class=\"dataframe\">\n  <thead>\n    <tr style=\"text-align: right;\">\n      <th></th>\n      <th>customer_id</th>\n      <th>symbol</th>\n      <th>fund_recommended</th>\n      <th>small</th>\n      <th>medium</th>\n      <th>large</th>\n      <th>er_low</th>\n      <th>er_medium</th>\n      <th>er_high</th>\n      <th>init_inv_low</th>\n      <th>init_inv_medium</th>\n      <th>init_inv_high</th>\n      <th>ytd_low</th>\n      <th>ytd_moderate</th>\n      <th>ytd_high</th>\n      <th>growth</th>\n      <th>value</th>\n      <th>blend</th>\n    </tr>\n  </thead>\n  <tbody>\n    <tr>\n      <th>0</th>\n      <td>59532</td>\n      <td>MLUYX</td>\n      <td>1</td>\n      <td>0</td>\n      <td>1</td>\n      <td>0</td>\n      <td>0</td>\n      <td>1</td>\n      <td>0</td>\n      <td>1</td>\n      <td>0</td>\n      <td>0</td>\n      <td>0</td>\n      <td>0</td>\n      <td>1</td>\n      <td>0</td>\n      <td>1</td>\n      <td>0</td>\n    </tr>\n    <tr>\n      <th>1</th>\n      <td>59532</td>\n      <td>FKALX</td>\n      <td>0</td>\n      <td>1</td>\n      <td>0</td>\n      <td>0</td>\n      <td>0</td>\n      <td>1</td>\n      <td>0</td>\n      <td>1</td>\n      <td>0</td>\n      <td>0</td>\n      <td>0</td>\n      <td>1</td>\n      <td>0</td>\n      <td>1</td>\n      <td>0</td>\n      <td>0</td>\n    </tr>\n    <tr>\n      <th>2</th>\n      <td>59532</td>\n      <td>TRCVX</td>\n      <td>0</td>\n      <td>0</td>\n      <td>0</td>\n      <td>1</td>\n      <td>1</td>\n      <td>0</td>\n      <td>0</td>\n      <td>1</td>\n      <td>0</td>\n      <td>0</td>\n      <td>0</td>\n      <td>0</td>\n      <td>1</td>\n      <td>0</td>\n      <td>1</td>\n      <td>0</td>\n    </tr>\n    <tr>\n      <th>3</th>\n      <td>59532</td>\n      <td>JGQSX</td>\n      <td>0</td>\n      <td>0</td>\n      <td>0</td>\n      <td>1</td>\n      <td>0</td>\n      <td>0</td>\n      <td>1</td>\n      <td>0</td>\n      <td>1</td>\n      <td>0</td>\n      <td>0</td>\n      <td>0</td>\n      <td>1</td>\n      <td>1</td>\n      <td>0</td>\n      <td>0</td>\n    </tr>\n    <tr>\n      <th>4</th>\n      <td>59532</td>\n      <td>HRMGX</td>\n      <td>0</td>\n      <td>0</td>\n      <td>1</td>\n      <td>0</td>\n      <td>0</td>\n      <td>0</td>\n      <td>1</td>\n      <td>0</td>\n      <td>1</td>\n      <td>0</td>\n      <td>0</td>\n      <td>1</td>\n      <td>0</td>\n      <td>1</td>\n      <td>0</td>\n      <td>0</td>\n    </tr>\n  </tbody>\n</table>\n</div>"
     },
     "execution_count": 118,
     "metadata": {},
     "output_type": "execute_result"
    }
   ],
   "source": [
    "df_cust_fund_features.head()"
   ],
   "metadata": {
    "collapsed": false,
    "pycharm": {
     "name": "#%%\n"
    }
   }
  },
  {
   "cell_type": "markdown",
   "source": [
    "### Step 5: Making Recommendations\n",
    "\n",
    "In this step, based on all the above data that we have collected, we will make two types of recommendations:\n",
    "\n",
    "* **_Content-based Filtering_**: Suggest a list of mutual funds for buying to customers based on funds that they already own\n",
    "* **_Collaborative Filtering_**: Suggest a list of mutual funds for buying to customers based on funds that are owned by other similar customers"
   ],
   "metadata": {
    "collapsed": false,
    "pycharm": {
     "name": "#%% md\n"
    }
   }
  },
  {
   "cell_type": "markdown",
   "source": [
    "##### Step 5.1: Content-based Filtering"
   ],
   "metadata": {
    "collapsed": false,
    "pycharm": {
     "name": "#%% md\n"
    }
   }
  },
  {
   "cell_type": "code",
   "execution_count": 119,
   "outputs": [],
   "source": [
    "# Create a feature signature\n",
    "def create_feature_signature(df, feature_list, feature_col_name):\n",
    "    \"\"\"\n",
    "    A function that accepts a dataframe and a list of features (0/1 values) and creates a feature signature as a new column\n",
    "    :param df: (pandas.core.frame.DataFrame) input dataframe to which a feature signature requires to be added\n",
    "    :param feature_list: (list) a list of columns in the dataframe containing features\n",
    "    :param feature_col_name: (str) the name of the feature column that should be added to the dataframe\n",
    "    :return: None\n",
    "    \"\"\"\n",
    "\n",
    "    df[feature_col_name] = df[feature_list].apply(lambda row: ''.join(row.values.astype(str)), axis=1)"
   ],
   "metadata": {
    "collapsed": false,
    "pycharm": {
     "name": "#%%\n"
    }
   }
  },
  {
   "cell_type": "code",
   "execution_count": 120,
   "outputs": [
    {
     "data": {
      "text/plain": "  symbol                                               name  \\\n0  AAAAX               DWS RREEF Real Assets Fund - Class A   \n1  AAAEX      Virtus AllianzGI Health Sciences Fund Class P   \n2  AAAFX  American Century One Choice Blend+ 2015 Portfo...   \n3  AAAGX             Thrivent Large Cap Growth Fund Class A   \n4  AAAHX  American Century One Choice Blend+ 2015 Portfo...   \n\n              init_inv                  tna           ytd_return  \\\n0             1,000.00     2,979,347,456.00                 0.21   \n1         1,000,000.00       195,348,944.00                 0.19   \n2             2,500.00            25,946.00                 0.00   \n3             2,000.00     2,078,606,848.00                 0.25   \n4         5,000,000.00            25,946.00                 0.00   \n\n             ms_rating inv_type size_type            exp_ratio  buy  ...  \\\n0                 3.00    Value     Large                 0.01    0  ...   \n1                 3.00    Blend     Large                 0.01    0  ...   \n2                 0.00    Blend     Large                 0.01    0  ...   \n3                 4.00   Growth     Large                 0.01    1  ...   \n4                 0.00    Blend     Large                 0.00    0  ...   \n\n   init_inv_low  init_inv_medium  init_inv_high  ytd_low  ytd_moderate  \\\n0             1                0              0        0             0   \n1             0                0              1        0             0   \n2             0                1              0        0             0   \n3             0                1              0        0             0   \n4             0                0              1        0             0   \n\n   ytd_high  growth  value  blend  feature_signature  \n0         1       0      1      0    001001100001010  \n1         1       0      0      1    001001001001001  \n2         0       0      0      1    001010010000001  \n3         1       1      0      0    001001010001100  \n4         0       0      0      1    001100001000001  \n\n[5 rows x 26 columns]",
      "text/html": "<div>\n<style scoped>\n    .dataframe tbody tr th:only-of-type {\n        vertical-align: middle;\n    }\n\n    .dataframe tbody tr th {\n        vertical-align: top;\n    }\n\n    .dataframe thead th {\n        text-align: right;\n    }\n</style>\n<table border=\"1\" class=\"dataframe\">\n  <thead>\n    <tr style=\"text-align: right;\">\n      <th></th>\n      <th>symbol</th>\n      <th>name</th>\n      <th>init_inv</th>\n      <th>tna</th>\n      <th>ytd_return</th>\n      <th>ms_rating</th>\n      <th>inv_type</th>\n      <th>size_type</th>\n      <th>exp_ratio</th>\n      <th>buy</th>\n      <th>...</th>\n      <th>init_inv_low</th>\n      <th>init_inv_medium</th>\n      <th>init_inv_high</th>\n      <th>ytd_low</th>\n      <th>ytd_moderate</th>\n      <th>ytd_high</th>\n      <th>growth</th>\n      <th>value</th>\n      <th>blend</th>\n      <th>feature_signature</th>\n    </tr>\n  </thead>\n  <tbody>\n    <tr>\n      <th>0</th>\n      <td>AAAAX</td>\n      <td>DWS RREEF Real Assets Fund - Class A</td>\n      <td>1,000.00</td>\n      <td>2,979,347,456.00</td>\n      <td>0.21</td>\n      <td>3.00</td>\n      <td>Value</td>\n      <td>Large</td>\n      <td>0.01</td>\n      <td>0</td>\n      <td>...</td>\n      <td>1</td>\n      <td>0</td>\n      <td>0</td>\n      <td>0</td>\n      <td>0</td>\n      <td>1</td>\n      <td>0</td>\n      <td>1</td>\n      <td>0</td>\n      <td>001001100001010</td>\n    </tr>\n    <tr>\n      <th>1</th>\n      <td>AAAEX</td>\n      <td>Virtus AllianzGI Health Sciences Fund Class P</td>\n      <td>1,000,000.00</td>\n      <td>195,348,944.00</td>\n      <td>0.19</td>\n      <td>3.00</td>\n      <td>Blend</td>\n      <td>Large</td>\n      <td>0.01</td>\n      <td>0</td>\n      <td>...</td>\n      <td>0</td>\n      <td>0</td>\n      <td>1</td>\n      <td>0</td>\n      <td>0</td>\n      <td>1</td>\n      <td>0</td>\n      <td>0</td>\n      <td>1</td>\n      <td>001001001001001</td>\n    </tr>\n    <tr>\n      <th>2</th>\n      <td>AAAFX</td>\n      <td>American Century One Choice Blend+ 2015 Portfo...</td>\n      <td>2,500.00</td>\n      <td>25,946.00</td>\n      <td>0.00</td>\n      <td>0.00</td>\n      <td>Blend</td>\n      <td>Large</td>\n      <td>0.01</td>\n      <td>0</td>\n      <td>...</td>\n      <td>0</td>\n      <td>1</td>\n      <td>0</td>\n      <td>0</td>\n      <td>0</td>\n      <td>0</td>\n      <td>0</td>\n      <td>0</td>\n      <td>1</td>\n      <td>001010010000001</td>\n    </tr>\n    <tr>\n      <th>3</th>\n      <td>AAAGX</td>\n      <td>Thrivent Large Cap Growth Fund Class A</td>\n      <td>2,000.00</td>\n      <td>2,078,606,848.00</td>\n      <td>0.25</td>\n      <td>4.00</td>\n      <td>Growth</td>\n      <td>Large</td>\n      <td>0.01</td>\n      <td>1</td>\n      <td>...</td>\n      <td>0</td>\n      <td>1</td>\n      <td>0</td>\n      <td>0</td>\n      <td>0</td>\n      <td>1</td>\n      <td>1</td>\n      <td>0</td>\n      <td>0</td>\n      <td>001001010001100</td>\n    </tr>\n    <tr>\n      <th>4</th>\n      <td>AAAHX</td>\n      <td>American Century One Choice Blend+ 2015 Portfo...</td>\n      <td>5,000,000.00</td>\n      <td>25,946.00</td>\n      <td>0.00</td>\n      <td>0.00</td>\n      <td>Blend</td>\n      <td>Large</td>\n      <td>0.00</td>\n      <td>0</td>\n      <td>...</td>\n      <td>0</td>\n      <td>0</td>\n      <td>1</td>\n      <td>0</td>\n      <td>0</td>\n      <td>0</td>\n      <td>0</td>\n      <td>0</td>\n      <td>1</td>\n      <td>001100001000001</td>\n    </tr>\n  </tbody>\n</table>\n<p>5 rows × 26 columns</p>\n</div>"
     },
     "execution_count": 120,
     "metadata": {},
     "output_type": "execute_result"
    }
   ],
   "source": [
    "# Create a feature signature for the Mutual Funds dataframe\n",
    "create_feature_signature(df_mutual_fund, feature_list, 'feature_signature')\n",
    "df_mutual_fund.head()"
   ],
   "metadata": {
    "collapsed": false,
    "pycharm": {
     "name": "#%%\n"
    }
   }
  },
  {
   "cell_type": "code",
   "execution_count": 121,
   "outputs": [],
   "source": [
    "def get_funds_owned_by_customer(customer_id):\n",
    "    \"\"\"\n",
    "    A function that gets the list of funds owned by the input customer only if those funds are recommended by them\n",
    "    :param customer_id: (int) input customer\n",
    "    :return: (list) list of funds bought by the customer\n",
    "    \"\"\"\n",
    "\n",
    "    fund_list = list(df_cust_fund_interactions.query('customer_id == @customer_id')['symbol'])\n",
    "\n",
    "    return fund_list"
   ],
   "metadata": {
    "collapsed": false,
    "pycharm": {
     "name": "#%%\n"
    }
   }
  },
  {
   "cell_type": "code",
   "execution_count": 122,
   "outputs": [],
   "source": [
    "def recommend_similar_funds(fund_list, n=10):\n",
    "    \"\"\"\n",
    "    A function that accepts a list of funds owned by a customer and returns a list of similar funds\n",
    "    This is done by matching the feature signature of funds owned with the feature signature of all the other funds\n",
    "    :param fund_list: (list) input list of funds owned\n",
    "    :param n: (int) the maximum number of funds to return; defaults to 10\n",
    "    :return: (list) similar matching funds\n",
    "    \"\"\"\n",
    "\n",
    "    # Get a list of unique feature signatures for the fund list provided\n",
    "    fund_list_fs = df_mutual_fund[df_mutual_fund['symbol'].isin(fund_list)]['feature_signature'].drop_duplicates().values.tolist()\n",
    "\n",
    "    # Identify funds that match the above feature signature list\n",
    "    df_funds_matched = df_mutual_fund[df_mutual_fund['feature_signature'].isin(fund_list_fs)]\n",
    "\n",
    "    # Pick only those funds that have an MS Rating of 5 (best recommended)\n",
    "    df_funds_matched = df_funds_matched.query('ms_rating == 5')\n",
    "\n",
    "    # Make a list of the fund symbols from the above dataset\n",
    "    matching_funds_list = df_funds_matched['symbol'].values.tolist()\n",
    "\n",
    "    # From the above list, exclude the ones that were supplied in fund_list\n",
    "    rec_funds_list = list(set(matching_funds_list) - set(fund_list))\n",
    "\n",
    "    # Return the top n funds from the recommended list\n",
    "    return rec_funds_list[:n]"
   ],
   "metadata": {
    "collapsed": false,
    "pycharm": {
     "name": "#%%\n"
    }
   }
  },
  {
   "cell_type": "code",
   "execution_count": 123,
   "outputs": [
    {
     "name": "stdout",
     "output_type": "stream",
     "text": [
      "['ALCAX', 'FIINX', 'FTLAX', 'PRVHX', 'WDTQX', 'PLSFX', 'FDTRX', 'REDTX', 'RGGRX', 'TLLIX']\n"
     ]
    }
   ],
   "source": [
    "# Testing using Customer ID 70494\n",
    "fund_list_70494 = get_funds_owned_by_customer([70494])\n",
    "rec_fund_list_70494 = recommend_similar_funds(fund_list_70494)\n",
    "print(rec_fund_list_70494)"
   ],
   "metadata": {
    "collapsed": false,
    "pycharm": {
     "name": "#%%\n"
    }
   }
  },
  {
   "cell_type": "code",
   "execution_count": 124,
   "outputs": [
    {
     "name": "stdout",
     "output_type": "stream",
     "text": [
      "['FIINX', 'NPRTX', 'HSNSX', 'FTLAX', 'RNWBX', 'BCSAX', 'OPATX', 'NRINX', 'PRVHX', 'WDTQX']\n"
     ]
    }
   ],
   "source": [
    "# Testing using Customer ID 53026\n",
    "fund_list_53026 = get_funds_owned_by_customer([53026])\n",
    "rec_fund_list_53026 = recommend_similar_funds(fund_list_53026)\n",
    "print(rec_fund_list_53026)"
   ],
   "metadata": {
    "collapsed": false,
    "pycharm": {
     "name": "#%%\n"
    }
   }
  },
  {
   "cell_type": "markdown",
   "source": [
    "##### Step 5.2: Collaborative Filtering\n",
    "\n",
    "Steps:\n",
    "\n",
    "1. Identify all the funds owned by a given customer\n",
    "2. Iterate through the list of funds and identify all the customers who own those funds\n",
    "3. Drop duplicates from the customer list\n",
    "4. Return the customer list\n",
    "\n",
    "Recommend funds to a customer based on:\n",
    "\n",
    "1. Funds owned by similar customers\n",
    "2. Include only those funds that are recommended by those customers (imputed based on their net sales in those funds being more than to $250k)\n",
    "3. Include only those funds that have an MS Rating of 5 (Strong Buys)"
   ],
   "metadata": {
    "collapsed": false,
    "pycharm": {
     "name": "#%% md\n"
    }
   }
  },
  {
   "cell_type": "code",
   "execution_count": 142,
   "outputs": [
    {
     "name": "stdout",
     "output_type": "stream",
     "text": [
      "[65540, 65541, 65542, 65544, 65545, 65548, 65549, 65552, 65553, 65556]\n"
     ]
    }
   ],
   "source": [
    "# Setting up some reusable data elements\n",
    "# A dataframe of customers ranked by transaction counts. For this purpose, considering only those with at least 50 transactions\n",
    "df_cust_txn_count = df_txn.groupby('customer_id').count()['symbol'].sort_values(ascending=False).to_frame()\n",
    "txn_count_50_set = set(df_cust_txn_count.query('symbol > 50').index)\n",
    "print(list(txn_count_50_set)[:10])\n"
   ],
   "metadata": {
    "collapsed": false,
    "pycharm": {
     "name": "#%%\n"
    }
   }
  },
  {
   "cell_type": "code",
   "execution_count": 126,
   "outputs": [],
   "source": [
    "def get_customers_owning_fund(symbol):\n",
    "    \"\"\"\n",
    "    A function that gets the list of customers that own the input fund\n",
    "    :param symbol: (str) input fund symbol\n",
    "    :return: (list) list of customers that bought the fund\n",
    "    \"\"\"\n",
    "\n",
    "    customer_list = list(df_cust_fund_interactions.query('symbol == @symbol')['customer_id'])\n",
    "\n",
    "    return customer_list"
   ],
   "metadata": {
    "collapsed": false,
    "pycharm": {
     "name": "#%%\n"
    }
   }
  },
  {
   "cell_type": "code",
   "execution_count": 127,
   "outputs": [],
   "source": [
    "def find_similar_customers(customer_id):\n",
    "    \"\"\"\n",
    "    A function that returns a list of customers based on a given customer id.\n",
    "    This is done by iterating through the funds bought by the given customer and finding all other customers that bought the same funds\n",
    "    :param customer_id: (int) input customer id\n",
    "    :return: (list) a list of similar customers\n",
    "    \"\"\"\n",
    "\n",
    "    # Get a list of funds owned by the input customer\n",
    "    fund_list = get_funds_owned_by_customer(customer_id)\n",
    "\n",
    "    customer_list = []\n",
    "    # Iterate through the fund list and find all customers who own the funds\n",
    "    for fund in fund_list:\n",
    "        customer_list.extend(get_customers_owning_fund(fund))\n",
    "\n",
    "    # Eliminate duplicate customers\n",
    "    customer_list = list(set(customer_list))\n",
    "\n",
    "    # Remove input customer from the list\n",
    "    customer_list.remove(customer_id)\n",
    "\n",
    "    return customer_list\n"
   ],
   "metadata": {
    "collapsed": false,
    "pycharm": {
     "name": "#%%\n"
    }
   }
  },
  {
   "cell_type": "code",
   "execution_count": 143,
   "outputs": [
    {
     "name": "stdout",
     "output_type": "stream",
     "text": [
      "20381\n",
      "[50037, 50038, 50039, 50040, 50041, 50042, 50043, 50044, 50045, 50046]\n"
     ]
    }
   ],
   "source": [
    "# Testing find_similar_customers for 70494\n",
    "sim_cust_70494 = find_similar_customers(70494)\n",
    "print(len(sim_cust_70494))\n",
    "print(list(sim_cust_70494)[:10])"
   ],
   "metadata": {
    "collapsed": false,
    "pycharm": {
     "name": "#%%\n"
    }
   }
  },
  {
   "cell_type": "code",
   "execution_count": 144,
   "outputs": [
    {
     "name": "stdout",
     "output_type": "stream",
     "text": [
      "20378\n",
      "[50037, 50038, 50039, 50040, 50041, 50042, 50043, 50044, 50045, 50046]\n"
     ]
    }
   ],
   "source": [
    "# Testing find_similar_customers for 53026\n",
    "sim_cust_53026 = find_similar_customers(64260)\n",
    "print(len(sim_cust_53026))\n",
    "print(list(sim_cust_53026)[:10])"
   ],
   "metadata": {
    "collapsed": false,
    "pycharm": {
     "name": "#%%\n"
    }
   }
  },
  {
   "cell_type": "code",
   "execution_count": 133,
   "outputs": [],
   "source": [
    "def recommend_similar_customer_funds(customer_id):\n",
    "    \"\"\"\n",
    "    A function that accepts a customer id and recommends funds recommended by other similar customers\n",
    "    :param customer_id: (int) input customer\n",
    "    :return: (list) funds recommended by other customers\n",
    "    \"\"\"\n",
    "\n",
    "    # First, get a list of similar customers\n",
    "    similar_customers = find_similar_customers(customer_id)\n",
    "\n",
    "    # Out of the above list, pick only those that have had at least 50 transactions\n",
    "    similar_customers = list(txn_count_50_set & set(similar_customers))\n",
    "\n",
    "    # Find funds bought by similar customers\n",
    "    funds_by_similar_customers = df_cust_fund_interactions[df_cust_fund_interactions['customer_id'].isin(similar_customers)]['symbol'].drop_duplicates().values.tolist()\n",
    "\n",
    "    # Remove funds owned by input customer\n",
    "    funds_by_similar_customers = [x for x in funds_by_similar_customers if x not in get_funds_owned_by_customer(customer_id)]\n",
    "\n",
    "    # Recommend only those funds that are Strong Buys (MS Rating = 5)\n",
    "    recommended_funds = df_mutual_fund[df_mutual_fund['symbol'].isin(funds_by_similar_customers)].query('ms_rating == 5')['symbol'].values.tolist()\n",
    "\n",
    "    # Pick only those funds that are recommended by customers based on their net sales\n",
    "    recommended_funds = df_cust_fund_interactions[df_cust_fund_interactions['symbol'].isin(recommended_funds)].query('fund_recommended == 1')['symbol'].drop_duplicates().values.tolist()\n",
    "\n",
    "    return recommended_funds\n",
    "\n"
   ],
   "metadata": {
    "collapsed": false,
    "pycharm": {
     "name": "#%%\n"
    }
   }
  },
  {
   "cell_type": "code",
   "execution_count": 134,
   "outputs": [
    {
     "name": "stdout",
     "output_type": "stream",
     "text": [
      "80\n",
      "['IDAEX', 'QMLFX', 'MSFAX', 'MMFHX', 'WIPDX', 'CADOX', 'FTINX', 'VWILX', 'FAIGX', 'CMNRX', 'RGVEX', 'ALNVX', 'VSIIX', 'OTCIX', 'DSGEX', 'HMKFX', 'MMTRX', 'FSBDX', 'CPITX', 'PDECX', 'TRRSX', 'MSEEX', 'BICPX', 'SAPEX', 'AZTYX', 'BGEFX', 'RYDAX', 'ASVYX', 'PRBLX', 'AVAYX', 'IRLNX', 'PWJAX', 'LCSIX', 'ORNAX', 'WAMVX', 'PRGTX', 'PRETX', 'MPEGX', 'BSTSX', 'SEEGX', 'FITLX', 'PQTPX', 'TSMGX', 'ATESX', 'HCMDX', 'TEGCX', 'VPMCX', 'MSSMX', 'VEGBX', 'PYSIX', 'FAITX', 'IMEGX', 'JHRMX', 'PWJZX', 'VEIPX', 'EGFIX', 'JHJRX', 'SVFAX', 'NMVLX', 'SEDIX', 'TUHIX', 'MBIRX', 'RHKTX', 'BIRKX', 'USNQX', 'PLSRX', 'MXIUX', 'BIEMX', 'VSCIX', 'DEOPX', 'BIOIX', 'TSMNX', 'TLZRX', 'ALCAX', 'CNLFX', 'FSFWX', 'IOGYX', 'TRRCX', 'DEEVX', 'PSBPX']\n"
     ]
    }
   ],
   "source": [
    "# Testing recommended_similar_customer_funds using customer id 70494\n",
    "rec_funds_58950 = recommend_similar_customer_funds(58950)\n",
    "print(len(rec_funds_58950))\n",
    "print(rec_funds_58950)"
   ],
   "metadata": {
    "collapsed": false,
    "pycharm": {
     "name": "#%%\n"
    }
   }
  },
  {
   "cell_type": "code",
   "execution_count": 135,
   "outputs": [
    {
     "name": "stdout",
     "output_type": "stream",
     "text": [
      "79\n",
      "['IDAEX', 'QMLFX', 'MSFAX', 'MMFHX', 'WIPDX', 'CADOX', 'FTINX', 'VWILX', 'FAIGX', 'CMNRX', 'RGVEX', 'ALNVX', 'VSIIX', 'OTCIX', 'DSGEX', 'HMKFX', 'MMTRX', 'FSBDX', 'CPITX', 'PDECX', 'TRRSX', 'MSEEX', 'BICPX', 'FFQRX', 'SAPEX', 'AZTYX', 'BGEFX', 'RYDAX', 'ASVYX', 'PRBLX', 'AVAYX', 'IRLNX', 'PWJAX', 'LCSIX', 'ORNAX', 'WAMVX', 'PRGTX', 'PRETX', 'MPEGX', 'BSTSX', 'SEEGX', 'FITLX', 'TSMGX', 'ATESX', 'HCMDX', 'TEGCX', 'VPMCX', 'MSSMX', 'VEGBX', 'PYSIX', 'FAITX', 'JHRMX', 'PWJZX', 'VEIPX', 'EGFIX', 'JHJRX', 'SVFAX', 'NMVLX', 'TUHIX', 'MBIRX', 'RHKTX', 'BIRKX', 'USNQX', 'PLSRX', 'MXIUX', 'BIEMX', 'TLMRX', 'VSCIX', 'DEOPX', 'BIOIX', 'TSMNX', 'TLZRX', 'ALCAX', 'CNLFX', 'FSFWX', 'IOGYX', 'TRRCX', 'DEEVX', 'PSBPX']\n"
     ]
    }
   ],
   "source": [
    "# Testing recommended_similar_customer_funds using customer id 64260\n",
    "rec_funds_62099 = recommend_similar_customer_funds(62099)\n",
    "print(len(rec_funds_62099))\n",
    "print(rec_funds_62099)"
   ],
   "metadata": {
    "collapsed": false,
    "pycharm": {
     "name": "#%%\n"
    }
   }
  },
  {
   "cell_type": "code",
   "execution_count": 137,
   "outputs": [
    {
     "data": {
      "text/plain": "['SEDIX', 'IMEGX', 'PQTPX']"
     },
     "execution_count": 137,
     "metadata": {},
     "output_type": "execute_result"
    }
   ],
   "source": [
    "list(set(rec_funds_58950) - set(rec_funds_62099))"
   ],
   "metadata": {
    "collapsed": false,
    "pycharm": {
     "name": "#%%\n"
    }
   }
  },
  {
   "cell_type": "code",
   "execution_count": 138,
   "outputs": [
    {
     "data": {
      "text/plain": "['TLMRX', 'FFQRX']"
     },
     "execution_count": 138,
     "metadata": {},
     "output_type": "execute_result"
    }
   ],
   "source": [
    "list(set(rec_funds_62099) - set(rec_funds_58950))"
   ],
   "metadata": {
    "collapsed": false,
    "pycharm": {
     "name": "#%%\n"
    }
   }
  },
  {
   "cell_type": "markdown",
   "source": [
    "### Step 6: Conclusions\n",
    "\n",
    "The above two recommendation methods were used to suggest funds that a customer may purchase. These recommendations can be improved by adding more features to the project which in turn will mean loading more data elements. It is also possible to use Matrix Factorization to recommend funds although this has not been done in this project."
   ],
   "metadata": {
    "collapsed": false,
    "pycharm": {
     "name": "#%% md\n"
    }
   }
  },
  {
   "cell_type": "markdown",
   "source": [
    "### Step 7: Future Directions\n",
    "\n",
    "This project can be enhanced in many ways. In fact, the possibilities seem endless.\n",
    "\n",
    "I will describe below some enhancements that one can make to this project:\n",
    "\n",
    "* Adding more data elements to the Mutual Fund dataset to increase the Fund Fingerprint which in turn will enhance the recommendations. Examples are:\n",
    "    * 3, 5 and 10 year returns. These are critical metrics to assessing the performance consistency of the fund.\n",
    "    * Fund Beta: whether the fund's volatility mimics the market or not\n",
    "    * Sectors in which the fund invests\n",
    "    * Dividend Payment Frequency\n",
    "    * and so on...\n",
    "* Predicting customer churn based on a customer's sales and redemptions pattern\n",
    "* How geographic location influences buying decisions\n",
    "* Predicting sales of funds\n",
    "* Assessing notes of conversations with customers using NLP Pipelines to help improve any of the predictions"
   ],
   "metadata": {
    "collapsed": false,
    "pycharm": {
     "name": "#%% md\n"
    }
   }
  }
 ],
 "metadata": {
  "kernelspec": {
   "display_name": "Python 3",
   "language": "python",
   "name": "python3"
  },
  "language_info": {
   "codemirror_mode": {
    "name": "ipython",
    "version": 2
   },
   "file_extension": ".py",
   "mimetype": "text/x-python",
   "name": "python",
   "nbconvert_exporter": "python",
   "pygments_lexer": "ipython2",
   "version": "2.7.6"
  }
 },
 "nbformat": 4,
 "nbformat_minor": 0
}