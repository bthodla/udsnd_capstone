{
 "cells": [
  {
   "cell_type": "code",
   "execution_count": 1,
   "metadata": {
    "collapsed": true
   },
   "outputs": [],
   "source": [
    "import pandas as pd\n",
    "import numpy as np\n",
    "import matplotlib.pyplot as plt\n",
    "import seaborn as sns\n",
    "from sklearn.metrics import accuracy_score, f1_score\n",
    "\n",
    "%matplotlib inline\n",
    "\n",
    "# suppress warnings from final output\n",
    "import warnings\n",
    "warnings.simplefilter(\"ignore\")\n",
    "\n",
    "# To suppress numeric values from being returned in exponential format\n",
    "pd.options.display.float_format = '{:20,.2f}'.format\n",
    "\n",
    "# To display all charts against a white background\n",
    "plt.style.use('seaborn-whitegrid')"
   ]
  },
  {
   "cell_type": "markdown",
   "source": [
    "### Step 1. Loading Data"
   ],
   "metadata": {
    "collapsed": false
   }
  },
  {
   "cell_type": "code",
   "execution_count": 2,
   "outputs": [],
   "source": [
    "df_customer = pd.read_csv('./data/customer.csv')"
   ],
   "metadata": {
    "collapsed": false,
    "pycharm": {
     "name": "#%%\n"
    }
   }
  },
  {
   "cell_type": "code",
   "execution_count": 3,
   "outputs": [
    {
     "name": "stdout",
     "output_type": "stream",
     "text": [
      "<class 'pandas.core.frame.DataFrame'>\n",
      "RangeIndex: 210002 entries, 0 to 210001\n",
      "Data columns (total 10 columns):\n",
      " #   Column       Non-Null Count   Dtype  \n",
      "---  ------       --------------   -----  \n",
      " 0   customer_id  210002 non-null  int64  \n",
      " 1   first_name   210002 non-null  object \n",
      " 2   last_name    210002 non-null  object \n",
      " 3   city         210002 non-null  object \n",
      " 4   state_code   210002 non-null  object \n",
      " 5   zip          210002 non-null  int64  \n",
      " 6   country      210002 non-null  object \n",
      " 7   latitude     210002 non-null  float64\n",
      " 8   longitude    210002 non-null  float64\n",
      " 9   opportunity  210002 non-null  int64  \n",
      "dtypes: float64(2), int64(3), object(5)\n",
      "memory usage: 16.0+ MB\n"
     ]
    }
   ],
   "source": [
    "df_customer.info(verbose=True)"
   ],
   "metadata": {
    "collapsed": false,
    "pycharm": {
     "name": "#%%\n"
    }
   }
  },
  {
   "cell_type": "code",
   "execution_count": 4,
   "outputs": [
    {
     "data": {
      "text/plain": "   customer_id first_name last_name      city state_code  zip country  \\\n0    108437513    Coleman     Barbu  Mayaguez         PR  680     USA   \n1    621672267       Ramu     Chier  Mayaguez         PR  680     USA   \n2    243948535    Sanders    Groome     Ponce         PR  717     USA   \n3    259246539      Manon   Scheyer     Ponce         PR  717     USA   \n4    791622718       Kole   Etshman     Ponce         PR  717     USA   \n\n              latitude            longitude  opportunity  \n0                64.13              -145.75        30000  \n1                18.20               -67.14        10000  \n2                64.13              -145.75        20000  \n3                64.13              -145.75        20000  \n4                64.13              -145.75        20000  ",
      "text/html": "<div>\n<style scoped>\n    .dataframe tbody tr th:only-of-type {\n        vertical-align: middle;\n    }\n\n    .dataframe tbody tr th {\n        vertical-align: top;\n    }\n\n    .dataframe thead th {\n        text-align: right;\n    }\n</style>\n<table border=\"1\" class=\"dataframe\">\n  <thead>\n    <tr style=\"text-align: right;\">\n      <th></th>\n      <th>customer_id</th>\n      <th>first_name</th>\n      <th>last_name</th>\n      <th>city</th>\n      <th>state_code</th>\n      <th>zip</th>\n      <th>country</th>\n      <th>latitude</th>\n      <th>longitude</th>\n      <th>opportunity</th>\n    </tr>\n  </thead>\n  <tbody>\n    <tr>\n      <th>0</th>\n      <td>108437513</td>\n      <td>Coleman</td>\n      <td>Barbu</td>\n      <td>Mayaguez</td>\n      <td>PR</td>\n      <td>680</td>\n      <td>USA</td>\n      <td>64.13</td>\n      <td>-145.75</td>\n      <td>30000</td>\n    </tr>\n    <tr>\n      <th>1</th>\n      <td>621672267</td>\n      <td>Ramu</td>\n      <td>Chier</td>\n      <td>Mayaguez</td>\n      <td>PR</td>\n      <td>680</td>\n      <td>USA</td>\n      <td>18.20</td>\n      <td>-67.14</td>\n      <td>10000</td>\n    </tr>\n    <tr>\n      <th>2</th>\n      <td>243948535</td>\n      <td>Sanders</td>\n      <td>Groome</td>\n      <td>Ponce</td>\n      <td>PR</td>\n      <td>717</td>\n      <td>USA</td>\n      <td>64.13</td>\n      <td>-145.75</td>\n      <td>20000</td>\n    </tr>\n    <tr>\n      <th>3</th>\n      <td>259246539</td>\n      <td>Manon</td>\n      <td>Scheyer</td>\n      <td>Ponce</td>\n      <td>PR</td>\n      <td>717</td>\n      <td>USA</td>\n      <td>64.13</td>\n      <td>-145.75</td>\n      <td>20000</td>\n    </tr>\n    <tr>\n      <th>4</th>\n      <td>791622718</td>\n      <td>Kole</td>\n      <td>Etshman</td>\n      <td>Ponce</td>\n      <td>PR</td>\n      <td>717</td>\n      <td>USA</td>\n      <td>64.13</td>\n      <td>-145.75</td>\n      <td>20000</td>\n    </tr>\n  </tbody>\n</table>\n</div>"
     },
     "execution_count": 4,
     "metadata": {},
     "output_type": "execute_result"
    }
   ],
   "source": [
    "df_customer.head()"
   ],
   "metadata": {
    "collapsed": false,
    "pycharm": {
     "name": "#%%\n"
    }
   }
  },
  {
   "cell_type": "code",
   "execution_count": 5,
   "outputs": [
    {
     "data": {
      "text/plain": "(210002, 10)"
     },
     "execution_count": 5,
     "metadata": {},
     "output_type": "execute_result"
    }
   ],
   "source": [
    "df_customer.shape"
   ],
   "metadata": {
    "collapsed": false,
    "pycharm": {
     "name": "#%%\n"
    }
   }
  },
  {
   "cell_type": "code",
   "execution_count": 6,
   "outputs": [
    {
     "data": {
      "text/plain": "               customer_id                  zip             latitude  \\\ncount           210,002.00           210,002.00           210,002.00   \nmean        434,686,963.78            47,191.44                38.23   \nstd         253,819,572.13            30,181.93                 5.14   \nmin         100,000,339.00               680.00                13.48   \n25%         216,209,503.75            19,610.00                34.15   \n50%         387,263,215.00            45,209.00                39.77   \n75%         613,023,215.25            75,240.00                41.67   \nmax         999,992,774.00            99,901.00                64.86   \n\n                 longitude          opportunity  \ncount           210,002.00           210,002.00  \nmean                -90.08            99,016.46  \nstd                  16.32           176,502.07  \nmin                -159.53            10,000.00  \n25%                 -96.80            20,000.00  \n50%                 -85.17            43,000.00  \n75%                 -77.21            90,000.00  \nmax                 144.75         3,248,000.00  ",
      "text/html": "<div>\n<style scoped>\n    .dataframe tbody tr th:only-of-type {\n        vertical-align: middle;\n    }\n\n    .dataframe tbody tr th {\n        vertical-align: top;\n    }\n\n    .dataframe thead th {\n        text-align: right;\n    }\n</style>\n<table border=\"1\" class=\"dataframe\">\n  <thead>\n    <tr style=\"text-align: right;\">\n      <th></th>\n      <th>customer_id</th>\n      <th>zip</th>\n      <th>latitude</th>\n      <th>longitude</th>\n      <th>opportunity</th>\n    </tr>\n  </thead>\n  <tbody>\n    <tr>\n      <th>count</th>\n      <td>210,002.00</td>\n      <td>210,002.00</td>\n      <td>210,002.00</td>\n      <td>210,002.00</td>\n      <td>210,002.00</td>\n    </tr>\n    <tr>\n      <th>mean</th>\n      <td>434,686,963.78</td>\n      <td>47,191.44</td>\n      <td>38.23</td>\n      <td>-90.08</td>\n      <td>99,016.46</td>\n    </tr>\n    <tr>\n      <th>std</th>\n      <td>253,819,572.13</td>\n      <td>30,181.93</td>\n      <td>5.14</td>\n      <td>16.32</td>\n      <td>176,502.07</td>\n    </tr>\n    <tr>\n      <th>min</th>\n      <td>100,000,339.00</td>\n      <td>680.00</td>\n      <td>13.48</td>\n      <td>-159.53</td>\n      <td>10,000.00</td>\n    </tr>\n    <tr>\n      <th>25%</th>\n      <td>216,209,503.75</td>\n      <td>19,610.00</td>\n      <td>34.15</td>\n      <td>-96.80</td>\n      <td>20,000.00</td>\n    </tr>\n    <tr>\n      <th>50%</th>\n      <td>387,263,215.00</td>\n      <td>45,209.00</td>\n      <td>39.77</td>\n      <td>-85.17</td>\n      <td>43,000.00</td>\n    </tr>\n    <tr>\n      <th>75%</th>\n      <td>613,023,215.25</td>\n      <td>75,240.00</td>\n      <td>41.67</td>\n      <td>-77.21</td>\n      <td>90,000.00</td>\n    </tr>\n    <tr>\n      <th>max</th>\n      <td>999,992,774.00</td>\n      <td>99,901.00</td>\n      <td>64.86</td>\n      <td>144.75</td>\n      <td>3,248,000.00</td>\n    </tr>\n  </tbody>\n</table>\n</div>"
     },
     "execution_count": 6,
     "metadata": {},
     "output_type": "execute_result"
    }
   ],
   "source": [
    "df_customer.describe()"
   ],
   "metadata": {
    "collapsed": false,
    "pycharm": {
     "name": "#%%\n"
    }
   }
  },
  {
   "cell_type": "code",
   "execution_count": 7,
   "outputs": [],
   "source": [
    "df_txn = pd.read_csv('data/txn.csv')"
   ],
   "metadata": {
    "collapsed": false,
    "pycharm": {
     "name": "#%%\n"
    }
   }
  },
  {
   "cell_type": "code",
   "execution_count": 8,
   "outputs": [
    {
     "name": "stdout",
     "output_type": "stream",
     "text": [
      "<class 'pandas.core.frame.DataFrame'>\n",
      "RangeIndex: 1048575 entries, 0 to 1048574\n",
      "Data columns (total 6 columns):\n",
      " #   Column       Non-Null Count    Dtype  \n",
      "---  ------       --------------    -----  \n",
      " 0   txn_id       1048575 non-null  int64  \n",
      " 1   txn_date     1048575 non-null  object \n",
      " 2   customer_id  1048575 non-null  int64  \n",
      " 3   symbol       1048575 non-null  object \n",
      " 4   sales        1048575 non-null  float64\n",
      " 5   redemptions  1048575 non-null  float64\n",
      "dtypes: float64(2), int64(2), object(2)\n",
      "memory usage: 48.0+ MB\n"
     ]
    }
   ],
   "source": [
    "df_txn.info(verbose=True)"
   ],
   "metadata": {
    "collapsed": false,
    "pycharm": {
     "name": "#%%\n"
    }
   }
  },
  {
   "cell_type": "code",
   "execution_count": 9,
   "outputs": [
    {
     "data": {
      "text/plain": "      txn_id  txn_date  customer_id symbol                sales  \\\n0  422909780  5/2/2016    992808564  AFNIX            13,687.83   \n1  422909781  5/2/2016    261785827  GABSX                 0.00   \n2  422909782  5/2/2016    389127962  VTISX             4,153.98   \n3  422909783  5/2/2016    101692476  IMLAX            27,452.30   \n4  422909784  5/2/2016    327754553  MAPCX             6,433.14   \n\n           redemptions  \n0                 0.00  \n1            -4,286.23  \n2                 0.00  \n3                 0.00  \n4                 0.00  ",
      "text/html": "<div>\n<style scoped>\n    .dataframe tbody tr th:only-of-type {\n        vertical-align: middle;\n    }\n\n    .dataframe tbody tr th {\n        vertical-align: top;\n    }\n\n    .dataframe thead th {\n        text-align: right;\n    }\n</style>\n<table border=\"1\" class=\"dataframe\">\n  <thead>\n    <tr style=\"text-align: right;\">\n      <th></th>\n      <th>txn_id</th>\n      <th>txn_date</th>\n      <th>customer_id</th>\n      <th>symbol</th>\n      <th>sales</th>\n      <th>redemptions</th>\n    </tr>\n  </thead>\n  <tbody>\n    <tr>\n      <th>0</th>\n      <td>422909780</td>\n      <td>5/2/2016</td>\n      <td>992808564</td>\n      <td>AFNIX</td>\n      <td>13,687.83</td>\n      <td>0.00</td>\n    </tr>\n    <tr>\n      <th>1</th>\n      <td>422909781</td>\n      <td>5/2/2016</td>\n      <td>261785827</td>\n      <td>GABSX</td>\n      <td>0.00</td>\n      <td>-4,286.23</td>\n    </tr>\n    <tr>\n      <th>2</th>\n      <td>422909782</td>\n      <td>5/2/2016</td>\n      <td>389127962</td>\n      <td>VTISX</td>\n      <td>4,153.98</td>\n      <td>0.00</td>\n    </tr>\n    <tr>\n      <th>3</th>\n      <td>422909783</td>\n      <td>5/2/2016</td>\n      <td>101692476</td>\n      <td>IMLAX</td>\n      <td>27,452.30</td>\n      <td>0.00</td>\n    </tr>\n    <tr>\n      <th>4</th>\n      <td>422909784</td>\n      <td>5/2/2016</td>\n      <td>327754553</td>\n      <td>MAPCX</td>\n      <td>6,433.14</td>\n      <td>0.00</td>\n    </tr>\n  </tbody>\n</table>\n</div>"
     },
     "execution_count": 9,
     "metadata": {},
     "output_type": "execute_result"
    }
   ],
   "source": [
    "df_txn.head()"
   ],
   "metadata": {
    "collapsed": false,
    "pycharm": {
     "name": "#%%\n"
    }
   }
  },
  {
   "cell_type": "code",
   "execution_count": 10,
   "outputs": [
    {
     "data": {
      "text/plain": "(1048575, 6)"
     },
     "execution_count": 10,
     "metadata": {},
     "output_type": "execute_result"
    }
   ],
   "source": [
    "df_txn.shape"
   ],
   "metadata": {
    "collapsed": false,
    "pycharm": {
     "name": "#%%\n"
    }
   }
  },
  {
   "cell_type": "code",
   "execution_count": 11,
   "outputs": [
    {
     "data": {
      "text/plain": "                    txn_id          customer_id                sales  \\\ncount         1,048,575.00         1,048,575.00         1,048,575.00   \nmean        423,434,067.00       434,602,172.41             5,476.56   \nstd             302,697.67       253,895,845.15             7,183.11   \nmin         422,909,780.00       100,000,339.00                 0.00   \n25%         423,171,923.50       216,021,455.00                 0.00   \n50%         423,434,067.00       387,358,569.00                 0.00   \n75%         423,696,210.50       612,835,970.00            10,088.88   \nmax         423,958,354.00       999,992,774.00            29,186.85   \n\n               redemptions  \ncount         1,048,575.00  \nmean             -2,413.16  \nstd               3,153.61  \nmin             -12,821.61  \n25%              -4,439.99  \n50%                -138.19  \n75%                   0.00  \nmax                   0.00  ",
      "text/html": "<div>\n<style scoped>\n    .dataframe tbody tr th:only-of-type {\n        vertical-align: middle;\n    }\n\n    .dataframe tbody tr th {\n        vertical-align: top;\n    }\n\n    .dataframe thead th {\n        text-align: right;\n    }\n</style>\n<table border=\"1\" class=\"dataframe\">\n  <thead>\n    <tr style=\"text-align: right;\">\n      <th></th>\n      <th>txn_id</th>\n      <th>customer_id</th>\n      <th>sales</th>\n      <th>redemptions</th>\n    </tr>\n  </thead>\n  <tbody>\n    <tr>\n      <th>count</th>\n      <td>1,048,575.00</td>\n      <td>1,048,575.00</td>\n      <td>1,048,575.00</td>\n      <td>1,048,575.00</td>\n    </tr>\n    <tr>\n      <th>mean</th>\n      <td>423,434,067.00</td>\n      <td>434,602,172.41</td>\n      <td>5,476.56</td>\n      <td>-2,413.16</td>\n    </tr>\n    <tr>\n      <th>std</th>\n      <td>302,697.67</td>\n      <td>253,895,845.15</td>\n      <td>7,183.11</td>\n      <td>3,153.61</td>\n    </tr>\n    <tr>\n      <th>min</th>\n      <td>422,909,780.00</td>\n      <td>100,000,339.00</td>\n      <td>0.00</td>\n      <td>-12,821.61</td>\n    </tr>\n    <tr>\n      <th>25%</th>\n      <td>423,171,923.50</td>\n      <td>216,021,455.00</td>\n      <td>0.00</td>\n      <td>-4,439.99</td>\n    </tr>\n    <tr>\n      <th>50%</th>\n      <td>423,434,067.00</td>\n      <td>387,358,569.00</td>\n      <td>0.00</td>\n      <td>-138.19</td>\n    </tr>\n    <tr>\n      <th>75%</th>\n      <td>423,696,210.50</td>\n      <td>612,835,970.00</td>\n      <td>10,088.88</td>\n      <td>0.00</td>\n    </tr>\n    <tr>\n      <th>max</th>\n      <td>423,958,354.00</td>\n      <td>999,992,774.00</td>\n      <td>29,186.85</td>\n      <td>0.00</td>\n    </tr>\n  </tbody>\n</table>\n</div>"
     },
     "execution_count": 11,
     "metadata": {},
     "output_type": "execute_result"
    }
   ],
   "source": [
    "df_txn.describe()"
   ],
   "metadata": {
    "collapsed": false,
    "pycharm": {
     "name": "#%%\n"
    }
   }
  },
  {
   "cell_type": "code",
   "execution_count": 12,
   "outputs": [],
   "source": [
    "df_mutual_fund = pd.read_json('data/mutual_fund.json')"
   ],
   "metadata": {
    "collapsed": false,
    "pycharm": {
     "name": "#%%\n"
    }
   }
  },
  {
   "cell_type": "code",
   "execution_count": 13,
   "outputs": [
    {
     "name": "stdout",
     "output_type": "stream",
     "text": [
      "<class 'pandas.core.frame.DataFrame'>\n",
      "RangeIndex: 23783 entries, 0 to 23782\n",
      "Data columns (total 6 columns):\n",
      " #   Column     Non-Null Count  Dtype  \n",
      "---  ------     --------------  -----  \n",
      " 0   symbol     23783 non-null  object \n",
      " 1   name       23778 non-null  object \n",
      " 2   tna        23749 non-null  float64\n",
      " 3   ms_rating  21976 non-null  float64\n",
      " 4   size       22674 non-null  object \n",
      " 5   exp_ratio  23567 non-null  float64\n",
      "dtypes: float64(3), object(3)\n",
      "memory usage: 1.1+ MB\n"
     ]
    }
   ],
   "source": [
    "df_mutual_fund.info(verbose=True)"
   ],
   "metadata": {
    "collapsed": false,
    "pycharm": {
     "name": "#%%\n"
    }
   }
  },
  {
   "cell_type": "code",
   "execution_count": 14,
   "outputs": [
    {
     "data": {
      "text/plain": "  symbol                                               name  \\\n0  AAAAX               DWS RREEF Real Assets Fund - Class A   \n1  AAAEX      Virtus AllianzGI Health Sciences Fund Class P   \n2  AAAFX  American Century One Choice Blend+ 2015 Portfo...   \n3  AAAGX             Thrivent Large Cap Growth Fund Class A   \n4  AAAHX  American Century One Choice Blend+ 2015 Portfo...   \n\n                   tna            ms_rating   size            exp_ratio  \n0     2,979,347,456.00                 3.00  Large                 0.01  \n1       195,348,944.00                 3.00  Large                 0.01  \n2            25,946.00                  NaN  Large                 0.01  \n3     2,078,606,848.00                 4.00  Large                 0.01  \n4            25,946.00                  NaN  Large                 0.00  ",
      "text/html": "<div>\n<style scoped>\n    .dataframe tbody tr th:only-of-type {\n        vertical-align: middle;\n    }\n\n    .dataframe tbody tr th {\n        vertical-align: top;\n    }\n\n    .dataframe thead th {\n        text-align: right;\n    }\n</style>\n<table border=\"1\" class=\"dataframe\">\n  <thead>\n    <tr style=\"text-align: right;\">\n      <th></th>\n      <th>symbol</th>\n      <th>name</th>\n      <th>tna</th>\n      <th>ms_rating</th>\n      <th>size</th>\n      <th>exp_ratio</th>\n    </tr>\n  </thead>\n  <tbody>\n    <tr>\n      <th>0</th>\n      <td>AAAAX</td>\n      <td>DWS RREEF Real Assets Fund - Class A</td>\n      <td>2,979,347,456.00</td>\n      <td>3.00</td>\n      <td>Large</td>\n      <td>0.01</td>\n    </tr>\n    <tr>\n      <th>1</th>\n      <td>AAAEX</td>\n      <td>Virtus AllianzGI Health Sciences Fund Class P</td>\n      <td>195,348,944.00</td>\n      <td>3.00</td>\n      <td>Large</td>\n      <td>0.01</td>\n    </tr>\n    <tr>\n      <th>2</th>\n      <td>AAAFX</td>\n      <td>American Century One Choice Blend+ 2015 Portfo...</td>\n      <td>25,946.00</td>\n      <td>NaN</td>\n      <td>Large</td>\n      <td>0.01</td>\n    </tr>\n    <tr>\n      <th>3</th>\n      <td>AAAGX</td>\n      <td>Thrivent Large Cap Growth Fund Class A</td>\n      <td>2,078,606,848.00</td>\n      <td>4.00</td>\n      <td>Large</td>\n      <td>0.01</td>\n    </tr>\n    <tr>\n      <th>4</th>\n      <td>AAAHX</td>\n      <td>American Century One Choice Blend+ 2015 Portfo...</td>\n      <td>25,946.00</td>\n      <td>NaN</td>\n      <td>Large</td>\n      <td>0.00</td>\n    </tr>\n  </tbody>\n</table>\n</div>"
     },
     "execution_count": 14,
     "metadata": {},
     "output_type": "execute_result"
    }
   ],
   "source": [
    "df_mutual_fund.head()"
   ],
   "metadata": {
    "collapsed": false,
    "pycharm": {
     "name": "#%%\n"
    }
   }
  },
  {
   "cell_type": "code",
   "execution_count": 15,
   "outputs": [
    {
     "data": {
      "text/plain": "(23783, 6)"
     },
     "execution_count": 15,
     "metadata": {},
     "output_type": "execute_result"
    }
   ],
   "source": [
    "df_mutual_fund.shape"
   ],
   "metadata": {
    "collapsed": false,
    "pycharm": {
     "name": "#%%\n"
    }
   }
  },
  {
   "cell_type": "code",
   "execution_count": 16,
   "outputs": [
    {
     "data": {
      "text/plain": "                       tna            ms_rating            exp_ratio\ncount            23,749.00            21,976.00            23,567.00\nmean      4,924,192,363.80                 3.10                 0.01\nstd      21,097,647,864.75                 1.08                 0.01\nmin                  10.00                 1.00                 0.00\n25%         144,583,360.00                 2.00                 0.01\n50%         644,328,320.00                 3.00                 0.01\n75%       2,453,408,768.00                 4.00                 0.01\nmax     753,409,982,464.00                 5.00                 0.12",
      "text/html": "<div>\n<style scoped>\n    .dataframe tbody tr th:only-of-type {\n        vertical-align: middle;\n    }\n\n    .dataframe tbody tr th {\n        vertical-align: top;\n    }\n\n    .dataframe thead th {\n        text-align: right;\n    }\n</style>\n<table border=\"1\" class=\"dataframe\">\n  <thead>\n    <tr style=\"text-align: right;\">\n      <th></th>\n      <th>tna</th>\n      <th>ms_rating</th>\n      <th>exp_ratio</th>\n    </tr>\n  </thead>\n  <tbody>\n    <tr>\n      <th>count</th>\n      <td>23,749.00</td>\n      <td>21,976.00</td>\n      <td>23,567.00</td>\n    </tr>\n    <tr>\n      <th>mean</th>\n      <td>4,924,192,363.80</td>\n      <td>3.10</td>\n      <td>0.01</td>\n    </tr>\n    <tr>\n      <th>std</th>\n      <td>21,097,647,864.75</td>\n      <td>1.08</td>\n      <td>0.01</td>\n    </tr>\n    <tr>\n      <th>min</th>\n      <td>10.00</td>\n      <td>1.00</td>\n      <td>0.00</td>\n    </tr>\n    <tr>\n      <th>25%</th>\n      <td>144,583,360.00</td>\n      <td>2.00</td>\n      <td>0.01</td>\n    </tr>\n    <tr>\n      <th>50%</th>\n      <td>644,328,320.00</td>\n      <td>3.00</td>\n      <td>0.01</td>\n    </tr>\n    <tr>\n      <th>75%</th>\n      <td>2,453,408,768.00</td>\n      <td>4.00</td>\n      <td>0.01</td>\n    </tr>\n    <tr>\n      <th>max</th>\n      <td>753,409,982,464.00</td>\n      <td>5.00</td>\n      <td>0.12</td>\n    </tr>\n  </tbody>\n</table>\n</div>"
     },
     "execution_count": 16,
     "metadata": {},
     "output_type": "execute_result"
    }
   ],
   "source": [
    "df_mutual_fund.describe()"
   ],
   "metadata": {
    "collapsed": false,
    "pycharm": {
     "name": "#%%\n"
    }
   }
  },
  {
   "cell_type": "markdown",
   "source": [
    "### Step 2. Exploratory Data Analysis (EDA)"
   ],
   "metadata": {
    "collapsed": false
   }
  },
  {
   "cell_type": "markdown",
   "source": [
    "#### 1. Sales and redemptions by customer\n"
   ],
   "metadata": {
    "collapsed": false
   }
  },
  {
   "cell_type": "code",
   "execution_count": 17,
   "outputs": [
    {
     "name": "stdout",
     "output_type": "stream",
     "text": [
      "                           sales          redemptions\n",
      "customer_id                                          \n",
      "891691385             164,884.72           -13,434.32\n",
      "639423248             160,459.98            -5,178.92\n",
      "664905096             155,053.84           -37,579.62\n",
      "355625942             152,412.51           -21,029.89\n",
      "606787030             149,244.00           -25,843.33\n",
      "\n",
      "10\n"
     ]
    }
   ],
   "source": [
    "# Sales and redemptions by Customer - restricted to Top 10 by Sales\n",
    "df_sales_by_cust = df_txn.groupby(['customer_id']).sum()[['sales', 'redemptions']].sort_values(by='sales', ascending=False).head(10)\n",
    "print(df_sales_by_cust.head())\n",
    "print()\n",
    "print(df_sales_by_cust.shape[0])"
   ],
   "metadata": {
    "collapsed": false,
    "pycharm": {
     "name": "#%%\n"
    }
   }
  },
  {
   "cell_type": "code",
   "execution_count": 21,
   "outputs": [
    {
     "data": {
      "text/plain": "<Figure size 864x288 with 1 Axes>",
      "image/png": "[encoded data removed]"
     },
     "metadata": {},
     "output_type": "display_data"
    }
   ],
   "source": [
    "df_sales_by_cust.plot(kind='barh', stacked=True, figsize=(12, 4)).legend(loc='upper right')\n",
    "plt.title='Sales and Redemptions by Customer'\n",
    "plt.xlabel('Sales/Redemptions')\n",
    "plt.ylabel('Customer Id');"
   ],
   "metadata": {
    "collapsed": false,
    "pycharm": {
     "name": "#%%\n"
    }
   }
  },
  {
   "cell_type": "markdown",
   "source": [
    "#### 2. Sales and redemptions by mutual fund"
   ],
   "metadata": {
    "collapsed": false
   }
  },
  {
   "cell_type": "code",
   "execution_count": 22,
   "outputs": [
    {
     "name": "stdout",
     "output_type": "stream",
     "text": [
      "                      sales          redemptions\n",
      "symbol                                          \n",
      "MSDCX            856,314.66          -207,858.66\n",
      "LCRRX            826,716.30          -211,586.65\n",
      "FFQZX            825,552.52          -248,619.59\n",
      "BSPIX            801,182.43          -210,506.32\n",
      "CMACX            797,674.56          -272,037.97\n",
      "\n",
      "10\n"
     ]
    }
   ],
   "source": [
    "# Sales and Redemptions by Top 10 Mutual Funds\n",
    "df_sales_by_fund = df_txn.groupby(['symbol']).sum()[['sales', 'redemptions']].sort_values(by='sales', ascending=False).head(10)\n",
    "print(df_sales_by_fund.head())\n",
    "print()\n",
    "print(df_sales_by_fund.shape[0])"
   ],
   "metadata": {
    "collapsed": false,
    "pycharm": {
     "name": "#%%\n"
    }
   }
  },
  {
   "cell_type": "code",
   "execution_count": 30,
   "outputs": [
    {
     "data": {
      "text/plain": "<Figure size 1080x360 with 1 Axes>",
      "image/png": "[encoded data removed]"
     },
     "metadata": {},
     "output_type": "display_data"
    }
   ],
   "source": [
    "df_sales_by_fund.plot(kind='barh', stacked=True, figsize=(15, 5)).legend(loc='upper left')\n",
    "plt.title='Sales and Redemptions by Customer'\n",
    "plt.xlabel('Sales/Redemptions')\n",
    "plt.ylabel('Fund Symbol');\n"
   ],
   "metadata": {
    "collapsed": false,
    "pycharm": {
     "name": "#%%\n"
    }
   }
  },
  {
   "cell_type": "markdown",
   "source": [
    "#### 3. Sales and redemptions by customer and mutual fund"
   ],
   "metadata": {
    "collapsed": false
   }
  },
  {
   "cell_type": "code",
   "execution_count": 34,
   "outputs": [
    {
     "name": "stdout",
     "output_type": "stream",
     "text": [
      "                                  sales          redemptions\n",
      "customer_id symbol                                          \n",
      "999992774   VSAGX                  0.00            -6,088.40\n",
      "            HNVIX             10,591.61                 0.00\n",
      "            FMGAX                  0.00            -8,398.58\n",
      "999989840   PCBKX              7,548.54                 0.00\n",
      "            FARFX                  0.00            -4,002.59\n",
      "            CRMVX             17,287.08                 0.00\n",
      "            COMVX              7,430.91                 0.00\n",
      "            BIACX             10,440.11                 0.00\n",
      "999984817   WIISX              8,742.14                 0.00\n",
      "            SASMX                  0.00            -5,974.41\n",
      "\n",
      "1048343\n"
     ]
    }
   ],
   "source": [
    "df_sales_by_cust_fund = df_txn.groupby(['customer_id', 'symbol']).sum()[['sales', 'redemptions']].sort_values(by=['customer_id', 'symbol', 'sales'], ascending=False)\n",
    "print(df_sales_by_cust_fund.head(10))\n",
    "print()\n",
    "print(df_sales_by_cust_fund.shape[0])"
   ],
   "metadata": {
    "collapsed": false,
    "pycharm": {
     "name": "#%%\n"
    }
   }
  },
  {
   "cell_type": "markdown",
   "source": [
    "#### 4. A deeper look at fund attribute-based aggregations"
   ],
   "metadata": {
    "collapsed": false
   }
  },
  {
   "cell_type": "code",
   "execution_count": 36,
   "outputs": [
    {
     "data": {
      "text/plain": "                         sales          redemptions\nms_rating                                          \n1.00            390,448,899.42      -170,238,228.73\n2.00          1,120,082,048.39      -491,015,532.96\n3.00          1,966,911,888.18      -866,222,003.72\n4.00          1,301,368,936.06      -577,776,674.22\n5.00            567,949,882.52      -249,320,470.32",
      "text/html": "<div>\n<style scoped>\n    .dataframe tbody tr th:only-of-type {\n        vertical-align: middle;\n    }\n\n    .dataframe tbody tr th {\n        vertical-align: top;\n    }\n\n    .dataframe thead th {\n        text-align: right;\n    }\n</style>\n<table border=\"1\" class=\"dataframe\">\n  <thead>\n    <tr style=\"text-align: right;\">\n      <th></th>\n      <th>sales</th>\n      <th>redemptions</th>\n    </tr>\n    <tr>\n      <th>ms_rating</th>\n      <th></th>\n      <th></th>\n    </tr>\n  </thead>\n  <tbody>\n    <tr>\n      <th>1.00</th>\n      <td>390,448,899.42</td>\n      <td>-170,238,228.73</td>\n    </tr>\n    <tr>\n      <th>2.00</th>\n      <td>1,120,082,048.39</td>\n      <td>-491,015,532.96</td>\n    </tr>\n    <tr>\n      <th>3.00</th>\n      <td>1,966,911,888.18</td>\n      <td>-866,222,003.72</td>\n    </tr>\n    <tr>\n      <th>4.00</th>\n      <td>1,301,368,936.06</td>\n      <td>-577,776,674.22</td>\n    </tr>\n    <tr>\n      <th>5.00</th>\n      <td>567,949,882.52</td>\n      <td>-249,320,470.32</td>\n    </tr>\n  </tbody>\n</table>\n</div>"
     },
     "execution_count": 36,
     "metadata": {},
     "output_type": "execute_result"
    }
   ],
   "source": [
    "# Sales and redemptions by MS Rating\n",
    "df_sales_by_ms_rating = pd.merge(left=df_txn, right=df_mutual_fund, on='symbol')[['ms_rating', 'sales', 'redemptions']].groupby(['ms_rating']).sum([['sales', 'redemptions']])\n",
    "df_sales_by_ms_rating.head()"
   ],
   "metadata": {
    "collapsed": false,
    "pycharm": {
     "name": "#%%\n"
    }
   }
  },
  {
   "cell_type": "code",
   "execution_count": 39,
   "outputs": [
    {
     "data": {
      "text/plain": "<Figure size 720x360 with 1 Axes>",
      "image/png": "[encoded data removed]"
     },
     "metadata": {},
     "output_type": "display_data"
    }
   ],
   "source": [
    "df_sales_by_ms_rating.plot(kind='bar', stacked=True, figsize=(10, 5)).legend(loc='upper left')\n",
    "plt.title='Sales and Redemptions by Morning Star Rating'\n",
    "plt.xlabel('Sales/Redemptions')\n",
    "plt.ylabel('MS Rating');"
   ],
   "metadata": {
    "collapsed": false,
    "pycharm": {
     "name": "#%%\n"
    }
   }
  },
  {
   "cell_type": "code",
   "execution_count": 40,
   "outputs": [
    {
     "data": {
      "text/plain": "                      sales          redemptions\nsize                                            \nLarge      3,202,668,833.37    -1,403,907,288.82\nMedium     1,335,869,935.18      -591,358,063.86\nSmall        950,395,378.67      -422,789,418.60",
      "text/html": "<div>\n<style scoped>\n    .dataframe tbody tr th:only-of-type {\n        vertical-align: middle;\n    }\n\n    .dataframe tbody tr th {\n        vertical-align: top;\n    }\n\n    .dataframe thead th {\n        text-align: right;\n    }\n</style>\n<table border=\"1\" class=\"dataframe\">\n  <thead>\n    <tr style=\"text-align: right;\">\n      <th></th>\n      <th>sales</th>\n      <th>redemptions</th>\n    </tr>\n    <tr>\n      <th>size</th>\n      <th></th>\n      <th></th>\n    </tr>\n  </thead>\n  <tbody>\n    <tr>\n      <th>Large</th>\n      <td>3,202,668,833.37</td>\n      <td>-1,403,907,288.82</td>\n    </tr>\n    <tr>\n      <th>Medium</th>\n      <td>1,335,869,935.18</td>\n      <td>-591,358,063.86</td>\n    </tr>\n    <tr>\n      <th>Small</th>\n      <td>950,395,378.67</td>\n      <td>-422,789,418.60</td>\n    </tr>\n  </tbody>\n</table>\n</div>"
     },
     "execution_count": 40,
     "metadata": {},
     "output_type": "execute_result"
    }
   ],
   "source": [
    "# Sales and redemptions by Size\n",
    "df_sales_by_size = pd.merge(left=df_txn, right=df_mutual_fund, on='symbol')[['size', 'sales', 'redemptions']].groupby(['size']).sum([['sales', 'redemptions']])\n",
    "df_sales_by_size.head()"
   ],
   "metadata": {
    "collapsed": false,
    "pycharm": {
     "name": "#%%\n"
    }
   }
  },
  {
   "cell_type": "code",
   "execution_count": 41,
   "outputs": [
    {
     "data": {
      "text/plain": "<Figure size 720x360 with 1 Axes>",
      "image/png": "[encoded data removed]"
     },
     "metadata": {},
     "output_type": "display_data"
    }
   ],
   "source": [
    "df_sales_by_size.plot(kind='bar', stacked=True, figsize=(10, 5)).legend(loc='upper left')\n",
    "plt.title='Sales and Redemptions by Size'\n",
    "plt.xlabel('Sales/Redemptions')\n",
    "plt.ylabel('Size');"
   ],
   "metadata": {
    "collapsed": false,
    "pycharm": {
     "name": "#%%\n"
    }
   }
  },
  {
   "cell_type": "markdown",
   "source": [
    "#### 5. A deeper look at customer attribute-based aggregations"
   ],
   "metadata": {
    "collapsed": false
   }
  },
  {
   "cell_type": "code",
   "execution_count": 42,
   "outputs": [
    {
     "data": {
      "text/plain": "                                       sales          redemptions\ncustomer_id opportunity                                          \n100000339   50000                   7,795.32            -8,257.66\n100001423   50000                  41,082.73            -8,562.18\n100001837   125000                 14,997.14           -24,064.01\n100002544   16000                  47,259.76           -13,202.98\n100002551   150000                 17,507.63            -9,250.09",
      "text/html": "<div>\n<style scoped>\n    .dataframe tbody tr th:only-of-type {\n        vertical-align: middle;\n    }\n\n    .dataframe tbody tr th {\n        vertical-align: top;\n    }\n\n    .dataframe thead th {\n        text-align: right;\n    }\n</style>\n<table border=\"1\" class=\"dataframe\">\n  <thead>\n    <tr style=\"text-align: right;\">\n      <th></th>\n      <th></th>\n      <th>sales</th>\n      <th>redemptions</th>\n    </tr>\n    <tr>\n      <th>customer_id</th>\n      <th>opportunity</th>\n      <th></th>\n      <th></th>\n    </tr>\n  </thead>\n  <tbody>\n    <tr>\n      <th>100000339</th>\n      <th>50000</th>\n      <td>7,795.32</td>\n      <td>-8,257.66</td>\n    </tr>\n    <tr>\n      <th>100001423</th>\n      <th>50000</th>\n      <td>41,082.73</td>\n      <td>-8,562.18</td>\n    </tr>\n    <tr>\n      <th>100001837</th>\n      <th>125000</th>\n      <td>14,997.14</td>\n      <td>-24,064.01</td>\n    </tr>\n    <tr>\n      <th>100002544</th>\n      <th>16000</th>\n      <td>47,259.76</td>\n      <td>-13,202.98</td>\n    </tr>\n    <tr>\n      <th>100002551</th>\n      <th>150000</th>\n      <td>17,507.63</td>\n      <td>-9,250.09</td>\n    </tr>\n  </tbody>\n</table>\n</div>"
     },
     "execution_count": 42,
     "metadata": {},
     "output_type": "execute_result"
    }
   ],
   "source": [
    "# Sales and redemptions by Customer and Customer Opportunity\n",
    "df_sales_by_cust_opp = pd.merge(left=df_txn, right=df_customer, on='customer_id')[['customer_id', 'opportunity', 'sales', 'redemptions']].groupby(['customer_id', 'opportunity']).sum([['sales', 'redemptions']])\n",
    "df_sales_by_cust_opp.head()"
   ],
   "metadata": {
    "collapsed": false,
    "pycharm": {
     "name": "#%%\n"
    }
   }
  },
  {
   "cell_type": "code",
   "execution_count": 45,
   "outputs": [
    {
     "data": {
      "text/plain": "            opportunity                sales          redemptions\nstate_code                                                       \nCA          13323219000       616,614,584.18      -269,705,211.35\nNY          20221846000       556,695,243.27      -243,567,910.87\nFL           6071339000       380,353,671.91      -168,723,368.15\nTX           5796772000       352,309,140.40      -153,953,892.17\nIL           6471983000       266,361,252.58      -117,187,857.74",
      "text/html": "<div>\n<style scoped>\n    .dataframe tbody tr th:only-of-type {\n        vertical-align: middle;\n    }\n\n    .dataframe tbody tr th {\n        vertical-align: top;\n    }\n\n    .dataframe thead th {\n        text-align: right;\n    }\n</style>\n<table border=\"1\" class=\"dataframe\">\n  <thead>\n    <tr style=\"text-align: right;\">\n      <th></th>\n      <th>opportunity</th>\n      <th>sales</th>\n      <th>redemptions</th>\n    </tr>\n    <tr>\n      <th>state_code</th>\n      <th></th>\n      <th></th>\n      <th></th>\n    </tr>\n  </thead>\n  <tbody>\n    <tr>\n      <th>CA</th>\n      <td>13323219000</td>\n      <td>616,614,584.18</td>\n      <td>-269,705,211.35</td>\n    </tr>\n    <tr>\n      <th>NY</th>\n      <td>20221846000</td>\n      <td>556,695,243.27</td>\n      <td>-243,567,910.87</td>\n    </tr>\n    <tr>\n      <th>FL</th>\n      <td>6071339000</td>\n      <td>380,353,671.91</td>\n      <td>-168,723,368.15</td>\n    </tr>\n    <tr>\n      <th>TX</th>\n      <td>5796772000</td>\n      <td>352,309,140.40</td>\n      <td>-153,953,892.17</td>\n    </tr>\n    <tr>\n      <th>IL</th>\n      <td>6471983000</td>\n      <td>266,361,252.58</td>\n      <td>-117,187,857.74</td>\n    </tr>\n  </tbody>\n</table>\n</div>"
     },
     "execution_count": 45,
     "metadata": {},
     "output_type": "execute_result"
    }
   ],
   "source": [
    "# Sales and redemptions by geographic location\n",
    "df_sales_by_state = pd.merge(left=df_txn, right=df_customer, on='customer_id')[['state_code', 'opportunity', 'sales', 'redemptions']].groupby(['state_code']).sum([['opportunity', 'sales', 'redemptions']]).sort_values(by='sales', ascending=False)\n",
    "df_sales_by_state.head()"
   ],
   "metadata": {
    "collapsed": false,
    "pycharm": {
     "name": "#%%\n"
    }
   }
  },
  {
   "cell_type": "code",
   "execution_count": 48,
   "outputs": [
    {
     "data": {
      "text/plain": "<Figure size 720x360 with 1 Axes>",
      "image/png": "[encoded data removed]"
     },
     "metadata": {},
     "output_type": "display_data"
    }
   ],
   "source": [
    "df_sales_by_state.head(10).plot(kind='barh', stacked=True, figsize=(10, 5)).legend(loc='upper right')\n",
    "plt.title='Sales and Redemptions by State'\n",
    "plt.xlabel('Sales/Redemptions')\n",
    "plt.ylabel('State');"
   ],
   "metadata": {
    "collapsed": false,
    "pycharm": {
     "name": "#%%\n"
    }
   }
  }
 ],
 "metadata": {
  "kernelspec": {
   "display_name": "Python 3",
   "language": "python",
   "name": "python3"
  },
  "language_info": {
   "codemirror_mode": {
    "name": "ipython",
    "version": 2
   },
   "file_extension": ".py",
   "mimetype": "text/x-python",
   "name": "python",
   "nbconvert_exporter": "python",
   "pygments_lexer": "ipython2",
   "version": "2.7.6"
  }
 },
 "nbformat": 4,
 "nbformat_minor": 0
}