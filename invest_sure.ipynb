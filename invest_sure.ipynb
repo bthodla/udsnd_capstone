{
 "cells": [
  {
   "cell_type": "code",
   "execution_count": 1,
   "metadata": {
    "collapsed": true
   },
   "outputs": [],
   "source": [
    "import pandas as pd\n",
    "import numpy as np\n",
    "import matplotlib.pyplot as plt\n",
    "import seaborn as sns\n",
    "from sklearn.metrics import accuracy_score, f1_score\n",
    "\n",
    "%matplotlib inline\n",
    "\n",
    "# suppress warnings from final output\n",
    "import warnings\n",
    "warnings.simplefilter(\"ignore\")\n",
    "\n",
    "# To suppress numeric values from being returned in exponential format\n",
    "pd.options.display.float_format = '{:20,.2f}'.format\n",
    "\n",
    "# To display all charts against a white background\n",
    "plt.style.use('seaborn-whitegrid')"
   ]
  },
  {
   "cell_type": "markdown",
   "source": [
    "### Step 1. Loading Data"
   ],
   "metadata": {
    "collapsed": false
   }
  },
  {
   "cell_type": "code",
   "execution_count": 2,
   "outputs": [],
   "source": [
    "df_customer = pd.read_csv('./data/customer.csv')"
   ],
   "metadata": {
    "collapsed": false,
    "pycharm": {
     "name": "#%%\n"
    }
   }
  },
  {
   "cell_type": "code",
   "execution_count": 3,
   "outputs": [
    {
     "name": "stdout",
     "output_type": "stream",
     "text": [
      "<class 'pandas.core.frame.DataFrame'>\n",
      "RangeIndex: 20951 entries, 0 to 20950\n",
      "Data columns (total 10 columns):\n",
      " #   Column       Non-Null Count  Dtype  \n",
      "---  ------       --------------  -----  \n",
      " 0   customer_id  20951 non-null  int64  \n",
      " 1   first_name   20951 non-null  object \n",
      " 2   last_name    20951 non-null  object \n",
      " 3   city         20951 non-null  object \n",
      " 4   state_code   15238 non-null  object \n",
      " 5   zip          20951 non-null  int64  \n",
      " 6   country      20951 non-null  object \n",
      " 7   latitude     20951 non-null  float64\n",
      " 8   longitude    20951 non-null  float64\n",
      " 9   opportunity  20951 non-null  int64  \n",
      "dtypes: float64(2), int64(3), object(5)\n",
      "memory usage: 1.6+ MB\n"
     ]
    }
   ],
   "source": [
    "df_customer.info(verbose=True)"
   ],
   "metadata": {
    "collapsed": false,
    "pycharm": {
     "name": "#%%\n"
    }
   }
  },
  {
   "cell_type": "code",
   "execution_count": 4,
   "outputs": [
    {
     "data": {
      "text/plain": "   customer_id first_name last_name      city state_code  zip country  \\\n0        50037  Franklinc    Spango  San Juan         PR  917     USA   \n1        50038     Derrel   Cazzell  San Juan         PR  918     USA   \n2        50039    Mayrely    Deitel  San Juan         PR  918     USA   \n3        50040      Beena    Karpay  San Juan         PR  918     USA   \n4        50041    Malachi     Winik  San Juan         PR  918     USA   \n\n              latitude            longitude  opportunity  \n0                39.56              -119.49        30000  \n1                18.47               -66.11       105000  \n2                39.56              -119.49        10000  \n3                39.56              -119.49       105000  \n4                18.47               -66.11       105000  ",
      "text/html": "<div>\n<style scoped>\n    .dataframe tbody tr th:only-of-type {\n        vertical-align: middle;\n    }\n\n    .dataframe tbody tr th {\n        vertical-align: top;\n    }\n\n    .dataframe thead th {\n        text-align: right;\n    }\n</style>\n<table border=\"1\" class=\"dataframe\">\n  <thead>\n    <tr style=\"text-align: right;\">\n      <th></th>\n      <th>customer_id</th>\n      <th>first_name</th>\n      <th>last_name</th>\n      <th>city</th>\n      <th>state_code</th>\n      <th>zip</th>\n      <th>country</th>\n      <th>latitude</th>\n      <th>longitude</th>\n      <th>opportunity</th>\n    </tr>\n  </thead>\n  <tbody>\n    <tr>\n      <th>0</th>\n      <td>50037</td>\n      <td>Franklinc</td>\n      <td>Spango</td>\n      <td>San Juan</td>\n      <td>PR</td>\n      <td>917</td>\n      <td>USA</td>\n      <td>39.56</td>\n      <td>-119.49</td>\n      <td>30000</td>\n    </tr>\n    <tr>\n      <th>1</th>\n      <td>50038</td>\n      <td>Derrel</td>\n      <td>Cazzell</td>\n      <td>San Juan</td>\n      <td>PR</td>\n      <td>918</td>\n      <td>USA</td>\n      <td>18.47</td>\n      <td>-66.11</td>\n      <td>105000</td>\n    </tr>\n    <tr>\n      <th>2</th>\n      <td>50039</td>\n      <td>Mayrely</td>\n      <td>Deitel</td>\n      <td>San Juan</td>\n      <td>PR</td>\n      <td>918</td>\n      <td>USA</td>\n      <td>39.56</td>\n      <td>-119.49</td>\n      <td>10000</td>\n    </tr>\n    <tr>\n      <th>3</th>\n      <td>50040</td>\n      <td>Beena</td>\n      <td>Karpay</td>\n      <td>San Juan</td>\n      <td>PR</td>\n      <td>918</td>\n      <td>USA</td>\n      <td>39.56</td>\n      <td>-119.49</td>\n      <td>105000</td>\n    </tr>\n    <tr>\n      <th>4</th>\n      <td>50041</td>\n      <td>Malachi</td>\n      <td>Winik</td>\n      <td>San Juan</td>\n      <td>PR</td>\n      <td>918</td>\n      <td>USA</td>\n      <td>18.47</td>\n      <td>-66.11</td>\n      <td>105000</td>\n    </tr>\n  </tbody>\n</table>\n</div>"
     },
     "execution_count": 4,
     "metadata": {},
     "output_type": "execute_result"
    }
   ],
   "source": [
    "df_customer.head()"
   ],
   "metadata": {
    "collapsed": false,
    "pycharm": {
     "name": "#%%\n"
    }
   }
  },
  {
   "cell_type": "code",
   "execution_count": 5,
   "outputs": [
    {
     "data": {
      "text/plain": "(20951, 10)"
     },
     "execution_count": 5,
     "metadata": {},
     "output_type": "execute_result"
    }
   ],
   "source": [
    "df_customer.shape"
   ],
   "metadata": {
    "collapsed": false,
    "pycharm": {
     "name": "#%%\n"
    }
   }
  },
  {
   "cell_type": "code",
   "execution_count": 6,
   "outputs": [
    {
     "data": {
      "text/plain": "               customer_id                  zip             latitude  \\\ncount            20,951.00            20,951.00            20,951.00   \nmean             60,512.00            47,072.54                38.23   \nstd               6,048.18            30,158.87                 5.14   \nmin              50,037.00               917.00                18.42   \n25%              55,274.50            19,428.00                34.15   \n50%              60,512.00            45,202.00                39.83   \n75%              65,749.50            75,240.00                41.68   \nmax              70,987.00            99,901.00                64.85   \n\n                 longitude          opportunity  \ncount            20,951.00            20,951.00  \nmean                -90.02            97,642.59  \nstd                  16.19           176,565.13  \nmin                -157.94            10,000.00  \n25%                 -96.79            20,000.00  \n50%                 -85.14            42,000.00  \n75%                 -77.18            90,000.00  \nmax                 -66.06         3,049,000.00  ",
      "text/html": "<div>\n<style scoped>\n    .dataframe tbody tr th:only-of-type {\n        vertical-align: middle;\n    }\n\n    .dataframe tbody tr th {\n        vertical-align: top;\n    }\n\n    .dataframe thead th {\n        text-align: right;\n    }\n</style>\n<table border=\"1\" class=\"dataframe\">\n  <thead>\n    <tr style=\"text-align: right;\">\n      <th></th>\n      <th>customer_id</th>\n      <th>zip</th>\n      <th>latitude</th>\n      <th>longitude</th>\n      <th>opportunity</th>\n    </tr>\n  </thead>\n  <tbody>\n    <tr>\n      <th>count</th>\n      <td>20,951.00</td>\n      <td>20,951.00</td>\n      <td>20,951.00</td>\n      <td>20,951.00</td>\n      <td>20,951.00</td>\n    </tr>\n    <tr>\n      <th>mean</th>\n      <td>60,512.00</td>\n      <td>47,072.54</td>\n      <td>38.23</td>\n      <td>-90.02</td>\n      <td>97,642.59</td>\n    </tr>\n    <tr>\n      <th>std</th>\n      <td>6,048.18</td>\n      <td>30,158.87</td>\n      <td>5.14</td>\n      <td>16.19</td>\n      <td>176,565.13</td>\n    </tr>\n    <tr>\n      <th>min</th>\n      <td>50,037.00</td>\n      <td>917.00</td>\n      <td>18.42</td>\n      <td>-157.94</td>\n      <td>10,000.00</td>\n    </tr>\n    <tr>\n      <th>25%</th>\n      <td>55,274.50</td>\n      <td>19,428.00</td>\n      <td>34.15</td>\n      <td>-96.79</td>\n      <td>20,000.00</td>\n    </tr>\n    <tr>\n      <th>50%</th>\n      <td>60,512.00</td>\n      <td>45,202.00</td>\n      <td>39.83</td>\n      <td>-85.14</td>\n      <td>42,000.00</td>\n    </tr>\n    <tr>\n      <th>75%</th>\n      <td>65,749.50</td>\n      <td>75,240.00</td>\n      <td>41.68</td>\n      <td>-77.18</td>\n      <td>90,000.00</td>\n    </tr>\n    <tr>\n      <th>max</th>\n      <td>70,987.00</td>\n      <td>99,901.00</td>\n      <td>64.85</td>\n      <td>-66.06</td>\n      <td>3,049,000.00</td>\n    </tr>\n  </tbody>\n</table>\n</div>"
     },
     "execution_count": 6,
     "metadata": {},
     "output_type": "execute_result"
    }
   ],
   "source": [
    "df_customer.describe()"
   ],
   "metadata": {
    "collapsed": false,
    "pycharm": {
     "name": "#%%\n"
    }
   }
  },
  {
   "cell_type": "code",
   "execution_count": 7,
   "outputs": [],
   "source": [
    "df_txn = pd.read_csv('data/txn.csv')"
   ],
   "metadata": {
    "collapsed": false,
    "pycharm": {
     "name": "#%%\n"
    }
   }
  },
  {
   "cell_type": "code",
   "execution_count": 8,
   "outputs": [
    {
     "name": "stdout",
     "output_type": "stream",
     "text": [
      "<class 'pandas.core.frame.DataFrame'>\n",
      "RangeIndex: 1048575 entries, 0 to 1048574\n",
      "Data columns (total 6 columns):\n",
      " #   Column       Non-Null Count    Dtype  \n",
      "---  ------       --------------    -----  \n",
      " 0   txn_id       1048575 non-null  int64  \n",
      " 1   txn_date     1048575 non-null  object \n",
      " 2   customer_id  1048575 non-null  int64  \n",
      " 3   symbol       1048575 non-null  object \n",
      " 4   sales        1048575 non-null  float64\n",
      " 5   redemptions  1048575 non-null  float64\n",
      "dtypes: float64(2), int64(2), object(2)\n",
      "memory usage: 48.0+ MB\n"
     ]
    }
   ],
   "source": [
    "df_txn.info(verbose=True)"
   ],
   "metadata": {
    "collapsed": false,
    "pycharm": {
     "name": "#%%\n"
    }
   }
  },
  {
   "cell_type": "code",
   "execution_count": 9,
   "outputs": [
    {
     "data": {
      "text/plain": "      txn_id  txn_date  customer_id symbol                sales  \\\n0  422909780  5/2/2016        59532  AFNIX            13,687.83   \n1  422909781  5/2/2016        60660  GABSX                 0.00   \n2  422909782  5/2/2016        52939  VTISX             4,153.98   \n3  422909783  5/2/2016        52990  IMLAX            27,452.30   \n4  422909784  5/2/2016        60343  MAPCX             6,433.14   \n\n           redemptions  \n0                 0.00  \n1            -4,286.23  \n2                 0.00  \n3                 0.00  \n4                 0.00  ",
      "text/html": "<div>\n<style scoped>\n    .dataframe tbody tr th:only-of-type {\n        vertical-align: middle;\n    }\n\n    .dataframe tbody tr th {\n        vertical-align: top;\n    }\n\n    .dataframe thead th {\n        text-align: right;\n    }\n</style>\n<table border=\"1\" class=\"dataframe\">\n  <thead>\n    <tr style=\"text-align: right;\">\n      <th></th>\n      <th>txn_id</th>\n      <th>txn_date</th>\n      <th>customer_id</th>\n      <th>symbol</th>\n      <th>sales</th>\n      <th>redemptions</th>\n    </tr>\n  </thead>\n  <tbody>\n    <tr>\n      <th>0</th>\n      <td>422909780</td>\n      <td>5/2/2016</td>\n      <td>59532</td>\n      <td>AFNIX</td>\n      <td>13,687.83</td>\n      <td>0.00</td>\n    </tr>\n    <tr>\n      <th>1</th>\n      <td>422909781</td>\n      <td>5/2/2016</td>\n      <td>60660</td>\n      <td>GABSX</td>\n      <td>0.00</td>\n      <td>-4,286.23</td>\n    </tr>\n    <tr>\n      <th>2</th>\n      <td>422909782</td>\n      <td>5/2/2016</td>\n      <td>52939</td>\n      <td>VTISX</td>\n      <td>4,153.98</td>\n      <td>0.00</td>\n    </tr>\n    <tr>\n      <th>3</th>\n      <td>422909783</td>\n      <td>5/2/2016</td>\n      <td>52990</td>\n      <td>IMLAX</td>\n      <td>27,452.30</td>\n      <td>0.00</td>\n    </tr>\n    <tr>\n      <th>4</th>\n      <td>422909784</td>\n      <td>5/2/2016</td>\n      <td>60343</td>\n      <td>MAPCX</td>\n      <td>6,433.14</td>\n      <td>0.00</td>\n    </tr>\n  </tbody>\n</table>\n</div>"
     },
     "execution_count": 9,
     "metadata": {},
     "output_type": "execute_result"
    }
   ],
   "source": [
    "df_txn.head()"
   ],
   "metadata": {
    "collapsed": false,
    "pycharm": {
     "name": "#%%\n"
    }
   }
  },
  {
   "cell_type": "code",
   "execution_count": 10,
   "outputs": [
    {
     "data": {
      "text/plain": "(1048575, 6)"
     },
     "execution_count": 10,
     "metadata": {},
     "output_type": "execute_result"
    }
   ],
   "source": [
    "df_txn.shape"
   ],
   "metadata": {
    "collapsed": false,
    "pycharm": {
     "name": "#%%\n"
    }
   }
  },
  {
   "cell_type": "code",
   "execution_count": 11,
   "outputs": [
    {
     "data": {
      "text/plain": "                    txn_id          customer_id                sales  \\\ncount         1,048,575.00         1,048,575.00         1,048,575.00   \nmean        423,434,067.00            60,509.66             5,476.56   \nstd             302,697.67             6,045.63             7,183.11   \nmin         422,909,780.00            50,037.00                 0.00   \n25%         423,171,923.50            55,274.00                 0.00   \n50%         423,434,067.00            60,512.00                 0.00   \n75%         423,696,210.50            65,744.00            10,088.88   \nmax         423,958,354.00            70,987.00            29,186.85   \n\n               redemptions  \ncount         1,048,575.00  \nmean             -2,413.16  \nstd               3,153.61  \nmin             -12,821.61  \n25%              -4,439.99  \n50%                -138.19  \n75%                   0.00  \nmax                   0.00  ",
      "text/html": "<div>\n<style scoped>\n    .dataframe tbody tr th:only-of-type {\n        vertical-align: middle;\n    }\n\n    .dataframe tbody tr th {\n        vertical-align: top;\n    }\n\n    .dataframe thead th {\n        text-align: right;\n    }\n</style>\n<table border=\"1\" class=\"dataframe\">\n  <thead>\n    <tr style=\"text-align: right;\">\n      <th></th>\n      <th>txn_id</th>\n      <th>customer_id</th>\n      <th>sales</th>\n      <th>redemptions</th>\n    </tr>\n  </thead>\n  <tbody>\n    <tr>\n      <th>count</th>\n      <td>1,048,575.00</td>\n      <td>1,048,575.00</td>\n      <td>1,048,575.00</td>\n      <td>1,048,575.00</td>\n    </tr>\n    <tr>\n      <th>mean</th>\n      <td>423,434,067.00</td>\n      <td>60,509.66</td>\n      <td>5,476.56</td>\n      <td>-2,413.16</td>\n    </tr>\n    <tr>\n      <th>std</th>\n      <td>302,697.67</td>\n      <td>6,045.63</td>\n      <td>7,183.11</td>\n      <td>3,153.61</td>\n    </tr>\n    <tr>\n      <th>min</th>\n      <td>422,909,780.00</td>\n      <td>50,037.00</td>\n      <td>0.00</td>\n      <td>-12,821.61</td>\n    </tr>\n    <tr>\n      <th>25%</th>\n      <td>423,171,923.50</td>\n      <td>55,274.00</td>\n      <td>0.00</td>\n      <td>-4,439.99</td>\n    </tr>\n    <tr>\n      <th>50%</th>\n      <td>423,434,067.00</td>\n      <td>60,512.00</td>\n      <td>0.00</td>\n      <td>-138.19</td>\n    </tr>\n    <tr>\n      <th>75%</th>\n      <td>423,696,210.50</td>\n      <td>65,744.00</td>\n      <td>10,088.88</td>\n      <td>0.00</td>\n    </tr>\n    <tr>\n      <th>max</th>\n      <td>423,958,354.00</td>\n      <td>70,987.00</td>\n      <td>29,186.85</td>\n      <td>0.00</td>\n    </tr>\n  </tbody>\n</table>\n</div>"
     },
     "execution_count": 11,
     "metadata": {},
     "output_type": "execute_result"
    }
   ],
   "source": [
    "df_txn.describe()"
   ],
   "metadata": {
    "collapsed": false,
    "pycharm": {
     "name": "#%%\n"
    }
   }
  },
  {
   "cell_type": "code",
   "execution_count": 12,
   "outputs": [],
   "source": [
    "df_mutual_fund = pd.read_json('data/mutual_fund.json')"
   ],
   "metadata": {
    "collapsed": false,
    "pycharm": {
     "name": "#%%\n"
    }
   }
  },
  {
   "cell_type": "code",
   "execution_count": 13,
   "outputs": [
    {
     "name": "stdout",
     "output_type": "stream",
     "text": [
      "<class 'pandas.core.frame.DataFrame'>\n",
      "RangeIndex: 23783 entries, 0 to 23782\n",
      "Data columns (total 6 columns):\n",
      " #   Column     Non-Null Count  Dtype  \n",
      "---  ------     --------------  -----  \n",
      " 0   symbol     23783 non-null  object \n",
      " 1   name       23778 non-null  object \n",
      " 2   tna        23749 non-null  float64\n",
      " 3   ms_rating  21976 non-null  float64\n",
      " 4   size       22674 non-null  object \n",
      " 5   exp_ratio  23567 non-null  float64\n",
      "dtypes: float64(3), object(3)\n",
      "memory usage: 1.1+ MB\n"
     ]
    }
   ],
   "source": [
    "df_mutual_fund.info(verbose=True)"
   ],
   "metadata": {
    "collapsed": false,
    "pycharm": {
     "name": "#%%\n"
    }
   }
  },
  {
   "cell_type": "code",
   "execution_count": 14,
   "outputs": [
    {
     "data": {
      "text/plain": "  symbol                                               name  \\\n0  AAAAX               DWS RREEF Real Assets Fund - Class A   \n1  AAAEX      Virtus AllianzGI Health Sciences Fund Class P   \n2  AAAFX  American Century One Choice Blend+ 2015 Portfo...   \n3  AAAGX             Thrivent Large Cap Growth Fund Class A   \n4  AAAHX  American Century One Choice Blend+ 2015 Portfo...   \n\n                   tna            ms_rating   size            exp_ratio  \n0     2,979,347,456.00                 3.00  Large                 0.01  \n1       195,348,944.00                 3.00  Large                 0.01  \n2            25,946.00                  NaN  Large                 0.01  \n3     2,078,606,848.00                 4.00  Large                 0.01  \n4            25,946.00                  NaN  Large                 0.00  ",
      "text/html": "<div>\n<style scoped>\n    .dataframe tbody tr th:only-of-type {\n        vertical-align: middle;\n    }\n\n    .dataframe tbody tr th {\n        vertical-align: top;\n    }\n\n    .dataframe thead th {\n        text-align: right;\n    }\n</style>\n<table border=\"1\" class=\"dataframe\">\n  <thead>\n    <tr style=\"text-align: right;\">\n      <th></th>\n      <th>symbol</th>\n      <th>name</th>\n      <th>tna</th>\n      <th>ms_rating</th>\n      <th>size</th>\n      <th>exp_ratio</th>\n    </tr>\n  </thead>\n  <tbody>\n    <tr>\n      <th>0</th>\n      <td>AAAAX</td>\n      <td>DWS RREEF Real Assets Fund - Class A</td>\n      <td>2,979,347,456.00</td>\n      <td>3.00</td>\n      <td>Large</td>\n      <td>0.01</td>\n    </tr>\n    <tr>\n      <th>1</th>\n      <td>AAAEX</td>\n      <td>Virtus AllianzGI Health Sciences Fund Class P</td>\n      <td>195,348,944.00</td>\n      <td>3.00</td>\n      <td>Large</td>\n      <td>0.01</td>\n    </tr>\n    <tr>\n      <th>2</th>\n      <td>AAAFX</td>\n      <td>American Century One Choice Blend+ 2015 Portfo...</td>\n      <td>25,946.00</td>\n      <td>NaN</td>\n      <td>Large</td>\n      <td>0.01</td>\n    </tr>\n    <tr>\n      <th>3</th>\n      <td>AAAGX</td>\n      <td>Thrivent Large Cap Growth Fund Class A</td>\n      <td>2,078,606,848.00</td>\n      <td>4.00</td>\n      <td>Large</td>\n      <td>0.01</td>\n    </tr>\n    <tr>\n      <th>4</th>\n      <td>AAAHX</td>\n      <td>American Century One Choice Blend+ 2015 Portfo...</td>\n      <td>25,946.00</td>\n      <td>NaN</td>\n      <td>Large</td>\n      <td>0.00</td>\n    </tr>\n  </tbody>\n</table>\n</div>"
     },
     "execution_count": 14,
     "metadata": {},
     "output_type": "execute_result"
    }
   ],
   "source": [
    "df_mutual_fund.head()"
   ],
   "metadata": {
    "collapsed": false,
    "pycharm": {
     "name": "#%%\n"
    }
   }
  },
  {
   "cell_type": "code",
   "execution_count": 15,
   "outputs": [
    {
     "data": {
      "text/plain": "(23783, 6)"
     },
     "execution_count": 15,
     "metadata": {},
     "output_type": "execute_result"
    }
   ],
   "source": [
    "df_mutual_fund.shape"
   ],
   "metadata": {
    "collapsed": false,
    "pycharm": {
     "name": "#%%\n"
    }
   }
  },
  {
   "cell_type": "code",
   "execution_count": 16,
   "outputs": [
    {
     "data": {
      "text/plain": "                       tna            ms_rating            exp_ratio\ncount            23,749.00            21,976.00            23,567.00\nmean      4,924,192,363.80                 3.10                 0.01\nstd      21,097,647,864.75                 1.08                 0.01\nmin                  10.00                 1.00                 0.00\n25%         144,583,360.00                 2.00                 0.01\n50%         644,328,320.00                 3.00                 0.01\n75%       2,453,408,768.00                 4.00                 0.01\nmax     753,409,982,464.00                 5.00                 0.12",
      "text/html": "<div>\n<style scoped>\n    .dataframe tbody tr th:only-of-type {\n        vertical-align: middle;\n    }\n\n    .dataframe tbody tr th {\n        vertical-align: top;\n    }\n\n    .dataframe thead th {\n        text-align: right;\n    }\n</style>\n<table border=\"1\" class=\"dataframe\">\n  <thead>\n    <tr style=\"text-align: right;\">\n      <th></th>\n      <th>tna</th>\n      <th>ms_rating</th>\n      <th>exp_ratio</th>\n    </tr>\n  </thead>\n  <tbody>\n    <tr>\n      <th>count</th>\n      <td>23,749.00</td>\n      <td>21,976.00</td>\n      <td>23,567.00</td>\n    </tr>\n    <tr>\n      <th>mean</th>\n      <td>4,924,192,363.80</td>\n      <td>3.10</td>\n      <td>0.01</td>\n    </tr>\n    <tr>\n      <th>std</th>\n      <td>21,097,647,864.75</td>\n      <td>1.08</td>\n      <td>0.01</td>\n    </tr>\n    <tr>\n      <th>min</th>\n      <td>10.00</td>\n      <td>1.00</td>\n      <td>0.00</td>\n    </tr>\n    <tr>\n      <th>25%</th>\n      <td>144,583,360.00</td>\n      <td>2.00</td>\n      <td>0.01</td>\n    </tr>\n    <tr>\n      <th>50%</th>\n      <td>644,328,320.00</td>\n      <td>3.00</td>\n      <td>0.01</td>\n    </tr>\n    <tr>\n      <th>75%</th>\n      <td>2,453,408,768.00</td>\n      <td>4.00</td>\n      <td>0.01</td>\n    </tr>\n    <tr>\n      <th>max</th>\n      <td>753,409,982,464.00</td>\n      <td>5.00</td>\n      <td>0.12</td>\n    </tr>\n  </tbody>\n</table>\n</div>"
     },
     "execution_count": 16,
     "metadata": {},
     "output_type": "execute_result"
    }
   ],
   "source": [
    "df_mutual_fund.describe()"
   ],
   "metadata": {
    "collapsed": false,
    "pycharm": {
     "name": "#%%\n"
    }
   }
  },
  {
   "cell_type": "markdown",
   "source": [
    "### Step 2. Exploratory Data Analysis (EDA)"
   ],
   "metadata": {
    "collapsed": false
   }
  },
  {
   "cell_type": "markdown",
   "source": [
    "##### 2.1. Sales and redemptions by customer\n"
   ],
   "metadata": {
    "collapsed": false
   }
  },
  {
   "cell_type": "code",
   "execution_count": 17,
   "outputs": [
    {
     "name": "stdout",
     "output_type": "stream",
     "text": [
      "                           sales          redemptions\n",
      "customer_id                                          \n",
      "66141                 576,984.37          -120,904.71\n",
      "70941                 549,850.76          -147,380.24\n",
      "58060                 540,494.96           -62,220.53\n",
      "56531                 531,871.82           -59,766.72\n",
      "52754                 527,923.92          -148,068.06\n",
      "\n",
      "10\n"
     ]
    }
   ],
   "source": [
    "# Sales and redemptions by Customer - restricted to Top 10 by Sales\n",
    "df_sales_by_cust = df_txn.groupby(['customer_id']).sum()[['sales', 'redemptions']].sort_values(by='sales', ascending=False).head(10)\n",
    "print(df_sales_by_cust.head())\n",
    "print()\n",
    "print(df_sales_by_cust.shape[0])"
   ],
   "metadata": {
    "collapsed": false,
    "pycharm": {
     "name": "#%%\n"
    }
   }
  },
  {
   "cell_type": "code",
   "execution_count": 18,
   "outputs": [
    {
     "data": {
      "text/plain": "<Figure size 864x288 with 1 Axes>",
      "image/png": "[encoded data removed]"
     },
     "metadata": {},
     "output_type": "display_data"
    }
   ],
   "source": [
    "df_sales_by_cust.plot(kind='barh', stacked=True, figsize=(12, 4)).legend(loc='upper right')\n",
    "plt.title='Sales and Redemptions by Customer'\n",
    "plt.xlabel('Sales/Redemptions')\n",
    "plt.ylabel('Customer Id');"
   ],
   "metadata": {
    "collapsed": false,
    "pycharm": {
     "name": "#%%\n"
    }
   }
  },
  {
   "cell_type": "markdown",
   "source": [
    "##### 2.2. Sales and redemptions by mutual fund"
   ],
   "metadata": {
    "collapsed": false
   }
  },
  {
   "cell_type": "code",
   "execution_count": 19,
   "outputs": [
    {
     "name": "stdout",
     "output_type": "stream",
     "text": [
      "                      sales          redemptions\n",
      "symbol                                          \n",
      "MSDCX            856,314.66          -207,858.66\n",
      "LCRRX            826,716.30          -211,586.65\n",
      "FFQZX            825,552.52          -248,619.59\n",
      "BSPIX            801,182.43          -210,506.32\n",
      "CMACX            797,674.56          -272,037.97\n",
      "\n",
      "10\n"
     ]
    }
   ],
   "source": [
    "# Sales and Redemptions by Top 10 Mutual Funds\n",
    "df_sales_by_fund = df_txn.groupby(['symbol']).sum()[['sales', 'redemptions']].sort_values(by='sales', ascending=False).head(10)\n",
    "print(df_sales_by_fund.head())\n",
    "print()\n",
    "print(df_sales_by_fund.shape[0])"
   ],
   "metadata": {
    "collapsed": false,
    "pycharm": {
     "name": "#%%\n"
    }
   }
  },
  {
   "cell_type": "code",
   "execution_count": 20,
   "outputs": [
    {
     "data": {
      "text/plain": "<Figure size 1080x360 with 1 Axes>",
      "image/png": "[encoded data removed]"
     },
     "metadata": {},
     "output_type": "display_data"
    }
   ],
   "source": [
    "df_sales_by_fund.plot(kind='barh', stacked=True, figsize=(15, 5)).legend(loc='upper left')\n",
    "plt.title='Sales and Redemptions by Customer'\n",
    "plt.xlabel('Sales/Redemptions')\n",
    "plt.ylabel('Fund Symbol');\n"
   ],
   "metadata": {
    "collapsed": false,
    "pycharm": {
     "name": "#%%\n"
    }
   }
  },
  {
   "cell_type": "markdown",
   "source": [
    "##### 2.3. Sales and redemptions by customer and mutual fund"
   ],
   "metadata": {
    "collapsed": false
   }
  },
  {
   "cell_type": "code",
   "execution_count": 21,
   "outputs": [
    {
     "name": "stdout",
     "output_type": "stream",
     "text": [
      "                                  sales          redemptions\n",
      "customer_id symbol                                          \n",
      "70987       VYSDX                  0.00            -4,381.39\n",
      "            TRSAX                  0.00            -5,021.45\n",
      "            TISIX                  0.00            -3,372.34\n",
      "            SUNBX              6,205.39                 0.00\n",
      "            STDFX                  0.00            -8,109.27\n",
      "            SFECX                  0.00            -5,417.76\n",
      "            SEMCX                  0.00            -3,087.45\n",
      "            SCSPX                  0.00            -4,940.69\n",
      "            ROBNX                  0.00            -3,378.37\n",
      "            RNDLX                  0.00            -1,544.94\n",
      "\n",
      "1046390\n"
     ]
    }
   ],
   "source": [
    "df_sales_by_cust_fund = df_txn.groupby(['customer_id', 'symbol']).sum()[['sales', 'redemptions']].sort_values(by=['customer_id', 'symbol', 'sales'], ascending=False)\n",
    "print(df_sales_by_cust_fund.head(10))\n",
    "print()\n",
    "print(df_sales_by_cust_fund.shape[0])"
   ],
   "metadata": {
    "collapsed": false,
    "pycharm": {
     "name": "#%%\n"
    }
   }
  },
  {
   "cell_type": "markdown",
   "source": [
    "##### 2.4. A deeper look at fund attribute-based aggregations"
   ],
   "metadata": {
    "collapsed": false
   }
  },
  {
   "cell_type": "code",
   "execution_count": 22,
   "outputs": [
    {
     "data": {
      "text/plain": "                         sales          redemptions\nms_rating                                          \n1.00            390,448,899.42      -170,238,228.73\n2.00          1,120,082,048.39      -491,015,532.96\n3.00          1,966,911,888.18      -866,222,003.72\n4.00          1,301,368,936.06      -577,776,674.22\n5.00            567,949,882.52      -249,320,470.32",
      "text/html": "<div>\n<style scoped>\n    .dataframe tbody tr th:only-of-type {\n        vertical-align: middle;\n    }\n\n    .dataframe tbody tr th {\n        vertical-align: top;\n    }\n\n    .dataframe thead th {\n        text-align: right;\n    }\n</style>\n<table border=\"1\" class=\"dataframe\">\n  <thead>\n    <tr style=\"text-align: right;\">\n      <th></th>\n      <th>sales</th>\n      <th>redemptions</th>\n    </tr>\n    <tr>\n      <th>ms_rating</th>\n      <th></th>\n      <th></th>\n    </tr>\n  </thead>\n  <tbody>\n    <tr>\n      <th>1.00</th>\n      <td>390,448,899.42</td>\n      <td>-170,238,228.73</td>\n    </tr>\n    <tr>\n      <th>2.00</th>\n      <td>1,120,082,048.39</td>\n      <td>-491,015,532.96</td>\n    </tr>\n    <tr>\n      <th>3.00</th>\n      <td>1,966,911,888.18</td>\n      <td>-866,222,003.72</td>\n    </tr>\n    <tr>\n      <th>4.00</th>\n      <td>1,301,368,936.06</td>\n      <td>-577,776,674.22</td>\n    </tr>\n    <tr>\n      <th>5.00</th>\n      <td>567,949,882.52</td>\n      <td>-249,320,470.32</td>\n    </tr>\n  </tbody>\n</table>\n</div>"
     },
     "execution_count": 22,
     "metadata": {},
     "output_type": "execute_result"
    }
   ],
   "source": [
    "# Sales and redemptions by MS Rating\n",
    "df_sales_by_ms_rating = pd.merge(left=df_txn, right=df_mutual_fund, on='symbol')[['ms_rating', 'sales', 'redemptions']].groupby(['ms_rating']).sum([['sales', 'redemptions']])\n",
    "df_sales_by_ms_rating.head()"
   ],
   "metadata": {
    "collapsed": false,
    "pycharm": {
     "name": "#%%\n"
    }
   }
  },
  {
   "cell_type": "code",
   "execution_count": 23,
   "outputs": [
    {
     "data": {
      "text/plain": "<Figure size 720x360 with 1 Axes>",
      "image/png": "[encoded data removed]"
     },
     "metadata": {},
     "output_type": "display_data"
    }
   ],
   "source": [
    "df_sales_by_ms_rating.plot(kind='bar', stacked=True, figsize=(10, 5)).legend(loc='upper left')\n",
    "plt.title='Sales and Redemptions by Morning Star Rating'\n",
    "plt.xlabel('Sales/Redemptions')\n",
    "plt.ylabel('MS Rating');"
   ],
   "metadata": {
    "collapsed": false,
    "pycharm": {
     "name": "#%%\n"
    }
   }
  },
  {
   "cell_type": "code",
   "execution_count": 24,
   "outputs": [
    {
     "data": {
      "text/plain": "                      sales          redemptions\nsize                                            \nLarge      3,202,668,833.37    -1,403,907,288.82\nMedium     1,335,869,935.18      -591,358,063.86\nSmall        950,395,378.67      -422,789,418.60",
      "text/html": "<div>\n<style scoped>\n    .dataframe tbody tr th:only-of-type {\n        vertical-align: middle;\n    }\n\n    .dataframe tbody tr th {\n        vertical-align: top;\n    }\n\n    .dataframe thead th {\n        text-align: right;\n    }\n</style>\n<table border=\"1\" class=\"dataframe\">\n  <thead>\n    <tr style=\"text-align: right;\">\n      <th></th>\n      <th>sales</th>\n      <th>redemptions</th>\n    </tr>\n    <tr>\n      <th>size</th>\n      <th></th>\n      <th></th>\n    </tr>\n  </thead>\n  <tbody>\n    <tr>\n      <th>Large</th>\n      <td>3,202,668,833.37</td>\n      <td>-1,403,907,288.82</td>\n    </tr>\n    <tr>\n      <th>Medium</th>\n      <td>1,335,869,935.18</td>\n      <td>-591,358,063.86</td>\n    </tr>\n    <tr>\n      <th>Small</th>\n      <td>950,395,378.67</td>\n      <td>-422,789,418.60</td>\n    </tr>\n  </tbody>\n</table>\n</div>"
     },
     "execution_count": 24,
     "metadata": {},
     "output_type": "execute_result"
    }
   ],
   "source": [
    "# Sales and redemptions by Size\n",
    "df_sales_by_size = pd.merge(left=df_txn, right=df_mutual_fund, on='symbol')[['size', 'sales', 'redemptions']].groupby(['size']).sum([['sales', 'redemptions']])\n",
    "df_sales_by_size.head()"
   ],
   "metadata": {
    "collapsed": false,
    "pycharm": {
     "name": "#%%\n"
    }
   }
  },
  {
   "cell_type": "code",
   "execution_count": 25,
   "outputs": [
    {
     "data": {
      "text/plain": "<Figure size 720x360 with 1 Axes>",
      "image/png": "[encoded data removed]"
     },
     "metadata": {},
     "output_type": "display_data"
    }
   ],
   "source": [
    "df_sales_by_size.plot(kind='bar', stacked=True, figsize=(10, 5)).legend(loc='upper left')\n",
    "plt.title='Sales and Redemptions by Size'\n",
    "plt.xlabel('Sales/Redemptions')\n",
    "plt.ylabel('Size');"
   ],
   "metadata": {
    "collapsed": false,
    "pycharm": {
     "name": "#%%\n"
    }
   }
  },
  {
   "cell_type": "markdown",
   "source": [
    "##### 2.5. A deeper look at customer attribute-based aggregations"
   ],
   "metadata": {
    "collapsed": false
   }
  },
  {
   "cell_type": "code",
   "execution_count": 26,
   "outputs": [
    {
     "data": {
      "text/plain": "                                       sales          redemptions\ncustomer_id opportunity                                          \n50037       30000                 306,751.44          -155,164.77\n50038       105000                361,158.77           -96,853.36\n50039       10000                 426,594.74          -139,711.70\n50040       105000                244,707.71           -74,396.43\n50041       105000                293,969.41          -106,756.21",
      "text/html": "<div>\n<style scoped>\n    .dataframe tbody tr th:only-of-type {\n        vertical-align: middle;\n    }\n\n    .dataframe tbody tr th {\n        vertical-align: top;\n    }\n\n    .dataframe thead th {\n        text-align: right;\n    }\n</style>\n<table border=\"1\" class=\"dataframe\">\n  <thead>\n    <tr style=\"text-align: right;\">\n      <th></th>\n      <th></th>\n      <th>sales</th>\n      <th>redemptions</th>\n    </tr>\n    <tr>\n      <th>customer_id</th>\n      <th>opportunity</th>\n      <th></th>\n      <th></th>\n    </tr>\n  </thead>\n  <tbody>\n    <tr>\n      <th>50037</th>\n      <th>30000</th>\n      <td>306,751.44</td>\n      <td>-155,164.77</td>\n    </tr>\n    <tr>\n      <th>50038</th>\n      <th>105000</th>\n      <td>361,158.77</td>\n      <td>-96,853.36</td>\n    </tr>\n    <tr>\n      <th>50039</th>\n      <th>10000</th>\n      <td>426,594.74</td>\n      <td>-139,711.70</td>\n    </tr>\n    <tr>\n      <th>50040</th>\n      <th>105000</th>\n      <td>244,707.71</td>\n      <td>-74,396.43</td>\n    </tr>\n    <tr>\n      <th>50041</th>\n      <th>105000</th>\n      <td>293,969.41</td>\n      <td>-106,756.21</td>\n    </tr>\n  </tbody>\n</table>\n</div>"
     },
     "execution_count": 26,
     "metadata": {},
     "output_type": "execute_result"
    }
   ],
   "source": [
    "# Sales and redemptions by Customer\n",
    "df_sales_by_cust_opp = pd.merge(left=df_txn, right=df_customer, on='customer_id')[['customer_id', 'opportunity', 'sales', 'redemptions']].groupby(['customer_id', 'opportunity']).sum([['sales', 'redemptions']])\n",
    "df_sales_by_cust_opp.head()"
   ],
   "metadata": {
    "collapsed": false,
    "pycharm": {
     "name": "#%%\n"
    }
   }
  },
  {
   "cell_type": "code",
   "execution_count": 27,
   "outputs": [
    {
     "data": {
      "text/plain": "                          sales          redemptions\nstate_code                                          \nNY               567,524,392.44      -246,541,075.36\nFL               375,786,466.08      -168,560,917.47\nPA               276,170,949.21      -123,118,853.75\nIL               265,259,071.56      -116,787,205.17\nNJ               246,652,189.70      -106,748,488.73",
      "text/html": "<div>\n<style scoped>\n    .dataframe tbody tr th:only-of-type {\n        vertical-align: middle;\n    }\n\n    .dataframe tbody tr th {\n        vertical-align: top;\n    }\n\n    .dataframe thead th {\n        text-align: right;\n    }\n</style>\n<table border=\"1\" class=\"dataframe\">\n  <thead>\n    <tr style=\"text-align: right;\">\n      <th></th>\n      <th>sales</th>\n      <th>redemptions</th>\n    </tr>\n    <tr>\n      <th>state_code</th>\n      <th></th>\n      <th></th>\n    </tr>\n  </thead>\n  <tbody>\n    <tr>\n      <th>NY</th>\n      <td>567,524,392.44</td>\n      <td>-246,541,075.36</td>\n    </tr>\n    <tr>\n      <th>FL</th>\n      <td>375,786,466.08</td>\n      <td>-168,560,917.47</td>\n    </tr>\n    <tr>\n      <th>PA</th>\n      <td>276,170,949.21</td>\n      <td>-123,118,853.75</td>\n    </tr>\n    <tr>\n      <th>IL</th>\n      <td>265,259,071.56</td>\n      <td>-116,787,205.17</td>\n    </tr>\n    <tr>\n      <th>NJ</th>\n      <td>246,652,189.70</td>\n      <td>-106,748,488.73</td>\n    </tr>\n  </tbody>\n</table>\n</div>"
     },
     "execution_count": 27,
     "metadata": {},
     "output_type": "execute_result"
    }
   ],
   "source": [
    "# Sales and redemptions by geographic location\n",
    "df_sales_by_state = pd.merge(left=df_txn, right=df_customer, on='customer_id')[['state_code', 'sales', 'redemptions']].groupby(['state_code']).sum([['sales', 'redemptions']]).sort_values(by='sales', ascending=False)\n",
    "df_sales_by_state.head()"
   ],
   "metadata": {
    "collapsed": false,
    "pycharm": {
     "name": "#%%\n"
    }
   }
  },
  {
   "cell_type": "code",
   "execution_count": 28,
   "outputs": [
    {
     "data": {
      "text/plain": "<Figure size 720x360 with 1 Axes>",
      "image/png": "[encoded data removed]"
     },
     "metadata": {},
     "output_type": "display_data"
    }
   ],
   "source": [
    "df_sales_by_state.head(10).plot(kind='barh', stacked=True, figsize=(10, 5)).legend(loc='upper right')\n",
    "plt.title='Sales and Redemptions by State'\n",
    "plt.xlabel('Sales/Redemptions')\n",
    "plt.ylabel('State');"
   ],
   "metadata": {
    "collapsed": false,
    "pycharm": {
     "name": "#%%\n"
    }
   }
  },
  {
   "cell_type": "markdown",
   "source": [
    "### Step 3. Feature Engineering\n",
    "\n",
    "In this section, I would like to identify the various features that we can pull out of this data to help us build recommendations. I will classify these features based on the dataset below:\n",
    "\n",
    "###### Mutual Funds\n",
    "1. **Morningstar Rating**: This is ranking given to publicly traded mutual funds and exchange traded funds by the investment research firm Morningstar. Risk is assessed at five levels designed to help investors quickly identify funds to consider for their portfolios. More information can be found at https://www.investopedia.com/terms/m/morningstarriskrating.asp. In general, funds with a rating of 4 and 5 are highly sought after. They may be considered as Strong Buys. Funds with a rating of 1 or 2 may be considered Strong Sells while those with a rating of 3 may be considered as\n",
    "2. **Size**: Broadly classified into three categories (Small, Medium and Large), this indicates the sizes of the companies in which the Mutual Fund invests.\n",
    "3. **Expense Ratio**: This is a continuous numeric value and is not much useful to us as it is. However, we can broadly classify these into three categories - Low: less than 0.5%, Reasonable: between 0.5% and 1% and High: above 1%.\n",
    "\n",
    "##### Customers\n",
    "4. **Opportunity**: This is also a continuous numeric value and indicates the amount upto which a customer may be willing to invest. This is assessed daily and set to the maximum value of sales for a given customer over the entire history of the customer's relationship with the investment company. While the amount is not very useful in itself for our purpose, we can engineer it as a metric to indicate whether a sale is possible. To make that assessment, we could say that a sale is possible if the total sales of a given customer is less than 75% of the opportunity marked against that customer. When recommending funds to a customer, we can take this metric into account as well.\n",
    "\n",
    "#### Transactions\n",
    "5. **Net Sales**: This is the total sales of a given customer of a given product after deducting redemptions from the same. We could impute that a positive number (preferably subject to a minimum threshold) indicates that the customer recommends that product. Otherwise, not.\n",
    "\n",
    "In the following cells, I will turn these features into 1 and 0 value matrices that we can later use to build out our recommendations."
   ],
   "metadata": {
    "collapsed": false,
    "pycharm": {
     "name": "#%% md\n"
    }
   }
  },
  {
   "cell_type": "markdown",
   "source": [
    "##### 3.1 Add necessary columns to the datasets as per discussion above containing 0 and 1 values"
   ],
   "metadata": {
    "collapsed": false
   }
  },
  {
   "cell_type": "code",
   "execution_count": 29,
   "outputs": [
    {
     "data": {
      "text/plain": "  symbol                                               name  \\\n0  AAAAX               DWS RREEF Real Assets Fund - Class A   \n1  AAAEX      Virtus AllianzGI Health Sciences Fund Class P   \n2  AAAFX  American Century One Choice Blend+ 2015 Portfo...   \n3  AAAGX             Thrivent Large Cap Growth Fund Class A   \n4  AAAHX  American Century One Choice Blend+ 2015 Portfo...   \n\n                   tna            ms_rating   size            exp_ratio  buy  \n0     2,979,347,456.00                 3.00  Large                 0.01    0  \n1       195,348,944.00                 3.00  Large                 0.01    0  \n2            25,946.00                 0.00  Large                 0.01    0  \n3     2,078,606,848.00                 4.00  Large                 0.01    1  \n4            25,946.00                 0.00  Large                 0.00    0  ",
      "text/html": "<div>\n<style scoped>\n    .dataframe tbody tr th:only-of-type {\n        vertical-align: middle;\n    }\n\n    .dataframe tbody tr th {\n        vertical-align: top;\n    }\n\n    .dataframe thead th {\n        text-align: right;\n    }\n</style>\n<table border=\"1\" class=\"dataframe\">\n  <thead>\n    <tr style=\"text-align: right;\">\n      <th></th>\n      <th>symbol</th>\n      <th>name</th>\n      <th>tna</th>\n      <th>ms_rating</th>\n      <th>size</th>\n      <th>exp_ratio</th>\n      <th>buy</th>\n    </tr>\n  </thead>\n  <tbody>\n    <tr>\n      <th>0</th>\n      <td>AAAAX</td>\n      <td>DWS RREEF Real Assets Fund - Class A</td>\n      <td>2,979,347,456.00</td>\n      <td>3.00</td>\n      <td>Large</td>\n      <td>0.01</td>\n      <td>0</td>\n    </tr>\n    <tr>\n      <th>1</th>\n      <td>AAAEX</td>\n      <td>Virtus AllianzGI Health Sciences Fund Class P</td>\n      <td>195,348,944.00</td>\n      <td>3.00</td>\n      <td>Large</td>\n      <td>0.01</td>\n      <td>0</td>\n    </tr>\n    <tr>\n      <th>2</th>\n      <td>AAAFX</td>\n      <td>American Century One Choice Blend+ 2015 Portfo...</td>\n      <td>25,946.00</td>\n      <td>0.00</td>\n      <td>Large</td>\n      <td>0.01</td>\n      <td>0</td>\n    </tr>\n    <tr>\n      <th>3</th>\n      <td>AAAGX</td>\n      <td>Thrivent Large Cap Growth Fund Class A</td>\n      <td>2,078,606,848.00</td>\n      <td>4.00</td>\n      <td>Large</td>\n      <td>0.01</td>\n      <td>1</td>\n    </tr>\n    <tr>\n      <th>4</th>\n      <td>AAAHX</td>\n      <td>American Century One Choice Blend+ 2015 Portfo...</td>\n      <td>25,946.00</td>\n      <td>0.00</td>\n      <td>Large</td>\n      <td>0.00</td>\n      <td>0</td>\n    </tr>\n  </tbody>\n</table>\n</div>"
     },
     "execution_count": 29,
     "metadata": {},
     "output_type": "execute_result"
    }
   ],
   "source": [
    "# Extracting features for Mutual Funds\n",
    "# Using MS Ratings higher than 3 to set a new column named 'buy' to 1 and 0 otherwise\n",
    "# First, let us sat NaN values to 0 to indicate that they are not rated\n",
    "df_mutual_fund['ms_rating'].fillna(value=0, inplace=True)\n",
    "\n",
    "# Add a new column to the Mutual Funds dataset named 'buy' and set it to 0 or 1 values\n",
    "df_mutual_fund['buy'] = (df_mutual_fund['ms_rating'] > 3).astype(int)\n",
    "df_mutual_fund.head()"
   ],
   "metadata": {
    "collapsed": false,
    "pycharm": {
     "name": "#%%\n"
    }
   }
  },
  {
   "cell_type": "code",
   "execution_count": 30,
   "outputs": [
    {
     "data": {
      "text/plain": "  symbol                                               name  \\\n0  AAAAX               DWS RREEF Real Assets Fund - Class A   \n1  AAAEX      Virtus AllianzGI Health Sciences Fund Class P   \n2  AAAFX  American Century One Choice Blend+ 2015 Portfo...   \n3  AAAGX             Thrivent Large Cap Growth Fund Class A   \n4  AAAHX  American Century One Choice Blend+ 2015 Portfo...   \n\n                   tna            ms_rating   size            exp_ratio  buy  \\\n0     2,979,347,456.00                 3.00  Large                 0.01    0   \n1       195,348,944.00                 3.00  Large                 0.01    0   \n2            25,946.00                 0.00  Large                 0.01    0   \n3     2,078,606,848.00                 4.00  Large                 0.01    1   \n4            25,946.00                 0.00  Large                 0.00    0   \n\n   small  medium  large  \n0      0       0      1  \n1      0       0      1  \n2      0       0      1  \n3      0       0      1  \n4      0       0      1  ",
      "text/html": "<div>\n<style scoped>\n    .dataframe tbody tr th:only-of-type {\n        vertical-align: middle;\n    }\n\n    .dataframe tbody tr th {\n        vertical-align: top;\n    }\n\n    .dataframe thead th {\n        text-align: right;\n    }\n</style>\n<table border=\"1\" class=\"dataframe\">\n  <thead>\n    <tr style=\"text-align: right;\">\n      <th></th>\n      <th>symbol</th>\n      <th>name</th>\n      <th>tna</th>\n      <th>ms_rating</th>\n      <th>size</th>\n      <th>exp_ratio</th>\n      <th>buy</th>\n      <th>small</th>\n      <th>medium</th>\n      <th>large</th>\n    </tr>\n  </thead>\n  <tbody>\n    <tr>\n      <th>0</th>\n      <td>AAAAX</td>\n      <td>DWS RREEF Real Assets Fund - Class A</td>\n      <td>2,979,347,456.00</td>\n      <td>3.00</td>\n      <td>Large</td>\n      <td>0.01</td>\n      <td>0</td>\n      <td>0</td>\n      <td>0</td>\n      <td>1</td>\n    </tr>\n    <tr>\n      <th>1</th>\n      <td>AAAEX</td>\n      <td>Virtus AllianzGI Health Sciences Fund Class P</td>\n      <td>195,348,944.00</td>\n      <td>3.00</td>\n      <td>Large</td>\n      <td>0.01</td>\n      <td>0</td>\n      <td>0</td>\n      <td>0</td>\n      <td>1</td>\n    </tr>\n    <tr>\n      <th>2</th>\n      <td>AAAFX</td>\n      <td>American Century One Choice Blend+ 2015 Portfo...</td>\n      <td>25,946.00</td>\n      <td>0.00</td>\n      <td>Large</td>\n      <td>0.01</td>\n      <td>0</td>\n      <td>0</td>\n      <td>0</td>\n      <td>1</td>\n    </tr>\n    <tr>\n      <th>3</th>\n      <td>AAAGX</td>\n      <td>Thrivent Large Cap Growth Fund Class A</td>\n      <td>2,078,606,848.00</td>\n      <td>4.00</td>\n      <td>Large</td>\n      <td>0.01</td>\n      <td>1</td>\n      <td>0</td>\n      <td>0</td>\n      <td>1</td>\n    </tr>\n    <tr>\n      <th>4</th>\n      <td>AAAHX</td>\n      <td>American Century One Choice Blend+ 2015 Portfo...</td>\n      <td>25,946.00</td>\n      <td>0.00</td>\n      <td>Large</td>\n      <td>0.00</td>\n      <td>0</td>\n      <td>0</td>\n      <td>0</td>\n      <td>1</td>\n    </tr>\n  </tbody>\n</table>\n</div>"
     },
     "execution_count": 30,
     "metadata": {},
     "output_type": "execute_result"
    }
   ],
   "source": [
    "# Using the values in Size column to set new columns named Small, Medium and Large to 0 and 1 values\n",
    "df_mutual_fund['small'] = (df_mutual_fund['size'] == 'Small').astype(int)\n",
    "df_mutual_fund['medium'] = (df_mutual_fund['size'] == 'Medium').astype(int)\n",
    "df_mutual_fund['large'] = (df_mutual_fund['size'] == 'Large').astype(int)\n",
    "df_mutual_fund.head()"
   ],
   "metadata": {
    "collapsed": false,
    "pycharm": {
     "name": "#%%\n"
    }
   }
  },
  {
   "cell_type": "code",
   "execution_count": 31,
   "outputs": [],
   "source": [
    "# Using Expense Ratio values to add new columns named \"er_low', 'er_medium' and 'er_high'\n",
    "# First let us set all NaN values to zero which is a reasonable replacement; if an expense ration is not available, we can consider it to be 0\n",
    "df_mutual_fund['exp_ratio'].fillna(value=0, inplace=True)\n",
    "\n",
    "# Add the new columns\n",
    "df_mutual_fund['er_low'] = (df_mutual_fund['exp_ratio'] * 100 < 0.5).astype(int)\n",
    "df_mutual_fund['er_medium'] = (np.logical_and(df_mutual_fund['exp_ratio'] * 100 >= 0.5, df_mutual_fund['exp_ratio'] * 100 <= 1.0)).astype(int)\n",
    "df_mutual_fund['er_high'] = (df_mutual_fund['exp_ratio'] * 100 > 1.0).astype(int)"
   ],
   "metadata": {
    "collapsed": false,
    "pycharm": {
     "name": "#%%\n"
    }
   }
  },
  {
   "cell_type": "code",
   "execution_count": 32,
   "outputs": [],
   "source": [
    "# Extracting features for Customer\n",
    "# Use the 'opportunity' data and set a new column with 1 if the total sales of a customer is less than 75% of the opportunity value for that customer\n",
    "# Otherwise, set it to 0\n",
    "\n",
    "df_cust_tmp = pd.merge(df_txn.groupby('customer_id').sum()['sales'].reset_index(), df_customer, on='customer_id')[['customer_id', 'sales', 'opportunity']]\n",
    "df_customer['sale_opportunity'] = (df_cust_tmp['sales'] * .75 < df_cust_tmp['opportunity']).astype(int)"
   ],
   "metadata": {
    "collapsed": false,
    "pycharm": {
     "name": "#%%\n"
    }
   }
  },
  {
   "cell_type": "code",
   "execution_count": 33,
   "outputs": [
    {
     "data": {
      "text/plain": "      txn_id  txn_date  customer_id symbol                sales  \\\n0  422909780  5/2/2016        59532  AFNIX            13,687.83   \n1  422909781  5/2/2016        60660  GABSX                 0.00   \n2  422909782  5/2/2016        52939  VTISX             4,153.98   \n3  422909783  5/2/2016        52990  IMLAX            27,452.30   \n4  422909784  5/2/2016        60343  MAPCX             6,433.14   \n5  422909785  5/2/2016        66341  JACAX             1,124.98   \n6  422909786  5/2/2016        65708  MEAIX                 0.00   \n7  422909787  5/2/2016        52204  FPACX                 0.00   \n8  422909788  5/2/2016        54242  EGRCX            11,588.50   \n9  422909789  5/2/2016        57716  AGGCX             9,011.30   \n\n           redemptions     fund_recommended  \n0                 0.00                 1.00  \n1            -4,286.23                 1.00  \n2                 0.00                 1.00  \n3                 0.00                 1.00  \n4                 0.00                 1.00  \n5                 0.00                 1.00  \n6            -6,891.62                 0.00  \n7            -4,252.69                 0.00  \n8                 0.00                 0.00  \n9                 0.00                 0.00  ",
      "text/html": "<div>\n<style scoped>\n    .dataframe tbody tr th:only-of-type {\n        vertical-align: middle;\n    }\n\n    .dataframe tbody tr th {\n        vertical-align: top;\n    }\n\n    .dataframe thead th {\n        text-align: right;\n    }\n</style>\n<table border=\"1\" class=\"dataframe\">\n  <thead>\n    <tr style=\"text-align: right;\">\n      <th></th>\n      <th>txn_id</th>\n      <th>txn_date</th>\n      <th>customer_id</th>\n      <th>symbol</th>\n      <th>sales</th>\n      <th>redemptions</th>\n      <th>fund_recommended</th>\n    </tr>\n  </thead>\n  <tbody>\n    <tr>\n      <th>0</th>\n      <td>422909780</td>\n      <td>5/2/2016</td>\n      <td>59532</td>\n      <td>AFNIX</td>\n      <td>13,687.83</td>\n      <td>0.00</td>\n      <td>1.00</td>\n    </tr>\n    <tr>\n      <th>1</th>\n      <td>422909781</td>\n      <td>5/2/2016</td>\n      <td>60660</td>\n      <td>GABSX</td>\n      <td>0.00</td>\n      <td>-4,286.23</td>\n      <td>1.00</td>\n    </tr>\n    <tr>\n      <th>2</th>\n      <td>422909782</td>\n      <td>5/2/2016</td>\n      <td>52939</td>\n      <td>VTISX</td>\n      <td>4,153.98</td>\n      <td>0.00</td>\n      <td>1.00</td>\n    </tr>\n    <tr>\n      <th>3</th>\n      <td>422909783</td>\n      <td>5/2/2016</td>\n      <td>52990</td>\n      <td>IMLAX</td>\n      <td>27,452.30</td>\n      <td>0.00</td>\n      <td>1.00</td>\n    </tr>\n    <tr>\n      <th>4</th>\n      <td>422909784</td>\n      <td>5/2/2016</td>\n      <td>60343</td>\n      <td>MAPCX</td>\n      <td>6,433.14</td>\n      <td>0.00</td>\n      <td>1.00</td>\n    </tr>\n    <tr>\n      <th>5</th>\n      <td>422909785</td>\n      <td>5/2/2016</td>\n      <td>66341</td>\n      <td>JACAX</td>\n      <td>1,124.98</td>\n      <td>0.00</td>\n      <td>1.00</td>\n    </tr>\n    <tr>\n      <th>6</th>\n      <td>422909786</td>\n      <td>5/2/2016</td>\n      <td>65708</td>\n      <td>MEAIX</td>\n      <td>0.00</td>\n      <td>-6,891.62</td>\n      <td>0.00</td>\n    </tr>\n    <tr>\n      <th>7</th>\n      <td>422909787</td>\n      <td>5/2/2016</td>\n      <td>52204</td>\n      <td>FPACX</td>\n      <td>0.00</td>\n      <td>-4,252.69</td>\n      <td>0.00</td>\n    </tr>\n    <tr>\n      <th>8</th>\n      <td>422909788</td>\n      <td>5/2/2016</td>\n      <td>54242</td>\n      <td>EGRCX</td>\n      <td>11,588.50</td>\n      <td>0.00</td>\n      <td>0.00</td>\n    </tr>\n    <tr>\n      <th>9</th>\n      <td>422909789</td>\n      <td>5/2/2016</td>\n      <td>57716</td>\n      <td>AGGCX</td>\n      <td>9,011.30</td>\n      <td>0.00</td>\n      <td>0.00</td>\n    </tr>\n  </tbody>\n</table>\n</div>"
     },
     "execution_count": 33,
     "metadata": {},
     "output_type": "execute_result"
    }
   ],
   "source": [
    "# Extracting features for Transactions\n",
    "# Use the net sales value (Sales - Redemptions) grouped by fund to set a new column titled 'fund_recommended' to 1 if net sales > 250,000; 0 otherwise\n",
    "df_txn_tmp = (df_txn.groupby('symbol').sum()['sales'] + df_txn.groupby('symbol').sum()['redemptions']).to_frame().reset_index()\n",
    "df_txn_tmp.columns = ['symbol', 'net_sales']\n",
    "df_txn['fund_recommended'] = (df_txn_tmp['net_sales'] > 250000).astype(int)\n",
    "df_txn.head(10)"
   ],
   "metadata": {
    "collapsed": false,
    "pycharm": {
     "name": "#%%\n"
    }
   }
  },
  {
   "cell_type": "code",
   "execution_count": 34,
   "outputs": [],
   "source": [
    "# Create a Customer-Mutual Fund interaction dataset from df_txn\n",
    "df_cust_fund_interactions = df_txn[['customer_id', 'symbol', 'fund_recommended']].drop_duplicates()"
   ],
   "metadata": {
    "collapsed": false,
    "pycharm": {
     "name": "#%%\n"
    }
   }
  },
  {
   "cell_type": "code",
   "execution_count": 35,
   "outputs": [
    {
     "data": {
      "text/plain": "   customer_id symbol     fund_recommended\n0        59532  AFNIX                 1.00\n1        60660  GABSX                 1.00\n2        52939  VTISX                 1.00\n3        52990  IMLAX                 1.00\n4        60343  MAPCX                 1.00",
      "text/html": "<div>\n<style scoped>\n    .dataframe tbody tr th:only-of-type {\n        vertical-align: middle;\n    }\n\n    .dataframe tbody tr th {\n        vertical-align: top;\n    }\n\n    .dataframe thead th {\n        text-align: right;\n    }\n</style>\n<table border=\"1\" class=\"dataframe\">\n  <thead>\n    <tr style=\"text-align: right;\">\n      <th></th>\n      <th>customer_id</th>\n      <th>symbol</th>\n      <th>fund_recommended</th>\n    </tr>\n  </thead>\n  <tbody>\n    <tr>\n      <th>0</th>\n      <td>59532</td>\n      <td>AFNIX</td>\n      <td>1.00</td>\n    </tr>\n    <tr>\n      <th>1</th>\n      <td>60660</td>\n      <td>GABSX</td>\n      <td>1.00</td>\n    </tr>\n    <tr>\n      <th>2</th>\n      <td>52939</td>\n      <td>VTISX</td>\n      <td>1.00</td>\n    </tr>\n    <tr>\n      <th>3</th>\n      <td>52990</td>\n      <td>IMLAX</td>\n      <td>1.00</td>\n    </tr>\n    <tr>\n      <th>4</th>\n      <td>60343</td>\n      <td>MAPCX</td>\n      <td>1.00</td>\n    </tr>\n  </tbody>\n</table>\n</div>"
     },
     "execution_count": 35,
     "metadata": {},
     "output_type": "execute_result"
    }
   ],
   "source": [
    "df_cust_fund_interactions.head()"
   ],
   "metadata": {
    "collapsed": false,
    "pycharm": {
     "name": "#%%\n"
    }
   }
  },
  {
   "cell_type": "markdown",
   "source": [
    "##### 3.3 Create the necessary matrices with the above data"
   ],
   "metadata": {
    "collapsed": false
   }
  },
  {
   "cell_type": "code",
   "execution_count": 36,
   "outputs": [],
   "source": [
    "def create_feature_matrix(df, index, column, value, fill_na_val=0):\n",
    "    \"\"\"\n",
    "    A function that accepts a source dataframe and creates a 1/0 value feature matrix out of it based on inputs\n",
    "    It fills NaN values with the fill_na_val parameter passed in\n",
    "    :param df: (pandas.core.frame.DataFrame) source dataframe that contains the data\n",
    "    :param index: (str) the column that should be used as row header in the matrix\n",
    "    :param column: (str) the column that should be pivoted as multiple columns\n",
    "    :param value: (str) the column that contains the values for the pivoted columns\n",
    "    :param fill_na_val: (int) defaults to 0\n",
    "    :return: (pandas.core.frame.DataFrame) the dataframe containing the matrix\n",
    "    \"\"\"\n",
    "\n",
    "    try:\n",
    "        matrix = df.pivot(index=index, columns=column, values=value).fillna(value=fill_na_val)\n",
    "    except ValueError:\n",
    "        # In case the pivot method throws an exception, try the pivot_table method\n",
    "        matrix = df.pivot_table(index=index, columns=column, values=value, aggfunc='sum').fillna(value=fill_na_val)\n",
    "\n",
    "    return matrix"
   ],
   "metadata": {
    "collapsed": false,
    "pycharm": {
     "name": "#%%\n"
    }
   }
  },
  {
   "cell_type": "markdown",
   "source": [
    "###### 3.3.1 Create a matrix to hold Customer-Fund Buy values"
   ],
   "metadata": {
    "collapsed": false
   }
  },
  {
   "cell_type": "code",
   "execution_count": 37,
   "outputs": [],
   "source": [
    "input_df = pd.merge(df_cust_fund_interactions, df_mutual_fund, on='symbol')[['customer_id', 'symbol', 'buy']].drop_duplicates()\n",
    "df_cust_fund_buy_matrix = create_feature_matrix(input_df, 'customer_id', 'symbol', 'buy')"
   ],
   "metadata": {
    "collapsed": false,
    "pycharm": {
     "name": "#%%\n"
    }
   }
  },
  {
   "cell_type": "code",
   "execution_count": 38,
   "outputs": [
    {
     "data": {
      "text/plain": "symbol                     AAAAX                AAAHX                AAAIX  \\\ncustomer_id                                                                  \n50037                       0.00                 0.00                 0.00   \n50038                       0.00                 0.00                 0.00   \n50039                       0.00                 0.00                 0.00   \n50040                       0.00                 0.00                 0.00   \n50041                       0.00                 0.00                 0.00   \n\nsymbol                     AAAJX                AAAKX                AAAMX  \\\ncustomer_id                                                                  \n50037                       0.00                 0.00                 0.00   \n50038                       0.00                 0.00                 0.00   \n50039                       0.00                 0.00                 0.00   \n50040                       0.00                 0.00                 0.00   \n50041                       0.00                 0.00                 0.00   \n\nsymbol                     AAASX                AAATX                AABAX  \\\ncustomer_id                                                                  \n50037                       0.00                 0.00                 0.00   \n50038                       0.00                 0.00                 0.00   \n50039                       0.00                 0.00                 0.00   \n50040                       0.00                 0.00                 0.00   \n50041                       0.00                 0.00                 0.00   \n\nsymbol                     AABEX  ...                YASSX  \\\ncustomer_id                       ...                        \n50037                       0.00  ...                 0.00   \n50038                       0.00  ...                 0.00   \n50039                       0.00  ...                 0.00   \n50040                       0.00  ...                 0.00   \n50041                       0.00  ...                 0.00   \n\nsymbol                     YFSIX                YOVLX                ZDIVX  \\\ncustomer_id                                                                  \n50037                       0.00                 0.00                 0.00   \n50038                       0.00                 0.00                 0.00   \n50039                       0.00                 0.00                 0.00   \n50040                       0.00                 0.00                 0.00   \n50041                       0.00                 0.00                 0.00   \n\nsymbol                     ZEOIX                ZFLIX                ZSCCX  \\\ncustomer_id                                                                  \n50037                       0.00                 0.00                 0.00   \n50038                       0.00                 0.00                 0.00   \n50039                       0.00                 0.00                 0.00   \n50040                       0.00                 0.00                 0.00   \n50041                       0.00                 0.00                 0.00   \n\nsymbol                     ZSCIX                ZVGIX                ZVNIX  \ncustomer_id                                                                 \n50037                       0.00                 0.00                 0.00  \n50038                       0.00                 0.00                 0.00  \n50039                       0.00                 0.00                 0.00  \n50040                       0.00                 0.00                 0.00  \n50041                       0.00                 0.00                 0.00  \n\n[5 rows x 11905 columns]",
      "text/html": "<div>\n<style scoped>\n    .dataframe tbody tr th:only-of-type {\n        vertical-align: middle;\n    }\n\n    .dataframe tbody tr th {\n        vertical-align: top;\n    }\n\n    .dataframe thead th {\n        text-align: right;\n    }\n</style>\n<table border=\"1\" class=\"dataframe\">\n  <thead>\n    <tr style=\"text-align: right;\">\n      <th>symbol</th>\n      <th>AAAAX</th>\n      <th>AAAHX</th>\n      <th>AAAIX</th>\n      <th>AAAJX</th>\n      <th>AAAKX</th>\n      <th>AAAMX</th>\n      <th>AAASX</th>\n      <th>AAATX</th>\n      <th>AABAX</th>\n      <th>AABEX</th>\n      <th>...</th>\n      <th>YASSX</th>\n      <th>YFSIX</th>\n      <th>YOVLX</th>\n      <th>ZDIVX</th>\n      <th>ZEOIX</th>\n      <th>ZFLIX</th>\n      <th>ZSCCX</th>\n      <th>ZSCIX</th>\n      <th>ZVGIX</th>\n      <th>ZVNIX</th>\n    </tr>\n    <tr>\n      <th>customer_id</th>\n      <th></th>\n      <th></th>\n      <th></th>\n      <th></th>\n      <th></th>\n      <th></th>\n      <th></th>\n      <th></th>\n      <th></th>\n      <th></th>\n      <th></th>\n      <th></th>\n      <th></th>\n      <th></th>\n      <th></th>\n      <th></th>\n      <th></th>\n      <th></th>\n      <th></th>\n      <th></th>\n      <th></th>\n    </tr>\n  </thead>\n  <tbody>\n    <tr>\n      <th>50037</th>\n      <td>0.00</td>\n      <td>0.00</td>\n      <td>0.00</td>\n      <td>0.00</td>\n      <td>0.00</td>\n      <td>0.00</td>\n      <td>0.00</td>\n      <td>0.00</td>\n      <td>0.00</td>\n      <td>0.00</td>\n      <td>...</td>\n      <td>0.00</td>\n      <td>0.00</td>\n      <td>0.00</td>\n      <td>0.00</td>\n      <td>0.00</td>\n      <td>0.00</td>\n      <td>0.00</td>\n      <td>0.00</td>\n      <td>0.00</td>\n      <td>0.00</td>\n    </tr>\n    <tr>\n      <th>50038</th>\n      <td>0.00</td>\n      <td>0.00</td>\n      <td>0.00</td>\n      <td>0.00</td>\n      <td>0.00</td>\n      <td>0.00</td>\n      <td>0.00</td>\n      <td>0.00</td>\n      <td>0.00</td>\n      <td>0.00</td>\n      <td>...</td>\n      <td>0.00</td>\n      <td>0.00</td>\n      <td>0.00</td>\n      <td>0.00</td>\n      <td>0.00</td>\n      <td>0.00</td>\n      <td>0.00</td>\n      <td>0.00</td>\n      <td>0.00</td>\n      <td>0.00</td>\n    </tr>\n    <tr>\n      <th>50039</th>\n      <td>0.00</td>\n      <td>0.00</td>\n      <td>0.00</td>\n      <td>0.00</td>\n      <td>0.00</td>\n      <td>0.00</td>\n      <td>0.00</td>\n      <td>0.00</td>\n      <td>0.00</td>\n      <td>0.00</td>\n      <td>...</td>\n      <td>0.00</td>\n      <td>0.00</td>\n      <td>0.00</td>\n      <td>0.00</td>\n      <td>0.00</td>\n      <td>0.00</td>\n      <td>0.00</td>\n      <td>0.00</td>\n      <td>0.00</td>\n      <td>0.00</td>\n    </tr>\n    <tr>\n      <th>50040</th>\n      <td>0.00</td>\n      <td>0.00</td>\n      <td>0.00</td>\n      <td>0.00</td>\n      <td>0.00</td>\n      <td>0.00</td>\n      <td>0.00</td>\n      <td>0.00</td>\n      <td>0.00</td>\n      <td>0.00</td>\n      <td>...</td>\n      <td>0.00</td>\n      <td>0.00</td>\n      <td>0.00</td>\n      <td>0.00</td>\n      <td>0.00</td>\n      <td>0.00</td>\n      <td>0.00</td>\n      <td>0.00</td>\n      <td>0.00</td>\n      <td>0.00</td>\n    </tr>\n    <tr>\n      <th>50041</th>\n      <td>0.00</td>\n      <td>0.00</td>\n      <td>0.00</td>\n      <td>0.00</td>\n      <td>0.00</td>\n      <td>0.00</td>\n      <td>0.00</td>\n      <td>0.00</td>\n      <td>0.00</td>\n      <td>0.00</td>\n      <td>...</td>\n      <td>0.00</td>\n      <td>0.00</td>\n      <td>0.00</td>\n      <td>0.00</td>\n      <td>0.00</td>\n      <td>0.00</td>\n      <td>0.00</td>\n      <td>0.00</td>\n      <td>0.00</td>\n      <td>0.00</td>\n    </tr>\n  </tbody>\n</table>\n<p>5 rows × 11905 columns</p>\n</div>"
     },
     "execution_count": 38,
     "metadata": {},
     "output_type": "execute_result"
    }
   ],
   "source": [
    "df_cust_fund_buy_matrix.head()"
   ],
   "metadata": {
    "collapsed": false,
    "pycharm": {
     "name": "#%%\n"
    }
   }
  },
  {
   "cell_type": "markdown",
   "source": [
    "###### 3.3.2 Crate matrices to hold Customer-Fund Size values - one each for small, medium and large"
   ],
   "metadata": {
    "collapsed": false
   }
  },
  {
   "cell_type": "code",
   "execution_count": 39,
   "outputs": [],
   "source": [
    "df_cust_fund_size = pd.merge(df_cust_fund_interactions, df_mutual_fund, on='symbol')[['customer_id', 'symbol', 'small', 'medium', 'large']].drop_duplicates()"
   ],
   "metadata": {
    "collapsed": false,
    "pycharm": {
     "name": "#%%\n"
    }
   }
  },
  {
   "cell_type": "code",
   "execution_count": 40,
   "outputs": [
    {
     "data": {
      "text/plain": "   customer_id symbol  small  medium  large\n0        59532  AFNIX      0       0      1\n1        54056  AFNIX      0       0      1\n2        56891  AFNIX      0       0      1\n3        50911  AFNIX      0       0      1\n4        63929  AFNIX      0       0      1",
      "text/html": "<div>\n<style scoped>\n    .dataframe tbody tr th:only-of-type {\n        vertical-align: middle;\n    }\n\n    .dataframe tbody tr th {\n        vertical-align: top;\n    }\n\n    .dataframe thead th {\n        text-align: right;\n    }\n</style>\n<table border=\"1\" class=\"dataframe\">\n  <thead>\n    <tr style=\"text-align: right;\">\n      <th></th>\n      <th>customer_id</th>\n      <th>symbol</th>\n      <th>small</th>\n      <th>medium</th>\n      <th>large</th>\n    </tr>\n  </thead>\n  <tbody>\n    <tr>\n      <th>0</th>\n      <td>59532</td>\n      <td>AFNIX</td>\n      <td>0</td>\n      <td>0</td>\n      <td>1</td>\n    </tr>\n    <tr>\n      <th>1</th>\n      <td>54056</td>\n      <td>AFNIX</td>\n      <td>0</td>\n      <td>0</td>\n      <td>1</td>\n    </tr>\n    <tr>\n      <th>2</th>\n      <td>56891</td>\n      <td>AFNIX</td>\n      <td>0</td>\n      <td>0</td>\n      <td>1</td>\n    </tr>\n    <tr>\n      <th>3</th>\n      <td>50911</td>\n      <td>AFNIX</td>\n      <td>0</td>\n      <td>0</td>\n      <td>1</td>\n    </tr>\n    <tr>\n      <th>4</th>\n      <td>63929</td>\n      <td>AFNIX</td>\n      <td>0</td>\n      <td>0</td>\n      <td>1</td>\n    </tr>\n  </tbody>\n</table>\n</div>"
     },
     "execution_count": 40,
     "metadata": {},
     "output_type": "execute_result"
    }
   ],
   "source": [
    "df_cust_fund_size.head()"
   ],
   "metadata": {
    "collapsed": false,
    "pycharm": {
     "name": "#%%\n"
    }
   }
  },
  {
   "cell_type": "code",
   "execution_count": 44,
   "outputs": [],
   "source": [
    "df_cust_fund_small_matrix = create_feature_matrix(df_cust_fund_size, 'customer_id', 'symbol', 'small')\n",
    "df_cust_fund_medium_matrix = create_feature_matrix(df_cust_fund_size, 'customer_id', 'symbol', 'medium')\n",
    "df_cust_fund_large_matrix = create_feature_matrix(df_cust_fund_size, 'customer_id', 'symbol', 'large')"
   ],
   "metadata": {
    "collapsed": false,
    "pycharm": {
     "name": "#%%\n"
    }
   }
  },
  {
   "cell_type": "code",
   "execution_count": 45,
   "outputs": [
    {
     "name": "stdout",
     "output_type": "stream",
     "text": [
      "symbol                     AAAAX                AAAHX                AAAIX  \\\n",
      "customer_id                                                                  \n",
      "50037                       0.00                 0.00                 0.00   \n",
      "50038                       0.00                 0.00                 0.00   \n",
      "50039                       0.00                 0.00                 0.00   \n",
      "50040                       0.00                 0.00                 0.00   \n",
      "50041                       0.00                 0.00                 0.00   \n",
      "\n",
      "symbol                     AAAJX                AAAKX                AAAMX  \\\n",
      "customer_id                                                                  \n",
      "50037                       0.00                 0.00                 0.00   \n",
      "50038                       0.00                 0.00                 0.00   \n",
      "50039                       0.00                 0.00                 0.00   \n",
      "50040                       0.00                 0.00                 0.00   \n",
      "50041                       0.00                 0.00                 0.00   \n",
      "\n",
      "symbol                     AAASX                AAATX                AABAX  \\\n",
      "customer_id                                                                  \n",
      "50037                       0.00                 0.00                 0.00   \n",
      "50038                       0.00                 0.00                 0.00   \n",
      "50039                       0.00                 0.00                 0.00   \n",
      "50040                       0.00                 0.00                 0.00   \n",
      "50041                       0.00                 0.00                 0.00   \n",
      "\n",
      "symbol                     AABEX  ...                YASSX  \\\n",
      "customer_id                       ...                        \n",
      "50037                       0.00  ...                 0.00   \n",
      "50038                       0.00  ...                 0.00   \n",
      "50039                       0.00  ...                 0.00   \n",
      "50040                       0.00  ...                 0.00   \n",
      "50041                       0.00  ...                 0.00   \n",
      "\n",
      "symbol                     YFSIX                YOVLX                ZDIVX  \\\n",
      "customer_id                                                                  \n",
      "50037                       0.00                 0.00                 0.00   \n",
      "50038                       0.00                 0.00                 0.00   \n",
      "50039                       0.00                 0.00                 0.00   \n",
      "50040                       0.00                 0.00                 0.00   \n",
      "50041                       0.00                 0.00                 0.00   \n",
      "\n",
      "symbol                     ZEOIX                ZFLIX                ZSCCX  \\\n",
      "customer_id                                                                  \n",
      "50037                       0.00                 0.00                 0.00   \n",
      "50038                       0.00                 0.00                 0.00   \n",
      "50039                       0.00                 0.00                 0.00   \n",
      "50040                       0.00                 0.00                 0.00   \n",
      "50041                       0.00                 0.00                 0.00   \n",
      "\n",
      "symbol                     ZSCIX                ZVGIX                ZVNIX  \n",
      "customer_id                                                                 \n",
      "50037                       0.00                 0.00                 0.00  \n",
      "50038                       0.00                 0.00                 0.00  \n",
      "50039                       0.00                 0.00                 0.00  \n",
      "50040                       0.00                 0.00                 0.00  \n",
      "50041                       0.00                 0.00                 0.00  \n",
      "\n",
      "[5 rows x 11905 columns]\n",
      "symbol                     AAAAX                AAAHX                AAAIX  \\\n",
      "customer_id                                                                  \n",
      "50037                       0.00                 0.00                 0.00   \n",
      "50038                       0.00                 0.00                 0.00   \n",
      "50039                       0.00                 0.00                 0.00   \n",
      "50040                       0.00                 0.00                 0.00   \n",
      "50041                       0.00                 0.00                 0.00   \n",
      "\n",
      "symbol                     AAAJX                AAAKX                AAAMX  \\\n",
      "customer_id                                                                  \n",
      "50037                       0.00                 0.00                 0.00   \n",
      "50038                       0.00                 0.00                 0.00   \n",
      "50039                       0.00                 0.00                 0.00   \n",
      "50040                       0.00                 0.00                 0.00   \n",
      "50041                       0.00                 0.00                 0.00   \n",
      "\n",
      "symbol                     AAASX                AAATX                AABAX  \\\n",
      "customer_id                                                                  \n",
      "50037                       0.00                 0.00                 0.00   \n",
      "50038                       0.00                 0.00                 0.00   \n",
      "50039                       0.00                 0.00                 0.00   \n",
      "50040                       0.00                 0.00                 0.00   \n",
      "50041                       0.00                 0.00                 0.00   \n",
      "\n",
      "symbol                     AABEX  ...                YASSX  \\\n",
      "customer_id                       ...                        \n",
      "50037                       0.00  ...                 0.00   \n",
      "50038                       0.00  ...                 0.00   \n",
      "50039                       0.00  ...                 0.00   \n",
      "50040                       0.00  ...                 0.00   \n",
      "50041                       0.00  ...                 0.00   \n",
      "\n",
      "symbol                     YFSIX                YOVLX                ZDIVX  \\\n",
      "customer_id                                                                  \n",
      "50037                       0.00                 0.00                 0.00   \n",
      "50038                       0.00                 0.00                 0.00   \n",
      "50039                       0.00                 0.00                 0.00   \n",
      "50040                       0.00                 0.00                 0.00   \n",
      "50041                       0.00                 0.00                 0.00   \n",
      "\n",
      "symbol                     ZEOIX                ZFLIX                ZSCCX  \\\n",
      "customer_id                                                                  \n",
      "50037                       0.00                 0.00                 0.00   \n",
      "50038                       0.00                 0.00                 0.00   \n",
      "50039                       0.00                 0.00                 0.00   \n",
      "50040                       0.00                 0.00                 0.00   \n",
      "50041                       0.00                 0.00                 0.00   \n",
      "\n",
      "symbol                     ZSCIX                ZVGIX                ZVNIX  \n",
      "customer_id                                                                 \n",
      "50037                       0.00                 0.00                 0.00  \n",
      "50038                       0.00                 0.00                 0.00  \n",
      "50039                       0.00                 0.00                 0.00  \n",
      "50040                       0.00                 0.00                 0.00  \n",
      "50041                       0.00                 0.00                 0.00  \n",
      "\n",
      "[5 rows x 11905 columns]\n",
      "symbol                     AAAAX                AAAHX                AAAIX  \\\n",
      "customer_id                                                                  \n",
      "50037                       0.00                 0.00                 0.00   \n",
      "50038                       0.00                 0.00                 0.00   \n",
      "50039                       0.00                 0.00                 0.00   \n",
      "50040                       0.00                 0.00                 0.00   \n",
      "50041                       0.00                 0.00                 0.00   \n",
      "\n",
      "symbol                     AAAJX                AAAKX                AAAMX  \\\n",
      "customer_id                                                                  \n",
      "50037                       0.00                 0.00                 0.00   \n",
      "50038                       0.00                 0.00                 0.00   \n",
      "50039                       0.00                 0.00                 0.00   \n",
      "50040                       0.00                 0.00                 0.00   \n",
      "50041                       0.00                 0.00                 0.00   \n",
      "\n",
      "symbol                     AAASX                AAATX                AABAX  \\\n",
      "customer_id                                                                  \n",
      "50037                       0.00                 0.00                 0.00   \n",
      "50038                       0.00                 0.00                 0.00   \n",
      "50039                       0.00                 0.00                 0.00   \n",
      "50040                       0.00                 0.00                 0.00   \n",
      "50041                       0.00                 0.00                 0.00   \n",
      "\n",
      "symbol                     AABEX  ...                YASSX  \\\n",
      "customer_id                       ...                        \n",
      "50037                       0.00  ...                 0.00   \n",
      "50038                       0.00  ...                 0.00   \n",
      "50039                       0.00  ...                 0.00   \n",
      "50040                       0.00  ...                 0.00   \n",
      "50041                       0.00  ...                 0.00   \n",
      "\n",
      "symbol                     YFSIX                YOVLX                ZDIVX  \\\n",
      "customer_id                                                                  \n",
      "50037                       0.00                 0.00                 0.00   \n",
      "50038                       0.00                 0.00                 0.00   \n",
      "50039                       0.00                 0.00                 0.00   \n",
      "50040                       0.00                 0.00                 0.00   \n",
      "50041                       0.00                 0.00                 0.00   \n",
      "\n",
      "symbol                     ZEOIX                ZFLIX                ZSCCX  \\\n",
      "customer_id                                                                  \n",
      "50037                       0.00                 0.00                 0.00   \n",
      "50038                       0.00                 0.00                 0.00   \n",
      "50039                       0.00                 0.00                 0.00   \n",
      "50040                       0.00                 0.00                 0.00   \n",
      "50041                       0.00                 0.00                 0.00   \n",
      "\n",
      "symbol                     ZSCIX                ZVGIX                ZVNIX  \n",
      "customer_id                                                                 \n",
      "50037                       0.00                 0.00                 0.00  \n",
      "50038                       0.00                 0.00                 0.00  \n",
      "50039                       0.00                 0.00                 0.00  \n",
      "50040                       0.00                 0.00                 0.00  \n",
      "50041                       0.00                 0.00                 0.00  \n",
      "\n",
      "[5 rows x 11905 columns]\n"
     ]
    }
   ],
   "source": [
    "print(df_cust_fund_small_matrix.head())\n",
    "print(df_cust_fund_medium_matrix.head())\n",
    "print(df_cust_fund_large_matrix.head())"
   ],
   "metadata": {
    "collapsed": false,
    "pycharm": {
     "name": "#%%\n"
    }
   }
  },
  {
   "cell_type": "markdown",
   "source": [
    "###### 3.3.3 Crate a matrix to hold Customer-Fund Expense Ratio values - one each for low, medium and high"
   ],
   "metadata": {
    "collapsed": false
   }
  },
  {
   "cell_type": "code",
   "execution_count": 47,
   "outputs": [],
   "source": [
    "df_cust_fund_er = pd.merge(df_cust_fund_interactions, df_mutual_fund, on='symbol')[['customer_id', 'symbol', 'er_low', 'er_medium', 'er_high']].drop_duplicates()"
   ],
   "metadata": {
    "collapsed": false,
    "pycharm": {
     "name": "#%%\n"
    }
   }
  },
  {
   "cell_type": "code",
   "execution_count": 48,
   "outputs": [
    {
     "data": {
      "text/plain": "   customer_id symbol  er_low  er_medium  er_high\n0        59532  AFNIX       0          1        0\n1        54056  AFNIX       0          1        0\n2        56891  AFNIX       0          1        0\n3        50911  AFNIX       0          1        0\n4        63929  AFNIX       0          1        0",
      "text/html": "<div>\n<style scoped>\n    .dataframe tbody tr th:only-of-type {\n        vertical-align: middle;\n    }\n\n    .dataframe tbody tr th {\n        vertical-align: top;\n    }\n\n    .dataframe thead th {\n        text-align: right;\n    }\n</style>\n<table border=\"1\" class=\"dataframe\">\n  <thead>\n    <tr style=\"text-align: right;\">\n      <th></th>\n      <th>customer_id</th>\n      <th>symbol</th>\n      <th>er_low</th>\n      <th>er_medium</th>\n      <th>er_high</th>\n    </tr>\n  </thead>\n  <tbody>\n    <tr>\n      <th>0</th>\n      <td>59532</td>\n      <td>AFNIX</td>\n      <td>0</td>\n      <td>1</td>\n      <td>0</td>\n    </tr>\n    <tr>\n      <th>1</th>\n      <td>54056</td>\n      <td>AFNIX</td>\n      <td>0</td>\n      <td>1</td>\n      <td>0</td>\n    </tr>\n    <tr>\n      <th>2</th>\n      <td>56891</td>\n      <td>AFNIX</td>\n      <td>0</td>\n      <td>1</td>\n      <td>0</td>\n    </tr>\n    <tr>\n      <th>3</th>\n      <td>50911</td>\n      <td>AFNIX</td>\n      <td>0</td>\n      <td>1</td>\n      <td>0</td>\n    </tr>\n    <tr>\n      <th>4</th>\n      <td>63929</td>\n      <td>AFNIX</td>\n      <td>0</td>\n      <td>1</td>\n      <td>0</td>\n    </tr>\n  </tbody>\n</table>\n</div>"
     },
     "execution_count": 48,
     "metadata": {},
     "output_type": "execute_result"
    }
   ],
   "source": [
    "df_cust_fund_er.head()"
   ],
   "metadata": {
    "collapsed": false,
    "pycharm": {
     "name": "#%%\n"
    }
   }
  },
  {
   "cell_type": "code",
   "execution_count": 49,
   "outputs": [],
   "source": [
    "df_cust_fund_er_low_matrix = create_feature_matrix(df_cust_fund_er, 'customer_id', 'symbol', 'er_low')\n",
    "df_cust_fund_er_medium_matrix = create_feature_matrix(df_cust_fund_er, 'customer_id', 'symbol', 'er_medium')\n",
    "df_cust_fund_er_high_matrix = create_feature_matrix(df_cust_fund_er, 'customer_id', 'symbol', 'er_high')"
   ],
   "metadata": {
    "collapsed": false,
    "pycharm": {
     "name": "#%%\n"
    }
   }
  },
  {
   "cell_type": "code",
   "execution_count": 50,
   "outputs": [
    {
     "name": "stdout",
     "output_type": "stream",
     "text": [
      "symbol                     AAAAX                AAAHX                AAAIX  \\\n",
      "customer_id                                                                  \n",
      "50037                       0.00                 0.00                 0.00   \n",
      "50038                       0.00                 0.00                 0.00   \n",
      "50039                       0.00                 0.00                 0.00   \n",
      "50040                       0.00                 0.00                 0.00   \n",
      "50041                       0.00                 0.00                 0.00   \n",
      "\n",
      "symbol                     AAAJX                AAAKX                AAAMX  \\\n",
      "customer_id                                                                  \n",
      "50037                       0.00                 0.00                 0.00   \n",
      "50038                       0.00                 0.00                 0.00   \n",
      "50039                       0.00                 0.00                 0.00   \n",
      "50040                       0.00                 0.00                 0.00   \n",
      "50041                       0.00                 0.00                 0.00   \n",
      "\n",
      "symbol                     AAASX                AAATX                AABAX  \\\n",
      "customer_id                                                                  \n",
      "50037                       0.00                 0.00                 0.00   \n",
      "50038                       0.00                 0.00                 0.00   \n",
      "50039                       0.00                 0.00                 0.00   \n",
      "50040                       0.00                 0.00                 0.00   \n",
      "50041                       0.00                 0.00                 0.00   \n",
      "\n",
      "symbol                     AABEX  ...                YASSX  \\\n",
      "customer_id                       ...                        \n",
      "50037                       0.00  ...                 0.00   \n",
      "50038                       0.00  ...                 0.00   \n",
      "50039                       0.00  ...                 0.00   \n",
      "50040                       0.00  ...                 0.00   \n",
      "50041                       0.00  ...                 0.00   \n",
      "\n",
      "symbol                     YFSIX                YOVLX                ZDIVX  \\\n",
      "customer_id                                                                  \n",
      "50037                       0.00                 0.00                 0.00   \n",
      "50038                       0.00                 0.00                 0.00   \n",
      "50039                       0.00                 0.00                 0.00   \n",
      "50040                       0.00                 0.00                 0.00   \n",
      "50041                       0.00                 0.00                 0.00   \n",
      "\n",
      "symbol                     ZEOIX                ZFLIX                ZSCCX  \\\n",
      "customer_id                                                                  \n",
      "50037                       0.00                 0.00                 0.00   \n",
      "50038                       0.00                 0.00                 0.00   \n",
      "50039                       0.00                 0.00                 0.00   \n",
      "50040                       0.00                 0.00                 0.00   \n",
      "50041                       0.00                 0.00                 0.00   \n",
      "\n",
      "symbol                     ZSCIX                ZVGIX                ZVNIX  \n",
      "customer_id                                                                 \n",
      "50037                       0.00                 0.00                 0.00  \n",
      "50038                       0.00                 0.00                 0.00  \n",
      "50039                       0.00                 0.00                 0.00  \n",
      "50040                       0.00                 0.00                 0.00  \n",
      "50041                       0.00                 0.00                 0.00  \n",
      "\n",
      "[5 rows x 11905 columns]\n",
      "symbol                     AAAAX                AAAHX                AAAIX  \\\n",
      "customer_id                                                                  \n",
      "50037                       0.00                 0.00                 0.00   \n",
      "50038                       0.00                 0.00                 0.00   \n",
      "50039                       0.00                 0.00                 0.00   \n",
      "50040                       0.00                 0.00                 0.00   \n",
      "50041                       0.00                 0.00                 0.00   \n",
      "\n",
      "symbol                     AAAJX                AAAKX                AAAMX  \\\n",
      "customer_id                                                                  \n",
      "50037                       0.00                 0.00                 0.00   \n",
      "50038                       0.00                 0.00                 0.00   \n",
      "50039                       0.00                 0.00                 0.00   \n",
      "50040                       0.00                 0.00                 0.00   \n",
      "50041                       0.00                 0.00                 0.00   \n",
      "\n",
      "symbol                     AAASX                AAATX                AABAX  \\\n",
      "customer_id                                                                  \n",
      "50037                       0.00                 0.00                 0.00   \n",
      "50038                       0.00                 0.00                 0.00   \n",
      "50039                       0.00                 0.00                 0.00   \n",
      "50040                       0.00                 0.00                 0.00   \n",
      "50041                       0.00                 0.00                 0.00   \n",
      "\n",
      "symbol                     AABEX  ...                YASSX  \\\n",
      "customer_id                       ...                        \n",
      "50037                       0.00  ...                 0.00   \n",
      "50038                       0.00  ...                 0.00   \n",
      "50039                       0.00  ...                 0.00   \n",
      "50040                       0.00  ...                 0.00   \n",
      "50041                       0.00  ...                 0.00   \n",
      "\n",
      "symbol                     YFSIX                YOVLX                ZDIVX  \\\n",
      "customer_id                                                                  \n",
      "50037                       0.00                 0.00                 0.00   \n",
      "50038                       0.00                 0.00                 0.00   \n",
      "50039                       0.00                 0.00                 0.00   \n",
      "50040                       0.00                 0.00                 0.00   \n",
      "50041                       0.00                 0.00                 0.00   \n",
      "\n",
      "symbol                     ZEOIX                ZFLIX                ZSCCX  \\\n",
      "customer_id                                                                  \n",
      "50037                       0.00                 0.00                 0.00   \n",
      "50038                       0.00                 0.00                 0.00   \n",
      "50039                       0.00                 0.00                 0.00   \n",
      "50040                       0.00                 0.00                 0.00   \n",
      "50041                       0.00                 0.00                 0.00   \n",
      "\n",
      "symbol                     ZSCIX                ZVGIX                ZVNIX  \n",
      "customer_id                                                                 \n",
      "50037                       0.00                 0.00                 0.00  \n",
      "50038                       0.00                 0.00                 0.00  \n",
      "50039                       0.00                 0.00                 0.00  \n",
      "50040                       0.00                 0.00                 0.00  \n",
      "50041                       0.00                 0.00                 0.00  \n",
      "\n",
      "[5 rows x 11905 columns]\n",
      "symbol                     AAAAX                AAAHX                AAAIX  \\\n",
      "customer_id                                                                  \n",
      "50037                       0.00                 0.00                 0.00   \n",
      "50038                       0.00                 0.00                 0.00   \n",
      "50039                       0.00                 0.00                 0.00   \n",
      "50040                       0.00                 0.00                 0.00   \n",
      "50041                       0.00                 0.00                 0.00   \n",
      "\n",
      "symbol                     AAAJX                AAAKX                AAAMX  \\\n",
      "customer_id                                                                  \n",
      "50037                       0.00                 0.00                 0.00   \n",
      "50038                       0.00                 0.00                 0.00   \n",
      "50039                       0.00                 0.00                 0.00   \n",
      "50040                       0.00                 0.00                 0.00   \n",
      "50041                       0.00                 0.00                 0.00   \n",
      "\n",
      "symbol                     AAASX                AAATX                AABAX  \\\n",
      "customer_id                                                                  \n",
      "50037                       0.00                 0.00                 0.00   \n",
      "50038                       0.00                 0.00                 0.00   \n",
      "50039                       0.00                 0.00                 0.00   \n",
      "50040                       0.00                 0.00                 0.00   \n",
      "50041                       0.00                 0.00                 0.00   \n",
      "\n",
      "symbol                     AABEX  ...                YASSX  \\\n",
      "customer_id                       ...                        \n",
      "50037                       0.00  ...                 0.00   \n",
      "50038                       0.00  ...                 0.00   \n",
      "50039                       0.00  ...                 0.00   \n",
      "50040                       0.00  ...                 0.00   \n",
      "50041                       0.00  ...                 0.00   \n",
      "\n",
      "symbol                     YFSIX                YOVLX                ZDIVX  \\\n",
      "customer_id                                                                  \n",
      "50037                       0.00                 0.00                 0.00   \n",
      "50038                       0.00                 0.00                 0.00   \n",
      "50039                       0.00                 0.00                 0.00   \n",
      "50040                       0.00                 0.00                 0.00   \n",
      "50041                       0.00                 0.00                 0.00   \n",
      "\n",
      "symbol                     ZEOIX                ZFLIX                ZSCCX  \\\n",
      "customer_id                                                                  \n",
      "50037                       0.00                 0.00                 0.00   \n",
      "50038                       0.00                 0.00                 0.00   \n",
      "50039                       0.00                 0.00                 0.00   \n",
      "50040                       0.00                 0.00                 0.00   \n",
      "50041                       0.00                 0.00                 0.00   \n",
      "\n",
      "symbol                     ZSCIX                ZVGIX                ZVNIX  \n",
      "customer_id                                                                 \n",
      "50037                       0.00                 0.00                 0.00  \n",
      "50038                       0.00                 0.00                 0.00  \n",
      "50039                       0.00                 0.00                 0.00  \n",
      "50040                       0.00                 0.00                 0.00  \n",
      "50041                       0.00                 0.00                 0.00  \n",
      "\n",
      "[5 rows x 11905 columns]\n"
     ]
    }
   ],
   "source": [
    "print(df_cust_fund_er_low_matrix.head())\n",
    "print(df_cust_fund_er_medium_matrix.head())\n",
    "print(df_cust_fund_er_high_matrix.head())"
   ],
   "metadata": {
    "collapsed": false,
    "pycharm": {
     "name": "#%%\n"
    }
   }
  },
  {
   "cell_type": "markdown",
   "source": [
    "###### 3.3.4 Crate a matrix to hold Customer-Fund Sale Opportunity"
   ],
   "metadata": {
    "collapsed": false
   }
  },
  {
   "cell_type": "code",
   "execution_count": 52,
   "outputs": [],
   "source": [
    "input_df = pd.merge(df_cust_fund_interactions, df_customer, on='customer_id')[['customer_id', 'symbol', 'sale_opportunity']].drop_duplicates()\n",
    "df_cust_fund_sale_matrix = create_feature_matrix(input_df, 'customer_id', 'symbol', 'sale_opportunity')"
   ],
   "metadata": {
    "collapsed": false,
    "pycharm": {
     "name": "#%%\n"
    }
   }
  },
  {
   "cell_type": "code",
   "execution_count": 53,
   "outputs": [
    {
     "data": {
      "text/plain": "symbol                     AAAAX                AAAHX                AAAIX  \\\ncustomer_id                                                                  \n50037                       0.00                 0.00                 0.00   \n50038                       0.00                 0.00                 0.00   \n50039                       0.00                 0.00                 0.00   \n50040                       0.00                 0.00                 0.00   \n50041                       0.00                 0.00                 0.00   \n\nsymbol                     AAAJX                AAAKX                AAAMX  \\\ncustomer_id                                                                  \n50037                       0.00                 0.00                 0.00   \n50038                       0.00                 0.00                 0.00   \n50039                       0.00                 0.00                 0.00   \n50040                       0.00                 0.00                 0.00   \n50041                       0.00                 0.00                 0.00   \n\nsymbol                     AAASX                AAATX                AABAX  \\\ncustomer_id                                                                  \n50037                       0.00                 0.00                 0.00   \n50038                       0.00                 0.00                 0.00   \n50039                       0.00                 0.00                 0.00   \n50040                       0.00                 0.00                 0.00   \n50041                       0.00                 0.00                 0.00   \n\nsymbol                     AABEX  ...                YASSX  \\\ncustomer_id                       ...                        \n50037                       0.00  ...                 0.00   \n50038                       0.00  ...                 0.00   \n50039                       0.00  ...                 0.00   \n50040                       0.00  ...                 0.00   \n50041                       0.00  ...                 0.00   \n\nsymbol                     YFSIX                YOVLX                ZDIVX  \\\ncustomer_id                                                                  \n50037                       0.00                 0.00                 0.00   \n50038                       0.00                 0.00                 0.00   \n50039                       0.00                 0.00                 0.00   \n50040                       0.00                 0.00                 0.00   \n50041                       0.00                 0.00                 0.00   \n\nsymbol                     ZEOIX                ZFLIX                ZSCCX  \\\ncustomer_id                                                                  \n50037                       0.00                 0.00                 0.00   \n50038                       0.00                 0.00                 0.00   \n50039                       0.00                 0.00                 0.00   \n50040                       0.00                 0.00                 0.00   \n50041                       0.00                 0.00                 0.00   \n\nsymbol                     ZSCIX                ZVGIX                ZVNIX  \ncustomer_id                                                                 \n50037                       0.00                 0.00                 0.00  \n50038                       0.00                 0.00                 0.00  \n50039                       0.00                 0.00                 0.00  \n50040                       0.00                 0.00                 0.00  \n50041                       0.00                 0.00                 0.00  \n\n[5 rows x 11905 columns]",
      "text/html": "<div>\n<style scoped>\n    .dataframe tbody tr th:only-of-type {\n        vertical-align: middle;\n    }\n\n    .dataframe tbody tr th {\n        vertical-align: top;\n    }\n\n    .dataframe thead th {\n        text-align: right;\n    }\n</style>\n<table border=\"1\" class=\"dataframe\">\n  <thead>\n    <tr style=\"text-align: right;\">\n      <th>symbol</th>\n      <th>AAAAX</th>\n      <th>AAAHX</th>\n      <th>AAAIX</th>\n      <th>AAAJX</th>\n      <th>AAAKX</th>\n      <th>AAAMX</th>\n      <th>AAASX</th>\n      <th>AAATX</th>\n      <th>AABAX</th>\n      <th>AABEX</th>\n      <th>...</th>\n      <th>YASSX</th>\n      <th>YFSIX</th>\n      <th>YOVLX</th>\n      <th>ZDIVX</th>\n      <th>ZEOIX</th>\n      <th>ZFLIX</th>\n      <th>ZSCCX</th>\n      <th>ZSCIX</th>\n      <th>ZVGIX</th>\n      <th>ZVNIX</th>\n    </tr>\n    <tr>\n      <th>customer_id</th>\n      <th></th>\n      <th></th>\n      <th></th>\n      <th></th>\n      <th></th>\n      <th></th>\n      <th></th>\n      <th></th>\n      <th></th>\n      <th></th>\n      <th></th>\n      <th></th>\n      <th></th>\n      <th></th>\n      <th></th>\n      <th></th>\n      <th></th>\n      <th></th>\n      <th></th>\n      <th></th>\n      <th></th>\n    </tr>\n  </thead>\n  <tbody>\n    <tr>\n      <th>50037</th>\n      <td>0.00</td>\n      <td>0.00</td>\n      <td>0.00</td>\n      <td>0.00</td>\n      <td>0.00</td>\n      <td>0.00</td>\n      <td>0.00</td>\n      <td>0.00</td>\n      <td>0.00</td>\n      <td>0.00</td>\n      <td>...</td>\n      <td>0.00</td>\n      <td>0.00</td>\n      <td>0.00</td>\n      <td>0.00</td>\n      <td>0.00</td>\n      <td>0.00</td>\n      <td>0.00</td>\n      <td>0.00</td>\n      <td>0.00</td>\n      <td>0.00</td>\n    </tr>\n    <tr>\n      <th>50038</th>\n      <td>0.00</td>\n      <td>0.00</td>\n      <td>0.00</td>\n      <td>0.00</td>\n      <td>0.00</td>\n      <td>0.00</td>\n      <td>0.00</td>\n      <td>0.00</td>\n      <td>0.00</td>\n      <td>0.00</td>\n      <td>...</td>\n      <td>0.00</td>\n      <td>0.00</td>\n      <td>0.00</td>\n      <td>0.00</td>\n      <td>0.00</td>\n      <td>0.00</td>\n      <td>0.00</td>\n      <td>0.00</td>\n      <td>0.00</td>\n      <td>0.00</td>\n    </tr>\n    <tr>\n      <th>50039</th>\n      <td>0.00</td>\n      <td>0.00</td>\n      <td>0.00</td>\n      <td>0.00</td>\n      <td>0.00</td>\n      <td>0.00</td>\n      <td>0.00</td>\n      <td>0.00</td>\n      <td>0.00</td>\n      <td>0.00</td>\n      <td>...</td>\n      <td>0.00</td>\n      <td>0.00</td>\n      <td>0.00</td>\n      <td>0.00</td>\n      <td>0.00</td>\n      <td>0.00</td>\n      <td>0.00</td>\n      <td>0.00</td>\n      <td>0.00</td>\n      <td>0.00</td>\n    </tr>\n    <tr>\n      <th>50040</th>\n      <td>0.00</td>\n      <td>0.00</td>\n      <td>0.00</td>\n      <td>0.00</td>\n      <td>0.00</td>\n      <td>0.00</td>\n      <td>0.00</td>\n      <td>0.00</td>\n      <td>0.00</td>\n      <td>0.00</td>\n      <td>...</td>\n      <td>0.00</td>\n      <td>0.00</td>\n      <td>0.00</td>\n      <td>0.00</td>\n      <td>0.00</td>\n      <td>0.00</td>\n      <td>0.00</td>\n      <td>0.00</td>\n      <td>0.00</td>\n      <td>0.00</td>\n    </tr>\n    <tr>\n      <th>50041</th>\n      <td>0.00</td>\n      <td>0.00</td>\n      <td>0.00</td>\n      <td>0.00</td>\n      <td>0.00</td>\n      <td>0.00</td>\n      <td>0.00</td>\n      <td>0.00</td>\n      <td>0.00</td>\n      <td>0.00</td>\n      <td>...</td>\n      <td>0.00</td>\n      <td>0.00</td>\n      <td>0.00</td>\n      <td>0.00</td>\n      <td>0.00</td>\n      <td>0.00</td>\n      <td>0.00</td>\n      <td>0.00</td>\n      <td>0.00</td>\n      <td>0.00</td>\n    </tr>\n  </tbody>\n</table>\n<p>5 rows × 11905 columns</p>\n</div>"
     },
     "execution_count": 53,
     "metadata": {},
     "output_type": "execute_result"
    }
   ],
   "source": [
    "df_cust_fund_sale_matrix.head()"
   ],
   "metadata": {
    "collapsed": false,
    "pycharm": {
     "name": "#%%\n"
    }
   }
  },
  {
   "cell_type": "markdown",
   "source": [
    "###### 3.3.5 Crate a matrix to hold Customer-Fund Recommendation based on high net sales"
   ],
   "metadata": {
    "collapsed": false
   }
  },
  {
   "cell_type": "code",
   "execution_count": 55,
   "outputs": [],
   "source": [
    "# input_df = df_cust_fund_interactions.pivot_table(index='customer_id', columns='symbol', values='fund_recommended', aggfunc='sum').fillna(value=0)\n",
    "df_cust_fund_rec_matrix = create_feature_matrix(df_cust_fund_interactions, 'customer_id', 'symbol', 'fund_recommended')"
   ],
   "metadata": {
    "collapsed": false,
    "pycharm": {
     "name": "#%%\n"
    }
   }
  },
  {
   "cell_type": "code",
   "execution_count": 56,
   "outputs": [
    {
     "name": "stdout",
     "output_type": "stream",
     "text": [
      "<class 'pandas.core.frame.DataFrame'>\n"
     ]
    },
    {
     "data": {
      "text/plain": "symbol                     AAAAX                AAAHX                AAAIX  \\\ncustomer_id                                                                  \n50037                       0.00                 0.00                 0.00   \n50038                       0.00                 0.00                 0.00   \n50039                       0.00                 0.00                 0.00   \n50040                       0.00                 0.00                 0.00   \n50041                       0.00                 0.00                 0.00   \n\nsymbol                     AAAJX                AAAKX                AAAMX  \\\ncustomer_id                                                                  \n50037                       0.00                 0.00                 0.00   \n50038                       0.00                 0.00                 0.00   \n50039                       0.00                 0.00                 0.00   \n50040                       0.00                 0.00                 0.00   \n50041                       0.00                 0.00                 0.00   \n\nsymbol                     AAASX                AAATX                AABAX  \\\ncustomer_id                                                                  \n50037                       0.00                 0.00                 0.00   \n50038                       0.00                 0.00                 0.00   \n50039                       0.00                 0.00                 0.00   \n50040                       0.00                 0.00                 0.00   \n50041                       0.00                 0.00                 0.00   \n\nsymbol                     AABEX  ...                YASSX  \\\ncustomer_id                       ...                        \n50037                       0.00  ...                 0.00   \n50038                       0.00  ...                 0.00   \n50039                       0.00  ...                 0.00   \n50040                       0.00  ...                 0.00   \n50041                       0.00  ...                 0.00   \n\nsymbol                     YFSIX                YOVLX                ZDIVX  \\\ncustomer_id                                                                  \n50037                       0.00                 0.00                 0.00   \n50038                       0.00                 0.00                 0.00   \n50039                       0.00                 0.00                 0.00   \n50040                       0.00                 0.00                 0.00   \n50041                       0.00                 0.00                 0.00   \n\nsymbol                     ZEOIX                ZFLIX                ZSCCX  \\\ncustomer_id                                                                  \n50037                       0.00                 0.00                 0.00   \n50038                       0.00                 0.00                 0.00   \n50039                       0.00                 0.00                 0.00   \n50040                       0.00                 0.00                 0.00   \n50041                       0.00                 0.00                 0.00   \n\nsymbol                     ZSCIX                ZVGIX                ZVNIX  \ncustomer_id                                                                 \n50037                       0.00                 0.00                 0.00  \n50038                       0.00                 0.00                 0.00  \n50039                       0.00                 0.00                 0.00  \n50040                       0.00                 0.00                 0.00  \n50041                       0.00                 0.00                 0.00  \n\n[5 rows x 11905 columns]",
      "text/html": "<div>\n<style scoped>\n    .dataframe tbody tr th:only-of-type {\n        vertical-align: middle;\n    }\n\n    .dataframe tbody tr th {\n        vertical-align: top;\n    }\n\n    .dataframe thead th {\n        text-align: right;\n    }\n</style>\n<table border=\"1\" class=\"dataframe\">\n  <thead>\n    <tr style=\"text-align: right;\">\n      <th>symbol</th>\n      <th>AAAAX</th>\n      <th>AAAHX</th>\n      <th>AAAIX</th>\n      <th>AAAJX</th>\n      <th>AAAKX</th>\n      <th>AAAMX</th>\n      <th>AAASX</th>\n      <th>AAATX</th>\n      <th>AABAX</th>\n      <th>AABEX</th>\n      <th>...</th>\n      <th>YASSX</th>\n      <th>YFSIX</th>\n      <th>YOVLX</th>\n      <th>ZDIVX</th>\n      <th>ZEOIX</th>\n      <th>ZFLIX</th>\n      <th>ZSCCX</th>\n      <th>ZSCIX</th>\n      <th>ZVGIX</th>\n      <th>ZVNIX</th>\n    </tr>\n    <tr>\n      <th>customer_id</th>\n      <th></th>\n      <th></th>\n      <th></th>\n      <th></th>\n      <th></th>\n      <th></th>\n      <th></th>\n      <th></th>\n      <th></th>\n      <th></th>\n      <th></th>\n      <th></th>\n      <th></th>\n      <th></th>\n      <th></th>\n      <th></th>\n      <th></th>\n      <th></th>\n      <th></th>\n      <th></th>\n      <th></th>\n    </tr>\n  </thead>\n  <tbody>\n    <tr>\n      <th>50037</th>\n      <td>0.00</td>\n      <td>0.00</td>\n      <td>0.00</td>\n      <td>0.00</td>\n      <td>0.00</td>\n      <td>0.00</td>\n      <td>0.00</td>\n      <td>0.00</td>\n      <td>0.00</td>\n      <td>0.00</td>\n      <td>...</td>\n      <td>0.00</td>\n      <td>0.00</td>\n      <td>0.00</td>\n      <td>0.00</td>\n      <td>0.00</td>\n      <td>0.00</td>\n      <td>0.00</td>\n      <td>0.00</td>\n      <td>0.00</td>\n      <td>0.00</td>\n    </tr>\n    <tr>\n      <th>50038</th>\n      <td>0.00</td>\n      <td>0.00</td>\n      <td>0.00</td>\n      <td>0.00</td>\n      <td>0.00</td>\n      <td>0.00</td>\n      <td>0.00</td>\n      <td>0.00</td>\n      <td>0.00</td>\n      <td>0.00</td>\n      <td>...</td>\n      <td>0.00</td>\n      <td>0.00</td>\n      <td>0.00</td>\n      <td>0.00</td>\n      <td>0.00</td>\n      <td>0.00</td>\n      <td>0.00</td>\n      <td>0.00</td>\n      <td>0.00</td>\n      <td>0.00</td>\n    </tr>\n    <tr>\n      <th>50039</th>\n      <td>0.00</td>\n      <td>0.00</td>\n      <td>0.00</td>\n      <td>0.00</td>\n      <td>0.00</td>\n      <td>0.00</td>\n      <td>0.00</td>\n      <td>0.00</td>\n      <td>0.00</td>\n      <td>0.00</td>\n      <td>...</td>\n      <td>0.00</td>\n      <td>0.00</td>\n      <td>0.00</td>\n      <td>0.00</td>\n      <td>0.00</td>\n      <td>0.00</td>\n      <td>0.00</td>\n      <td>0.00</td>\n      <td>0.00</td>\n      <td>0.00</td>\n    </tr>\n    <tr>\n      <th>50040</th>\n      <td>0.00</td>\n      <td>0.00</td>\n      <td>0.00</td>\n      <td>0.00</td>\n      <td>0.00</td>\n      <td>0.00</td>\n      <td>0.00</td>\n      <td>0.00</td>\n      <td>0.00</td>\n      <td>0.00</td>\n      <td>...</td>\n      <td>0.00</td>\n      <td>0.00</td>\n      <td>0.00</td>\n      <td>0.00</td>\n      <td>0.00</td>\n      <td>0.00</td>\n      <td>0.00</td>\n      <td>0.00</td>\n      <td>0.00</td>\n      <td>0.00</td>\n    </tr>\n    <tr>\n      <th>50041</th>\n      <td>0.00</td>\n      <td>0.00</td>\n      <td>0.00</td>\n      <td>0.00</td>\n      <td>0.00</td>\n      <td>0.00</td>\n      <td>0.00</td>\n      <td>0.00</td>\n      <td>0.00</td>\n      <td>0.00</td>\n      <td>...</td>\n      <td>0.00</td>\n      <td>0.00</td>\n      <td>0.00</td>\n      <td>0.00</td>\n      <td>0.00</td>\n      <td>0.00</td>\n      <td>0.00</td>\n      <td>0.00</td>\n      <td>0.00</td>\n      <td>0.00</td>\n    </tr>\n  </tbody>\n</table>\n<p>5 rows × 11905 columns</p>\n</div>"
     },
     "execution_count": 56,
     "metadata": {},
     "output_type": "execute_result"
    }
   ],
   "source": [
    "print(type(df_cust_fund_rec_matrix))\n",
    "df_cust_fund_rec_matrix.head()"
   ],
   "metadata": {
    "collapsed": false,
    "pycharm": {
     "name": "#%%\n"
    }
   }
  }
 ],
 "metadata": {
  "kernelspec": {
   "display_name": "Python 3",
   "language": "python",
   "name": "python3"
  },
  "language_info": {
   "codemirror_mode": {
    "name": "ipython",
    "version": 2
   },
   "file_extension": ".py",
   "mimetype": "text/x-python",
   "name": "python",
   "nbconvert_exporter": "python",
   "pygments_lexer": "ipython2",
   "version": "2.7.6"
  }
 },
 "nbformat": 4,
 "nbformat_minor": 0
}